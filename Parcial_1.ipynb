{
  "cells": [
    {
      "cell_type": "markdown",
      "metadata": {
        "id": "pVsvFbfrVxxh"
      },
      "source": [
        "# Parcial 1 (Tipo A)\n",
        "- Deben mantener la cámara encendida a lo largo del parcial.\n",
        "- El examen tiene una duración máxima de 2 horas 50 minutos y se debe subir a Bloque Neón antes de las 8:55pm del 28 de septiembre del 2022.\n",
        "- Esta prueba es INDIVIDUAL. El intercambio de información con otro estudiante por cualquier medio está terminantemente prohibido. Cualquier irregularidad con respecto a la regla anterior será considerada fraude.\n",
        "- Responda el examen en los espacios proporcionados. Cada pregunta tiene una celda de respuesta marcada.\n",
        "- IMPORTANTE: Soy consciente de que cualquier tipo de fraude en los exámenes es considerado como una falta grave en la Universidad. Al entregar este examen doy expreso testimonio de que este trabajo fue desarrollado de acuerdo con las normas establecidas. Del mismo modo, aseguro que no participe en ningún tipo de fraude.\n",
        "- Materiales y herramientas permitidas en el parcial: \n",
        "Puede usar las presentaciones/talleres de clase. Puede usar calculadora para solucionar puntos que requieran calculo.\n",
        "\n"
      ]
    },
    {
      "cell_type": "markdown",
      "metadata": {
        "id": "rp5_-KjUVxxn"
      },
      "source": [
        "## Punto 1: Ejercicio práctico (60 pts)"
      ]
    },
    {
      "cell_type": "markdown",
      "metadata": {
        "id": "hhfFJPHGVxxo"
      },
      "source": [
        "Una corporación bancaria le entrega información sobre clientes a los cuales se les ha realizado o se le ha rechazado un prestamo. Le piden a ud que entrene un modelo de ML con esos datos con el fin de clasificar a los clientes y ahorrar tiempo para futuros prestamos.\n",
        "\n",
        "El dataset contiene los siguientes datos:\n",
        "* ApplicantIncome: Ingresos del solicitante.\n",
        "* CoapplicantIncome: Ingresos del co-aplicante.\n",
        "* LoanAmount: Monto del prestamo.\n",
        "* Loan_Amount_Term: El plazo de devolución del préstamo (en días).\n",
        "* Credit_History: Registros de historial de crédito anterior (0: mal historial crediticio, 1: buen historial crediticio).\n",
        "* Gender: Género.\n",
        "* Married: Si es casado.\n",
        "* Dependents_0,Dependents_1,Dependents_2,Dependents_3+ : Booleano para definir el numero de miembros en la familia.\n",
        "* Education: Applicant education/qualification.\n",
        "* Self_Employed: Situación laboral del solicitante.\n",
        "* Property_Area_Rural,Property_Area_Semiurban,Property_Area_Urban: Booleano para definir la ubicacion de la propiedad.\n",
        "* Loan_Status: Estado del préstamo (1: aceptado, 0: no aceptado)."
      ]
    },
    {
      "cell_type": "code",
      "execution_count": null,
      "metadata": {
        "id": "Lojve_UkVxxp"
      },
      "outputs": [],
      "source": [
        "# POR FAVOR, NO AGREGAR NI ELIMINAR LIBRERIAS. TODAS LAS FUNCIONALIDADES NECESARIAS ESTAN INCLUIDAS EN LAS LIBRERIAS QUE ESTAN ESTIPULADAS EN ESTA CELDA\n",
        "import pandas as pd\n",
        "import matplotlib.pyplot as plt\n",
        "import numpy as np\n",
        "import seaborn as sns\n",
        "from sklearn.model_selection import GridSearchCV\n",
        "from sklearn.preprocessing import StandardScaler, OneHotEncoder, LabelEncoder\n",
        "from sklearn.svm import SVC\n",
        "from sklearn.ensemble import RandomForestClassifier\n",
        "from sklearn.linear_model import LogisticRegression\n",
        "from sklearn.model_selection import train_test_split, cross_validate\n",
        "from sklearn.metrics import accuracy_score, classification_report, recall_score, precision_score, f1_score, confusion_matrix, ConfusionMatrixDisplay"
      ]
    },
    {
      "cell_type": "markdown",
      "metadata": {
        "id": "bojJt4FWVxyR"
      },
      "source": [
        "### 1.1. Análisis y preparación de los datos de los datos (9 pts)"
      ]
    },
    {
      "cell_type": "markdown",
      "metadata": {
        "id": "ZDeA1VuTVxyR"
      },
      "source": [
        "1.1.1 Econtrar nulos, ver si el dataset esta balanceado, encontrar columnas que no aporten al problema (3pts)"
      ]
    },
    {
      "cell_type": "code",
      "execution_count": null,
      "metadata": {
        "colab": {
          "base_uri": "https://localhost:8080/",
          "height": 206
        },
        "id": "ejafBu9PVxyS",
        "outputId": "2158e4a3-fe50-4e78-cab3-0f9132c87bcc"
      },
      "outputs": [
        {
          "output_type": "execute_result",
          "data": {
            "text/plain": [
              "   ApplicantIncome  CoapplicantIncome  LoanAmount  Married  \\\n",
              "0        76.478755           0.000000   12.100089        0   \n",
              "1        77.459667           0.000000   11.874342        0   \n",
              "2        43.046487          53.291650   10.677078        0   \n",
              "3        70.356236           0.000000   11.180340        0   \n",
              "4        50.990195          59.160798   10.723805        1   \n",
              "\n",
              "   Property_Area_Rural  Property_Area_Semiurban  Property_Area_Urban  \\\n",
              "0                    0                        0                    1   \n",
              "1                    0                        0                    1   \n",
              "2                    1                        0                    0   \n",
              "3                    0                        0                    1   \n",
              "4                    0                        0                    1   \n",
              "\n",
              "   Loan_Status  \n",
              "0         True  \n",
              "1         True  \n",
              "2        False  \n",
              "3         True  \n",
              "4         True  "
            ],
            "text/html": [
              "\n",
              "  <div id=\"df-cc29961f-31e2-4b0e-9972-ea178d9c5fbb\">\n",
              "    <div class=\"colab-df-container\">\n",
              "      <div>\n",
              "<style scoped>\n",
              "    .dataframe tbody tr th:only-of-type {\n",
              "        vertical-align: middle;\n",
              "    }\n",
              "\n",
              "    .dataframe tbody tr th {\n",
              "        vertical-align: top;\n",
              "    }\n",
              "\n",
              "    .dataframe thead th {\n",
              "        text-align: right;\n",
              "    }\n",
              "</style>\n",
              "<table border=\"1\" class=\"dataframe\">\n",
              "  <thead>\n",
              "    <tr style=\"text-align: right;\">\n",
              "      <th></th>\n",
              "      <th>ApplicantIncome</th>\n",
              "      <th>CoapplicantIncome</th>\n",
              "      <th>LoanAmount</th>\n",
              "      <th>Married</th>\n",
              "      <th>Property_Area_Rural</th>\n",
              "      <th>Property_Area_Semiurban</th>\n",
              "      <th>Property_Area_Urban</th>\n",
              "      <th>Loan_Status</th>\n",
              "    </tr>\n",
              "  </thead>\n",
              "  <tbody>\n",
              "    <tr>\n",
              "      <th>0</th>\n",
              "      <td>76.478755</td>\n",
              "      <td>0.000000</td>\n",
              "      <td>12.100089</td>\n",
              "      <td>0</td>\n",
              "      <td>0</td>\n",
              "      <td>0</td>\n",
              "      <td>1</td>\n",
              "      <td>True</td>\n",
              "    </tr>\n",
              "    <tr>\n",
              "      <th>1</th>\n",
              "      <td>77.459667</td>\n",
              "      <td>0.000000</td>\n",
              "      <td>11.874342</td>\n",
              "      <td>0</td>\n",
              "      <td>0</td>\n",
              "      <td>0</td>\n",
              "      <td>1</td>\n",
              "      <td>True</td>\n",
              "    </tr>\n",
              "    <tr>\n",
              "      <th>2</th>\n",
              "      <td>43.046487</td>\n",
              "      <td>53.291650</td>\n",
              "      <td>10.677078</td>\n",
              "      <td>0</td>\n",
              "      <td>1</td>\n",
              "      <td>0</td>\n",
              "      <td>0</td>\n",
              "      <td>False</td>\n",
              "    </tr>\n",
              "    <tr>\n",
              "      <th>3</th>\n",
              "      <td>70.356236</td>\n",
              "      <td>0.000000</td>\n",
              "      <td>11.180340</td>\n",
              "      <td>0</td>\n",
              "      <td>0</td>\n",
              "      <td>0</td>\n",
              "      <td>1</td>\n",
              "      <td>True</td>\n",
              "    </tr>\n",
              "    <tr>\n",
              "      <th>4</th>\n",
              "      <td>50.990195</td>\n",
              "      <td>59.160798</td>\n",
              "      <td>10.723805</td>\n",
              "      <td>1</td>\n",
              "      <td>0</td>\n",
              "      <td>0</td>\n",
              "      <td>1</td>\n",
              "      <td>True</td>\n",
              "    </tr>\n",
              "  </tbody>\n",
              "</table>\n",
              "</div>\n",
              "      <button class=\"colab-df-convert\" onclick=\"convertToInteractive('df-cc29961f-31e2-4b0e-9972-ea178d9c5fbb')\"\n",
              "              title=\"Convert this dataframe to an interactive table.\"\n",
              "              style=\"display:none;\">\n",
              "        \n",
              "  <svg xmlns=\"http://www.w3.org/2000/svg\" height=\"24px\"viewBox=\"0 0 24 24\"\n",
              "       width=\"24px\">\n",
              "    <path d=\"M0 0h24v24H0V0z\" fill=\"none\"/>\n",
              "    <path d=\"M18.56 5.44l.94 2.06.94-2.06 2.06-.94-2.06-.94-.94-2.06-.94 2.06-2.06.94zm-11 1L8.5 8.5l.94-2.06 2.06-.94-2.06-.94L8.5 2.5l-.94 2.06-2.06.94zm10 10l.94 2.06.94-2.06 2.06-.94-2.06-.94-.94-2.06-.94 2.06-2.06.94z\"/><path d=\"M17.41 7.96l-1.37-1.37c-.4-.4-.92-.59-1.43-.59-.52 0-1.04.2-1.43.59L10.3 9.45l-7.72 7.72c-.78.78-.78 2.05 0 2.83L4 21.41c.39.39.9.59 1.41.59.51 0 1.02-.2 1.41-.59l7.78-7.78 2.81-2.81c.8-.78.8-2.07 0-2.86zM5.41 20L4 18.59l7.72-7.72 1.47 1.35L5.41 20z\"/>\n",
              "  </svg>\n",
              "      </button>\n",
              "      \n",
              "  <style>\n",
              "    .colab-df-container {\n",
              "      display:flex;\n",
              "      flex-wrap:wrap;\n",
              "      gap: 12px;\n",
              "    }\n",
              "\n",
              "    .colab-df-convert {\n",
              "      background-color: #E8F0FE;\n",
              "      border: none;\n",
              "      border-radius: 50%;\n",
              "      cursor: pointer;\n",
              "      display: none;\n",
              "      fill: #1967D2;\n",
              "      height: 32px;\n",
              "      padding: 0 0 0 0;\n",
              "      width: 32px;\n",
              "    }\n",
              "\n",
              "    .colab-df-convert:hover {\n",
              "      background-color: #E2EBFA;\n",
              "      box-shadow: 0px 1px 2px rgba(60, 64, 67, 0.3), 0px 1px 3px 1px rgba(60, 64, 67, 0.15);\n",
              "      fill: #174EA6;\n",
              "    }\n",
              "\n",
              "    [theme=dark] .colab-df-convert {\n",
              "      background-color: #3B4455;\n",
              "      fill: #D2E3FC;\n",
              "    }\n",
              "\n",
              "    [theme=dark] .colab-df-convert:hover {\n",
              "      background-color: #434B5C;\n",
              "      box-shadow: 0px 1px 3px 1px rgba(0, 0, 0, 0.15);\n",
              "      filter: drop-shadow(0px 1px 2px rgba(0, 0, 0, 0.3));\n",
              "      fill: #FFFFFF;\n",
              "    }\n",
              "  </style>\n",
              "\n",
              "      <script>\n",
              "        const buttonEl =\n",
              "          document.querySelector('#df-cc29961f-31e2-4b0e-9972-ea178d9c5fbb button.colab-df-convert');\n",
              "        buttonEl.style.display =\n",
              "          google.colab.kernel.accessAllowed ? 'block' : 'none';\n",
              "\n",
              "        async function convertToInteractive(key) {\n",
              "          const element = document.querySelector('#df-cc29961f-31e2-4b0e-9972-ea178d9c5fbb');\n",
              "          const dataTable =\n",
              "            await google.colab.kernel.invokeFunction('convertToInteractive',\n",
              "                                                     [key], {});\n",
              "          if (!dataTable) return;\n",
              "\n",
              "          const docLinkHtml = 'Like what you see? Visit the ' +\n",
              "            '<a target=\"_blank\" href=https://colab.research.google.com/notebooks/data_table.ipynb>data table notebook</a>'\n",
              "            + ' to learn more about interactive tables.';\n",
              "          element.innerHTML = '';\n",
              "          dataTable['output_type'] = 'display_data';\n",
              "          await google.colab.output.renderOutput(dataTable, element);\n",
              "          const docLink = document.createElement('div');\n",
              "          docLink.innerHTML = docLinkHtml;\n",
              "          element.appendChild(docLink);\n",
              "        }\n",
              "      </script>\n",
              "    </div>\n",
              "  </div>\n",
              "  "
            ]
          },
          "metadata": {},
          "execution_count": 2
        }
      ],
      "source": [
        "df = pd.read_csv('https://raw.githubusercontent.com/juanalvarez123/ISIS-4219-parcial-1/main/Dataset/Prestamo_Bancario.csv')\n",
        "\n",
        "# El dataset no tiene nulos\n",
        "df.isnull().sum()\n",
        "\n",
        "# El dataset está balanceado\n",
        "df['Loan_Status'].value_counts()\n",
        "'''\n",
        "yes    112\n",
        "no     112\n",
        "Name: Loan_Status, dtype: int64\n",
        "'''\n",
        "\n",
        "# La columnas \"Loan_Amount_Term\", \"Credit_History\", \"Gender\", \"Dependents_0\",\n",
        "# \"Dependents_1\", \"Dependents_2\", \"Dependents_3+\", \"Education\" y \"Self_Employed\"\n",
        "# tienen un único valor, esas columnas se pueden eliminar, por ejemplo \"Gender\"\n",
        "# tiene solo el valor 'm'\n",
        "df['Gender'].unique()\n",
        "'''\n",
        "array(['m'], dtype=object)\n",
        "'''\n",
        "\n",
        "# Elimino las columnas\n",
        "df.drop('Loan_Amount_Term', axis=1, inplace=True)\n",
        "df.drop('Credit_History', axis=1, inplace=True)\n",
        "df.drop('Gender', axis=1, inplace=True)\n",
        "df.drop('Dependents_0', axis=1, inplace=True)\n",
        "df.drop('Dependents_1', axis=1, inplace=True)\n",
        "df.drop('Dependents_2', axis=1, inplace=True)\n",
        "df.drop('Dependents_3+', axis=1, inplace=True)\n",
        "df.drop('Education', axis=1, inplace=True)\n",
        "df.drop('Self_Employed', axis=1, inplace=True)\n",
        "\n",
        "# Solo \"Loan_Status\" tiene valores categóricos, voy a transformarlos para que\n",
        "# sean cuantificables\n",
        "df['Loan_Status'] = df['Loan_Status'].apply(lambda x: True if x == 'yes' else False)\n",
        "\n",
        "# Imprimo el dataset actualizado\n",
        "df.head(5)"
      ]
    },
    {
      "cell_type": "markdown",
      "metadata": {
        "id": "_xZk-upuVxyY"
      },
      "source": [
        "1.1.2 Separación de variable dependiente e independiente y separación de dataset en entrenmiento y prueba (3pts)\n",
        "\n",
        "**NOTA**: El conjunto de entrenamiento tendra el 75% de los datos, <<<< IMPORTANTE random_state = 2 >>>>"
      ]
    },
    {
      "cell_type": "code",
      "execution_count": null,
      "metadata": {
        "id": "MddjOiP7VxyZ"
      },
      "outputs": [],
      "source": [
        "x = df.drop('Loan_Status', axis=1, inplace=False)\n",
        "y = df['Loan_Status']\n",
        "\n",
        "x_train, x_test, y_train, y_test = train_test_split(x, y, train_size=0.75, random_state=2)"
      ]
    },
    {
      "cell_type": "markdown",
      "metadata": {
        "id": "ooFmAfW-Vxyd"
      },
      "source": [
        "1.1.3 Aplicar encoding(OneHot, LabelEncoder, Ordinal) a los datos(si es necesario) y estandarizarlos (3pts)  "
      ]
    },
    {
      "cell_type": "code",
      "execution_count": null,
      "metadata": {
        "colab": {
          "base_uri": "https://localhost:8080/"
        },
        "id": "qTbFIGIkVxye",
        "outputId": "434bd68e-5b99-46d6-a2b1-a9e524b58209"
      },
      "outputs": [
        {
          "output_type": "stream",
          "name": "stdout",
          "text": [
            "Train: (168, 7)\n",
            "Test: (56, 7)\n"
          ]
        }
      ],
      "source": [
        "# No es necesario aplicar encoding, solo la columna \"Loan_Status\" tenía valores\n",
        "# categóricos y ya fueron actualizados en el punto 1.1.1\n",
        "\n",
        "# Es necesario hacer la estandarización de valores\n",
        "x_columns_names = x.columns\n",
        "\n",
        "from sklearn.preprocessing import StandardScaler\n",
        "\n",
        "sc = StandardScaler()\n",
        "x_train = sc.fit_transform(x_train.values) # Solo para datos de entrenamiento se utiliza \"fit_transform\"\n",
        "x_test = sc.transform(x_test.values)\n",
        "\n",
        "# Los datos se transforman a dataframes para mayor comodidad\n",
        "x_train = pd.DataFrame(data=x_train, columns=x_columns_names)\n",
        "x_test = pd.DataFrame(data=x_test, columns=x_columns_names)\n",
        "\n",
        "# Se imprimen los tamaños de los datasets\n",
        "print(f'Train: {x_train.shape}')\n",
        "print(f'Test: {x_test.shape}')"
      ]
    },
    {
      "cell_type": "markdown",
      "metadata": {
        "id": "ZyZWY4NVVxye"
      },
      "source": [
        "### 1.2. Cross-validation (11 pts)\n"
      ]
    },
    {
      "cell_type": "markdown",
      "metadata": {
        "id": "EMpIn5yDVxyf"
      },
      "source": [
        "1.2.1 Realizar cross-validation con LogisticRegression(max_inter=500), RandomForest(n_estimator=500) y SVC(max_iter=500) usando 3-Folds. Definir las métricas a utilizar para comparar los modelos(usar 2 y Explicar el porqué) (6pts)"
      ]
    },
    {
      "cell_type": "code",
      "execution_count": null,
      "metadata": {
        "id": "des3l23gVxyf"
      },
      "outputs": [],
      "source": [
        "# Inicio con LogisticRegression\n",
        "logistic_regression = LogisticRegression(max_iter=500)\n",
        "logistic_regression.fit(x_train, y_train)\n",
        "\n",
        "# Continuo con RandomForest\n",
        "random_forest = RandomForestClassifier(n_estimators=500)\n",
        "random_forest.fit(x_train, y_train)\n",
        "\n",
        "# Sigo con SVC\n",
        "svc = SVC(max_iter=500)\n",
        "svc.fit(x_train, y_train)\n",
        "\n",
        "'''\n",
        "Las métricas a utilizar son recall y accuracy, las razones:\n",
        "* Elijo recall debido a que deseo minimizar los falsos negativos, es decir, clientes a los que no les debí haber hecho un préstamo.\n",
        "* Elijo accuracy debido a que los datos están balanceados y la métrica trabaja bien con datos balanceados.\n",
        "'''\n",
        "\n",
        "# Aplico cross validation\n",
        "cv_results_LR = cross_validate(logistic_regression, x_train, y_train, scoring=('recall', 'accuracy'), cv=3)\n",
        "cv_results_RF = cross_validate(random_forest, x_train, y_train, scoring=('recall', 'accuracy'), cv=3)\n",
        "cv_results_SVC = cross_validate(svc, x_train, y_train, scoring=('recall', 'accuracy'), cv=3)"
      ]
    },
    {
      "cell_type": "markdown",
      "metadata": {
        "id": "zXZ38gj7Vxyg"
      },
      "source": [
        "1.2.2 Imprimir los resultados obtenidos para cada modelo y seleccionar el mejor(Explicar el porqué) (5pts)"
      ]
    },
    {
      "cell_type": "code",
      "execution_count": null,
      "metadata": {
        "colab": {
          "base_uri": "https://localhost:8080/"
        },
        "id": "2mhkqwxWVxyg",
        "outputId": "5ac18737-1320-4885-a6bd-a405c3a0df4f"
      },
      "outputs": [
        {
          "output_type": "stream",
          "name": "stdout",
          "text": [
            "\n",
            "  Scores LogisticRegression:\n",
            "  Recall: [0.88888889 0.74074074 0.77777778]\n",
            "  Accuracy: [0.85714286 0.76785714 0.71428571]\n",
            "\n",
            "  Scores RandomForest:\n",
            "  Recall: [0.81481481 0.77777778 0.59259259]\n",
            "  Accuracy: [0.82142857 0.80357143 0.73214286]\n",
            "\n",
            "  Scores SVC:\n",
            "  Recall: [0.62962963 0.85185185 0.81481481]\n",
            "  Accuracy: [0.73214286 0.82142857 0.76785714]\n"
          ]
        }
      ],
      "source": [
        "# Imprimo los resultados\n",
        "def print_cross_validation_results(cv_results_LR, cv_results_RF, cv_results_SVC):\n",
        "  print(f'''\n",
        "  Scores LogisticRegression:\n",
        "  Recall: {cv_results_LR['test_recall']}\n",
        "  Accuracy: {cv_results_LR['test_accuracy']}''')\n",
        "\n",
        "  print(f'''\n",
        "  Scores RandomForest:\n",
        "  Recall: {cv_results_RF['test_recall']}\n",
        "  Accuracy: {cv_results_RF['test_accuracy']}''')\n",
        "\n",
        "  print(f'''\n",
        "  Scores SVC:\n",
        "  Recall: {cv_results_SVC['test_recall']}\n",
        "  Accuracy: {cv_results_SVC['test_accuracy']}''')\n",
        "\n",
        "print_cross_validation_results(cv_results_LR, cv_results_RF, cv_results_SVC)\n",
        "\n",
        "# El mejor modelo es el construido con SVC ya que tiene los mejores valores\n",
        "# para \"recall\" y \"accuracy\" comparados contra LogisticRegression y RandomForest"
      ]
    },
    {
      "cell_type": "markdown",
      "metadata": {
        "id": "GltqpA3CVxym"
      },
      "source": [
        "### 1.3. Grid-Search (15 pts)"
      ]
    },
    {
      "cell_type": "markdown",
      "metadata": {
        "id": "R3l_H7AWVxyn"
      },
      "source": [
        "1.3.1 Definir 3 hiper-parámetros cada uno con 2 valores diferentes (5pts)"
      ]
    },
    {
      "cell_type": "code",
      "execution_count": null,
      "metadata": {
        "id": "PgB5fbIAVxyp"
      },
      "outputs": [],
      "source": [
        "parameters = {\n",
        "    'C': [1.0, 5.0],\n",
        "    'kernel': ['rbf', 'poly'],\n",
        "    'gamma': ['scale', 'auto']\n",
        "}"
      ]
    },
    {
      "cell_type": "markdown",
      "metadata": {
        "id": "dfq5d-vGVxyp"
      },
      "source": [
        "1.3.2 Aplicar gridSearch al mejor modelo encondrado en el punto 1.2, usar las mismas métricas implementadas en cross-validation, seleccionar la mas importante y usarla en el parámetro 'refit', aplicar 3-folds al grid (5pts)"
      ]
    },
    {
      "cell_type": "code",
      "execution_count": null,
      "metadata": {
        "colab": {
          "base_uri": "https://localhost:8080/"
        },
        "id": "c5-e23vZVxyp",
        "outputId": "5c1a8e9d-a83f-4d74-fc7e-45e9e6ae2433"
      },
      "outputs": [
        {
          "output_type": "stream",
          "name": "stdout",
          "text": [
            "Fitting 3 folds for each of 8 candidates, totalling 24 fits\n",
            "[CV 1/3] END C=1.0, gamma=scale, kernel=rbf; accuracy: (test=0.732) recall: (test=0.630) total time=   0.0s\n",
            "[CV 2/3] END C=1.0, gamma=scale, kernel=rbf; accuracy: (test=0.821) recall: (test=0.852) total time=   0.0s\n",
            "[CV 3/3] END C=1.0, gamma=scale, kernel=rbf; accuracy: (test=0.768) recall: (test=0.815) total time=   0.0s\n",
            "[CV 1/3] END C=1.0, gamma=scale, kernel=poly; accuracy: (test=0.750) recall: (test=0.630) total time=   0.0s\n",
            "[CV 2/3] END C=1.0, gamma=scale, kernel=poly; accuracy: (test=0.768) recall: (test=0.704) total time=   0.0s\n",
            "[CV 3/3] END C=1.0, gamma=scale, kernel=poly; accuracy: (test=0.768) recall: (test=0.778) total time=   0.0s\n",
            "[CV 1/3] END C=1.0, gamma=auto, kernel=rbf; accuracy: (test=0.732) recall: (test=0.630) total time=   0.0s\n",
            "[CV 2/3] END C=1.0, gamma=auto, kernel=rbf; accuracy: (test=0.821) recall: (test=0.852) total time=   0.0s\n",
            "[CV 3/3] END C=1.0, gamma=auto, kernel=rbf; accuracy: (test=0.768) recall: (test=0.815) total time=   0.0s\n",
            "[CV 1/3] END C=1.0, gamma=auto, kernel=poly; accuracy: (test=0.768) recall: (test=0.667) total time=   0.0s\n",
            "[CV 2/3] END C=1.0, gamma=auto, kernel=poly; accuracy: (test=0.750) recall: (test=0.704) total time=   0.0s\n",
            "[CV 3/3] END C=1.0, gamma=auto, kernel=poly; accuracy: (test=0.768) recall: (test=0.778) total time=   0.0s\n",
            "[CV 1/3] END C=5.0, gamma=scale, kernel=rbf; accuracy: (test=0.786) recall: (test=0.741) total time=   0.0s\n",
            "[CV 2/3] END C=5.0, gamma=scale, kernel=rbf; accuracy: (test=0.804) recall: (test=0.741) total time=   0.0s\n",
            "[CV 3/3] END C=5.0, gamma=scale, kernel=rbf; accuracy: (test=0.768) recall: (test=0.778) total time=   0.0s\n",
            "[CV 1/3] END C=5.0, gamma=scale, kernel=poly; accuracy: (test=0.786) recall: (test=0.741) total time=   0.0s\n",
            "[CV 2/3] END C=5.0, gamma=scale, kernel=poly; accuracy: (test=0.732) recall: (test=0.630) total time=   0.0s\n",
            "[CV 3/3] END C=5.0, gamma=scale, kernel=poly; accuracy: (test=0.750) recall: (test=0.741) total time=   0.0s\n",
            "[CV 1/3] END C=5.0, gamma=auto, kernel=rbf; accuracy: (test=0.786) recall: (test=0.741) total time=   0.0s\n",
            "[CV 2/3] END C=5.0, gamma=auto, kernel=rbf; accuracy: (test=0.804) recall: (test=0.741) total time=   0.0s\n",
            "[CV 3/3] END C=5.0, gamma=auto, kernel=rbf; accuracy: (test=0.768) recall: (test=0.778) total time=   0.0s\n",
            "[CV 1/3] END C=5.0, gamma=auto, kernel=poly; accuracy: (test=0.786) recall: (test=0.741) total time=   0.0s\n",
            "[CV 2/3] END C=5.0, gamma=auto, kernel=poly; accuracy: (test=0.768) recall: (test=0.704) total time=   0.0s\n",
            "[CV 3/3] END C=5.0, gamma=auto, kernel=poly; accuracy: (test=0.750) recall: (test=0.741) total time=   0.0s\n"
          ]
        },
        {
          "output_type": "stream",
          "name": "stderr",
          "text": [
            "/usr/local/lib/python3.7/dist-packages/sklearn/svm/_base.py:289: ConvergenceWarning: Solver terminated early (max_iter=500).  Consider pre-processing your data with StandardScaler or MinMaxScaler.\n",
            "  ConvergenceWarning,\n",
            "/usr/local/lib/python3.7/dist-packages/sklearn/svm/_base.py:289: ConvergenceWarning: Solver terminated early (max_iter=500).  Consider pre-processing your data with StandardScaler or MinMaxScaler.\n",
            "  ConvergenceWarning,\n",
            "/usr/local/lib/python3.7/dist-packages/sklearn/svm/_base.py:289: ConvergenceWarning: Solver terminated early (max_iter=500).  Consider pre-processing your data with StandardScaler or MinMaxScaler.\n",
            "  ConvergenceWarning,\n",
            "/usr/local/lib/python3.7/dist-packages/sklearn/svm/_base.py:289: ConvergenceWarning: Solver terminated early (max_iter=500).  Consider pre-processing your data with StandardScaler or MinMaxScaler.\n",
            "  ConvergenceWarning,\n"
          ]
        },
        {
          "output_type": "execute_result",
          "data": {
            "text/plain": [
              "GridSearchCV(cv=3, estimator=SVC(max_iter=500),\n",
              "             param_grid={'C': [1.0, 5.0], 'gamma': ['scale', 'auto'],\n",
              "                         'kernel': ['rbf', 'poly']},\n",
              "             refit='accuracy', scoring=['recall', 'accuracy'], verbose=4)"
            ]
          },
          "metadata": {},
          "execution_count": 8
        }
      ],
      "source": [
        "grid = GridSearchCV(estimator = svc,\n",
        "                    param_grid = parameters,\n",
        "                    scoring = ['recall', 'accuracy'],\n",
        "                    refit = 'accuracy',\n",
        "                    verbose = 4,\n",
        "                    cv = 3)\n",
        "\n",
        "# Iniciar el entrenamiento\n",
        "grid.fit(x_train, y_train)"
      ]
    },
    {
      "cell_type": "markdown",
      "metadata": {
        "id": "luIg-ROCVxyq"
      },
      "source": [
        "1.3.3 Imprimir los mejores hiper-parámetros del mejor modelo encontrado con gridSearch (5pts)"
      ]
    },
    {
      "cell_type": "code",
      "execution_count": null,
      "metadata": {
        "colab": {
          "base_uri": "https://localhost:8080/"
        },
        "id": "sPTYV0CSVxyq",
        "outputId": "73b36281-9333-410e-c660-aa948550dfa7"
      },
      "outputs": [
        {
          "output_type": "stream",
          "name": "stdout",
          "text": [
            "Los parámetros del mejor modelo son: {'C': 5.0, 'gamma': 'scale', 'kernel': 'rbf'}\n"
          ]
        }
      ],
      "source": [
        "print(f'Los parámetros del mejor modelo son: {grid.best_params_}')"
      ]
    },
    {
      "cell_type": "markdown",
      "metadata": {
        "id": "_uFQSRFJVxyr"
      },
      "source": [
        "### 1.4. Análisis de resultados (25 pts)"
      ]
    },
    {
      "cell_type": "markdown",
      "metadata": {
        "id": "hac0YOiXVxyr"
      },
      "source": [
        "1.4.1 Realizar las predicciones del modelo encontrado en el punto 1.3 en el set de entrenamiento y de prueba, imprimir las métricas de Recall, Precisión, f1, Accuracy y la matriz de confunsión. (5pts)"
      ]
    },
    {
      "cell_type": "code",
      "execution_count": null,
      "metadata": {
        "colab": {
          "base_uri": "https://localhost:8080/",
          "height": 1000
        },
        "id": "X6ThZtKaVxyt",
        "outputId": "09bc36d6-d776-4fd1-8ea7-f46b9ab072f8"
      },
      "outputs": [
        {
          "output_type": "stream",
          "name": "stdout",
          "text": [
            "Métricas en test\n",
            "Sensibilidad (Recall): 0.7741935483870968\n",
            "Precisión: 0.8571428571428571\n",
            "Accuracy: 0.8035714285714286\n",
            "Score f1: 0.8135593220338982\n",
            "\n",
            "Todas las métricas:\n",
            "              precision    recall  f1-score   support\n",
            "\n",
            "       False       0.75      0.84      0.79        25\n",
            "        True       0.86      0.77      0.81        31\n",
            "\n",
            "    accuracy                           0.80        56\n",
            "   macro avg       0.80      0.81      0.80        56\n",
            "weighted avg       0.81      0.80      0.80        56\n",
            "\n"
          ]
        },
        {
          "output_type": "display_data",
          "data": {
            "text/plain": [
              "<Figure size 432x288 with 2 Axes>"
            ],
            "image/png": "[encoded data removed]"
          },
          "metadata": {
            "needs_background": "light"
          }
        },
        {
          "output_type": "stream",
          "name": "stdout",
          "text": [
            "Métricas en train\n",
            "Sensibilidad (Recall): 0.9012345679012346\n",
            "Precisión: 0.8795180722891566\n",
            "Accuracy: 0.8928571428571429\n",
            "Score f1: 0.8902439024390244\n",
            "\n",
            "Todas las métricas:\n",
            "              precision    recall  f1-score   support\n",
            "\n",
            "       False       0.91      0.89      0.90        87\n",
            "        True       0.88      0.90      0.89        81\n",
            "\n",
            "    accuracy                           0.89       168\n",
            "   macro avg       0.89      0.89      0.89       168\n",
            "weighted avg       0.89      0.89      0.89       168\n",
            "\n"
          ]
        },
        {
          "output_type": "display_data",
          "data": {
            "text/plain": [
              "<Figure size 432x288 with 2 Axes>"
            ],
            "image/png": "[encoded data removed]"
          },
          "metadata": {
            "needs_background": "light"
          }
        }
      ],
      "source": [
        "# Se define una función para tener disponibles todas las métricas\n",
        "def display_metrics(y_true, y_pred):\n",
        "    recall = recall_score(y_true, y_pred)\n",
        "    pres = precision_score(y_true, y_pred)\n",
        "    accur = accuracy_score(y_true, y_pred)\n",
        "    f1_scr = f1_score(y_true, y_pred)\n",
        "    conf_mtx = confusion_matrix(y_true, y_pred)\n",
        "    all_metric = classification_report(y_true, y_pred)\n",
        "\n",
        "    print(f'Sensibilidad (Recall): {recall}')\n",
        "    print(f'Precisión: {pres}')\n",
        "    print(f'Accuracy: {accur}')\n",
        "    print(f'Score f1: {f1_scr}')\n",
        "    print('')\n",
        "    print('Todas las métricas:')\n",
        "    print(all_metric)\n",
        "    disp = ConfusionMatrixDisplay(conf_mtx)\n",
        "    disp.plot()\n",
        "    plt.show()\n",
        "\n",
        "# Se hace la predicción\n",
        "y_pred = grid.predict(x_train)\n",
        "y_pred_test = grid.predict(x_test)\n",
        "\n",
        "# Métricas en test\n",
        "print('Métricas en test')\n",
        "display_metrics(y_test, y_pred_test)\n",
        "\n",
        "# Métricas en train\n",
        "print('Métricas en train')\n",
        "display_metrics(y_train, y_pred)"
      ]
    },
    {
      "cell_type": "markdown",
      "metadata": {
        "id": "1df8O3RvVxyu"
      },
      "source": [
        "1.4.2 Analize los resultados obtenidos del punto 1.4.1, ¿Que haría usted para mejorar el resultado?, mencione por lo menos 3 estrategias diferentes (7 pts)."
      ]
    },
    {
      "cell_type": "markdown",
      "metadata": {
        "id": "l48NbU11Vxyu"
      },
      "source": [
        "# Respuesta a la pregunta 1.4.2\n",
        "\n",
        "Conclusiones del punto anterior:\n",
        "1. Se obtuvieron mejores métricas en train.\n",
        "2. Los valores de las métricas no se acercan a 1, sin embargo están casi aproximadas a 0.9, lo cual significa que los valores son buenos.\n",
        "3. Se puede observar en las matrices de confusión que aún quedan valores por fuera de los true positives y los true negatives pero son muy pocos, lo que quiere decir que el modelo está prediciendo bien los datos.\n",
        "\n",
        "¿Qué haría para mejorar los resultados?\n",
        "1. Usar el modelo con RandomForest agregando `max_depth` como hiperparámetro, al usarlo con el valor por defecto \"None\" posiblemente estoy obteniendo *overfitting*.\n",
        "2. Usar PCA para reducir la dimensionalidad.\n",
        "3. Usar más combinaciones de hiperparámetros que me permitan evaluar más combinaciones posibles."
      ]
    },
    {
      "cell_type": "markdown",
      "metadata": {
        "id": "VYCV8kj5Vxyu"
      },
      "source": [
        "1.4.3 Aplique las estrategias propuestas en 1.4.2 y comparar los resultados (13 pts)."
      ]
    },
    {
      "cell_type": "code",
      "execution_count": null,
      "metadata": {
        "colab": {
          "base_uri": "https://localhost:8080/"
        },
        "id": "CyB0-2SfVxyu",
        "outputId": "e78f99cd-fe82-494a-ad95-c07bf5fd3073"
      },
      "outputs": [
        {
          "output_type": "stream",
          "name": "stdout",
          "text": [
            "\n",
            "  Scores LogisticRegression:\n",
            "  Recall: [0.88888889 0.74074074 0.77777778]\n",
            "  Accuracy: [0.85714286 0.76785714 0.71428571]\n",
            "\n",
            "  Scores RandomForest:\n",
            "  Recall: [0.81481481 0.74074074 0.62962963]\n",
            "  Accuracy: [0.80357143 0.80357143 0.75      ]\n",
            "\n",
            "  Scores SVC:\n",
            "  Recall: [0.62962963 0.85185185 0.81481481]\n",
            "  Accuracy: [0.73214286 0.82142857 0.76785714]\n"
          ]
        }
      ],
      "source": [
        "# Propuesta 1: RandomForest agregando max_depth=50\n",
        "random_forest_max_depth = RandomForestClassifier(n_estimators=500, max_depth=50)\n",
        "random_forest_max_depth.fit(x_train, y_train)\n",
        "\n",
        "# Aplico cross validation junto con los otros modelos\n",
        "cv_results_LR = cross_validate(logistic_regression, x_train, y_train, scoring=('recall', 'accuracy'), cv=3)\n",
        "cv_results_RF_max_depth = cross_validate(random_forest_max_depth, x_train, y_train, scoring=('recall', 'accuracy'), cv=3)\n",
        "cv_results_SVC = cross_validate(svc, x_train, y_train, scoring=('recall', 'accuracy'), cv=3)\n",
        "\n",
        "# Imprimo los resultados\n",
        "print_cross_validation_results(cv_results_LR, cv_results_RF_max_depth, cv_results_SVC)\n",
        "\n",
        "# Aunque se aplica max_depth=50 se observa que el modelo que sigue ganando es el\n",
        "# hecho con SVC"
      ]
    },
    {
      "cell_type": "code",
      "source": [
        "# Propuesta 2: Usar PCA para reducir la dimensionalidad\n",
        "from sklearn.decomposition import PCA\n",
        "\n",
        "# Retengo un 90% de la varianza\n",
        "pca = PCA(.90)\n",
        "pca.fit(x_train)\n",
        "x_train_pca = pca.transform(x_train)\n",
        "x_test_pca = pca.transform(x_test)\n",
        "\n",
        "# Nuevamente inicio con LogisticRegression\n",
        "logistic_regression_pca = LogisticRegression(max_iter=500)\n",
        "logistic_regression_pca.fit(x_train_pca, y_train)\n",
        "\n",
        "# Continuo con RandomForest y aplicando max_depth=50\n",
        "random_forest_pca = RandomForestClassifier(n_estimators=500, max_depth=50)\n",
        "random_forest_pca.fit(x_train_pca, y_train)\n",
        "\n",
        "# Sigo con SVC y aplicando los parámetros encontrados con GridSearch\n",
        "svc_pca = SVC(max_iter = 500, C=5.0, gamma='scale', kernel='rbf')\n",
        "svc_pca.fit(x_train_pca, y_train)\n",
        "\n",
        "# Aplico cross validation\n",
        "cv_results_LR_pca = cross_validate(logistic_regression_pca, x_train_pca, y_train, scoring=('recall', 'accuracy'), cv=3)\n",
        "cv_results_RF_pca = cross_validate(random_forest_pca, x_train_pca, y_train, scoring=('recall', 'accuracy'), cv=3)\n",
        "cv_results_SVC_pca = cross_validate(svc_pca, x_train_pca, y_train, scoring=('recall', 'accuracy'), cv=3)\n",
        "\n",
        "# Imprimo los resultados\n",
        "print_cross_validation_results(cv_results_LR_pca, cv_results_RF_pca, cv_results_SVC_pca)\n",
        "\n",
        "# Se puede observar que sigue siendo el modelo con SVC el ganador en las métricas"
      ],
      "metadata": {
        "colab": {
          "base_uri": "https://localhost:8080/"
        },
        "id": "NSu4mw9QoI3l",
        "outputId": "4bd40f5f-c15d-4eab-931f-2fa1014bf6d6"
      },
      "execution_count": null,
      "outputs": [
        {
          "output_type": "stream",
          "name": "stdout",
          "text": [
            "\n",
            "  Scores LogisticRegression:\n",
            "  Recall: [0.7037037  0.62962963 0.7037037 ]\n",
            "  Accuracy: [0.78571429 0.625      0.71428571]\n",
            "\n",
            "  Scores RandomForest:\n",
            "  Recall: [0.85185185 0.66666667 0.62962963]\n",
            "  Accuracy: [0.82142857 0.73214286 0.73214286]\n",
            "\n",
            "  Scores SVC:\n",
            "  Recall: [0.62962963 0.81481481 0.74074074]\n",
            "  Accuracy: [0.73214286 0.78571429 0.75      ]\n"
          ]
        }
      ]
    },
    {
      "cell_type": "code",
      "source": [
        "# Usar más combinaciones de hiperparámetros\n",
        "parameters = {\n",
        "    'C': [1.0, 5.0, 10],\n",
        "    'kernel': ['rbf', 'poly', 'linear'],\n",
        "    'gamma': ['scale', 'auto'],\n",
        "    'max_iter': [100, 200, 300, 500]\n",
        "}\n",
        "\n",
        "grid = GridSearchCV(estimator = svc,\n",
        "                    param_grid = parameters,\n",
        "                    scoring = ['recall', 'accuracy'],\n",
        "                    refit = 'accuracy',\n",
        "                    verbose = 4,\n",
        "                    cv = 3)\n",
        "\n",
        "# Iniciar el entrenamiento\n",
        "grid.fit(x_train, y_train)"
      ],
      "metadata": {
        "colab": {
          "base_uri": "https://localhost:8080/"
        },
        "id": "zrH_pPZxqQs6",
        "outputId": "21f397f0-b05e-4421-a911-e4790c7f574c"
      },
      "execution_count": null,
      "outputs": [
        {
          "output_type": "stream",
          "name": "stdout",
          "text": [
            "Fitting 3 folds for each of 72 candidates, totalling 216 fits\n",
            "[CV 1/3] END C=1.0, gamma=scale, kernel=rbf, max_iter=100; accuracy: (test=0.732) recall: (test=0.630) total time=   0.0s\n",
            "[CV 2/3] END C=1.0, gamma=scale, kernel=rbf, max_iter=100; accuracy: (test=0.821) recall: (test=0.852) total time=   0.0s\n",
            "[CV 3/3] END C=1.0, gamma=scale, kernel=rbf, max_iter=100; accuracy: (test=0.768) recall: (test=0.815) total time=   0.0s\n",
            "[CV 1/3] END C=1.0, gamma=scale, kernel=rbf, max_iter=200; accuracy: (test=0.732) recall: (test=0.630) total time=   0.0s\n",
            "[CV 2/3] END C=1.0, gamma=scale, kernel=rbf, max_iter=200; accuracy: (test=0.821) recall: (test=0.852) total time=   0.0s\n",
            "[CV 3/3] END C=1.0, gamma=scale, kernel=rbf, max_iter=200; accuracy: (test=0.768) recall: (test=0.815) total time=   0.0s\n",
            "[CV 1/3] END C=1.0, gamma=scale, kernel=rbf, max_iter=300; accuracy: (test=0.732) recall: (test=0.630) total time=   0.0s\n",
            "[CV 2/3] END C=1.0, gamma=scale, kernel=rbf, max_iter=300; accuracy: (test=0.821) recall: (test=0.852) total time=   0.0s\n",
            "[CV 3/3] END C=1.0, gamma=scale, kernel=rbf, max_iter=300; accuracy: (test=0.768) recall: (test=0.815) total time=   0.0s\n",
            "[CV 1/3] END C=1.0, gamma=scale, kernel=rbf, max_iter=500; accuracy: (test=0.732) recall: (test=0.630) total time=   0.0s\n",
            "[CV 2/3] END C=1.0, gamma=scale, kernel=rbf, max_iter=500; accuracy: (test=0.821) recall: (test=0.852) total time=   0.0s\n",
            "[CV 3/3] END C=1.0, gamma=scale, kernel=rbf, max_iter=500; accuracy: (test=0.768) recall: (test=0.815) total time=   0.0s\n",
            "[CV 1/3] END C=1.0, gamma=scale, kernel=poly, max_iter=100; accuracy: (test=0.750) recall: (test=0.630) total time=   0.0s\n",
            "[CV 2/3] END C=1.0, gamma=scale, kernel=poly, max_iter=100; accuracy: (test=0.750) recall: (test=0.704) total time=   0.0s\n",
            "[CV 3/3] END C=1.0, gamma=scale, kernel=poly, max_iter=100; accuracy: (test=0.768) recall: (test=0.778) total time=   0.0s\n",
            "[CV 1/3] END C=1.0, gamma=scale, kernel=poly, max_iter=200; accuracy: (test=0.750) recall: (test=0.630) total time=   0.0s\n",
            "[CV 2/3] END C=1.0, gamma=scale, kernel=poly, max_iter=200; accuracy: (test=0.768) recall: (test=0.704) total time=   0.0s\n",
            "[CV 3/3] END C=1.0, gamma=scale, kernel=poly, max_iter=200; accuracy: (test=0.768) recall: (test=0.778) total time=   0.0s\n",
            "[CV 1/3] END C=1.0, gamma=scale, kernel=poly, max_iter=300; accuracy: (test=0.750) recall: (test=0.630) total time=   0.0s\n",
            "[CV 2/3] END C=1.0, gamma=scale, kernel=poly, max_iter=300; accuracy: (test=0.768) recall: (test=0.704) total time=   0.0s\n"
          ]
        },
        {
          "output_type": "stream",
          "name": "stderr",
          "text": [
            "/usr/local/lib/python3.7/dist-packages/sklearn/svm/_base.py:289: ConvergenceWarning: Solver terminated early (max_iter=100).  Consider pre-processing your data with StandardScaler or MinMaxScaler.\n",
            "  ConvergenceWarning,\n",
            "/usr/local/lib/python3.7/dist-packages/sklearn/svm/_base.py:289: ConvergenceWarning: Solver terminated early (max_iter=100).  Consider pre-processing your data with StandardScaler or MinMaxScaler.\n",
            "  ConvergenceWarning,\n",
            "/usr/local/lib/python3.7/dist-packages/sklearn/svm/_base.py:289: ConvergenceWarning: Solver terminated early (max_iter=100).  Consider pre-processing your data with StandardScaler or MinMaxScaler.\n",
            "  ConvergenceWarning,\n",
            "/usr/local/lib/python3.7/dist-packages/sklearn/svm/_base.py:289: ConvergenceWarning: Solver terminated early (max_iter=100).  Consider pre-processing your data with StandardScaler or MinMaxScaler.\n",
            "  ConvergenceWarning,\n",
            "/usr/local/lib/python3.7/dist-packages/sklearn/svm/_base.py:289: ConvergenceWarning: Solver terminated early (max_iter=100).  Consider pre-processing your data with StandardScaler or MinMaxScaler.\n",
            "  ConvergenceWarning,\n",
            "/usr/local/lib/python3.7/dist-packages/sklearn/svm/_base.py:289: ConvergenceWarning: Solver terminated early (max_iter=100).  Consider pre-processing your data with StandardScaler or MinMaxScaler.\n",
            "  ConvergenceWarning,\n",
            "/usr/local/lib/python3.7/dist-packages/sklearn/svm/_base.py:289: ConvergenceWarning: Solver terminated early (max_iter=200).  Consider pre-processing your data with StandardScaler or MinMaxScaler.\n",
            "  ConvergenceWarning,\n"
          ]
        },
        {
          "output_type": "stream",
          "name": "stdout",
          "text": [
            "[CV 3/3] END C=1.0, gamma=scale, kernel=poly, max_iter=300; accuracy: (test=0.768) recall: (test=0.778) total time=   0.0s\n",
            "[CV 1/3] END C=1.0, gamma=scale, kernel=poly, max_iter=500; accuracy: (test=0.750) recall: (test=0.630) total time=   0.0s\n",
            "[CV 2/3] END C=1.0, gamma=scale, kernel=poly, max_iter=500; accuracy: (test=0.768) recall: (test=0.704) total time=   0.0s\n",
            "[CV 3/3] END C=1.0, gamma=scale, kernel=poly, max_iter=500; accuracy: (test=0.768) recall: (test=0.778) total time=   0.0s\n",
            "[CV 1/3] END C=1.0, gamma=scale, kernel=linear, max_iter=100; accuracy: (test=0.839) recall: (test=0.815) total time=   0.0s\n",
            "[CV 2/3] END C=1.0, gamma=scale, kernel=linear, max_iter=100; accuracy: (test=0.679) recall: (test=0.556) total time=   0.0s\n",
            "[CV 3/3] END C=1.0, gamma=scale, kernel=linear, max_iter=100; accuracy: (test=0.750) recall: (test=0.741) total time=   0.0s\n",
            "[CV 1/3] END C=1.0, gamma=scale, kernel=linear, max_iter=200; accuracy: (test=0.839) recall: (test=0.815) total time=   0.0s\n",
            "[CV 2/3] END C=1.0, gamma=scale, kernel=linear, max_iter=200; accuracy: (test=0.679) recall: (test=0.556) total time=   0.0s\n",
            "[CV 3/3] END C=1.0, gamma=scale, kernel=linear, max_iter=200; accuracy: (test=0.750) recall: (test=0.741) total time=   0.0s\n",
            "[CV 1/3] END C=1.0, gamma=scale, kernel=linear, max_iter=300; accuracy: (test=0.839) recall: (test=0.815) total time=   0.0s\n",
            "[CV 2/3] END C=1.0, gamma=scale, kernel=linear, max_iter=300; accuracy: (test=0.679) recall: (test=0.556) total time=   0.0s\n",
            "[CV 3/3] END C=1.0, gamma=scale, kernel=linear, max_iter=300; accuracy: (test=0.750) recall: (test=0.741) total time=   0.0s\n",
            "[CV 1/3] END C=1.0, gamma=scale, kernel=linear, max_iter=500; accuracy: (test=0.839) recall: (test=0.815) total time=   0.0s\n",
            "[CV 2/3] END C=1.0, gamma=scale, kernel=linear, max_iter=500; accuracy: (test=0.679) recall: (test=0.556) total time=   0.0s\n",
            "[CV 3/3] END C=1.0, gamma=scale, kernel=linear, max_iter=500; accuracy: (test=0.750) recall: (test=0.741) total time=   0.0s\n",
            "[CV 1/3] END C=1.0, gamma=auto, kernel=rbf, max_iter=100; accuracy: (test=0.732) recall: (test=0.630) total time=   0.0s\n",
            "[CV 2/3] END C=1.0, gamma=auto, kernel=rbf, max_iter=100; accuracy: (test=0.821) recall: (test=0.852) total time=   0.0s\n",
            "[CV 3/3] END C=1.0, gamma=auto, kernel=rbf, max_iter=100; accuracy: (test=0.768) recall: (test=0.815) total time=   0.0s\n"
          ]
        },
        {
          "output_type": "stream",
          "name": "stderr",
          "text": [
            "/usr/local/lib/python3.7/dist-packages/sklearn/svm/_base.py:289: ConvergenceWarning: Solver terminated early (max_iter=100).  Consider pre-processing your data with StandardScaler or MinMaxScaler.\n",
            "  ConvergenceWarning,\n",
            "/usr/local/lib/python3.7/dist-packages/sklearn/svm/_base.py:289: ConvergenceWarning: Solver terminated early (max_iter=100).  Consider pre-processing your data with StandardScaler or MinMaxScaler.\n",
            "  ConvergenceWarning,\n",
            "/usr/local/lib/python3.7/dist-packages/sklearn/svm/_base.py:289: ConvergenceWarning: Solver terminated early (max_iter=100).  Consider pre-processing your data with StandardScaler or MinMaxScaler.\n",
            "  ConvergenceWarning,\n",
            "/usr/local/lib/python3.7/dist-packages/sklearn/svm/_base.py:289: ConvergenceWarning: Solver terminated early (max_iter=100).  Consider pre-processing your data with StandardScaler or MinMaxScaler.\n",
            "  ConvergenceWarning,\n",
            "/usr/local/lib/python3.7/dist-packages/sklearn/svm/_base.py:289: ConvergenceWarning: Solver terminated early (max_iter=100).  Consider pre-processing your data with StandardScaler or MinMaxScaler.\n",
            "  ConvergenceWarning,\n",
            "/usr/local/lib/python3.7/dist-packages/sklearn/svm/_base.py:289: ConvergenceWarning: Solver terminated early (max_iter=100).  Consider pre-processing your data with StandardScaler or MinMaxScaler.\n",
            "  ConvergenceWarning,\n"
          ]
        },
        {
          "output_type": "stream",
          "name": "stdout",
          "text": [
            "[CV 1/3] END C=1.0, gamma=auto, kernel=rbf, max_iter=200; accuracy: (test=0.732) recall: (test=0.630) total time=   0.0s\n",
            "[CV 2/3] END C=1.0, gamma=auto, kernel=rbf, max_iter=200; accuracy: (test=0.821) recall: (test=0.852) total time=   0.0s\n",
            "[CV 3/3] END C=1.0, gamma=auto, kernel=rbf, max_iter=200; accuracy: (test=0.768) recall: (test=0.815) total time=   0.0s\n",
            "[CV 1/3] END C=1.0, gamma=auto, kernel=rbf, max_iter=300; accuracy: (test=0.732) recall: (test=0.630) total time=   0.0s\n",
            "[CV 2/3] END C=1.0, gamma=auto, kernel=rbf, max_iter=300; accuracy: (test=0.821) recall: (test=0.852) total time=   0.0s\n",
            "[CV 3/3] END C=1.0, gamma=auto, kernel=rbf, max_iter=300; accuracy: (test=0.768) recall: (test=0.815) total time=   0.0s\n",
            "[CV 1/3] END C=1.0, gamma=auto, kernel=rbf, max_iter=500; accuracy: (test=0.732) recall: (test=0.630) total time=   0.0s\n",
            "[CV 2/3] END C=1.0, gamma=auto, kernel=rbf, max_iter=500; accuracy: (test=0.821) recall: (test=0.852) total time=   0.0s\n",
            "[CV 3/3] END C=1.0, gamma=auto, kernel=rbf, max_iter=500; accuracy: (test=0.768) recall: (test=0.815) total time=   0.0s\n",
            "[CV 1/3] END C=1.0, gamma=auto, kernel=poly, max_iter=100; accuracy: (test=0.768) recall: (test=0.704) total time=   0.0s\n",
            "[CV 2/3] END C=1.0, gamma=auto, kernel=poly, max_iter=100; accuracy: (test=0.750) recall: (test=0.704) total time=   0.0s\n",
            "[CV 3/3] END C=1.0, gamma=auto, kernel=poly, max_iter=100; accuracy: (test=0.750) recall: (test=0.741) total time=   0.0s\n",
            "[CV 1/3] END C=1.0, gamma=auto, kernel=poly, max_iter=200; accuracy: (test=0.768) recall: (test=0.667) total time=   0.0s\n",
            "[CV 2/3] END C=1.0, gamma=auto, kernel=poly, max_iter=200; accuracy: (test=0.750) recall: (test=0.704) total time=   0.0s\n",
            "[CV 3/3] END C=1.0, gamma=auto, kernel=poly, max_iter=200; accuracy: (test=0.768) recall: (test=0.778) total time=   0.0s\n",
            "[CV 1/3] END C=1.0, gamma=auto, kernel=poly, max_iter=300; accuracy: (test=0.768) recall: (test=0.667) total time=   0.0s\n",
            "[CV 2/3] END C=1.0, gamma=auto, kernel=poly, max_iter=300; accuracy: (test=0.750) recall: (test=0.704) total time=   0.0s\n",
            "[CV 3/3] END C=1.0, gamma=auto, kernel=poly, max_iter=300; accuracy: (test=0.768) recall: (test=0.778) total time=   0.0s\n",
            "[CV 1/3] END C=1.0, gamma=auto, kernel=poly, max_iter=500; accuracy: (test=0.768) recall: (test=0.667) total time=   0.0s\n",
            "[CV 2/3] END C=1.0, gamma=auto, kernel=poly, max_iter=500; accuracy: (test=0.750) recall: (test=0.704) total time=   0.0s\n"
          ]
        },
        {
          "output_type": "stream",
          "name": "stderr",
          "text": [
            "/usr/local/lib/python3.7/dist-packages/sklearn/svm/_base.py:289: ConvergenceWarning: Solver terminated early (max_iter=100).  Consider pre-processing your data with StandardScaler or MinMaxScaler.\n",
            "  ConvergenceWarning,\n",
            "/usr/local/lib/python3.7/dist-packages/sklearn/svm/_base.py:289: ConvergenceWarning: Solver terminated early (max_iter=100).  Consider pre-processing your data with StandardScaler or MinMaxScaler.\n",
            "  ConvergenceWarning,\n",
            "/usr/local/lib/python3.7/dist-packages/sklearn/svm/_base.py:289: ConvergenceWarning: Solver terminated early (max_iter=100).  Consider pre-processing your data with StandardScaler or MinMaxScaler.\n",
            "  ConvergenceWarning,\n",
            "/usr/local/lib/python3.7/dist-packages/sklearn/svm/_base.py:289: ConvergenceWarning: Solver terminated early (max_iter=100).  Consider pre-processing your data with StandardScaler or MinMaxScaler.\n",
            "  ConvergenceWarning,\n",
            "/usr/local/lib/python3.7/dist-packages/sklearn/svm/_base.py:289: ConvergenceWarning: Solver terminated early (max_iter=100).  Consider pre-processing your data with StandardScaler or MinMaxScaler.\n",
            "  ConvergenceWarning,\n",
            "/usr/local/lib/python3.7/dist-packages/sklearn/svm/_base.py:289: ConvergenceWarning: Solver terminated early (max_iter=100).  Consider pre-processing your data with StandardScaler or MinMaxScaler.\n",
            "  ConvergenceWarning,\n"
          ]
        },
        {
          "output_type": "stream",
          "name": "stdout",
          "text": [
            "[CV 3/3] END C=1.0, gamma=auto, kernel=poly, max_iter=500; accuracy: (test=0.768) recall: (test=0.778) total time=   0.0s\n",
            "[CV 1/3] END C=1.0, gamma=auto, kernel=linear, max_iter=100; accuracy: (test=0.839) recall: (test=0.815) total time=   0.0s\n",
            "[CV 2/3] END C=1.0, gamma=auto, kernel=linear, max_iter=100; accuracy: (test=0.679) recall: (test=0.556) total time=   0.0s\n",
            "[CV 3/3] END C=1.0, gamma=auto, kernel=linear, max_iter=100; accuracy: (test=0.750) recall: (test=0.741) total time=   0.0s\n",
            "[CV 1/3] END C=1.0, gamma=auto, kernel=linear, max_iter=200; accuracy: (test=0.839) recall: (test=0.815) total time=   0.0s\n",
            "[CV 2/3] END C=1.0, gamma=auto, kernel=linear, max_iter=200; accuracy: (test=0.679) recall: (test=0.556) total time=   0.0s\n",
            "[CV 3/3] END C=1.0, gamma=auto, kernel=linear, max_iter=200; accuracy: (test=0.750) recall: (test=0.741) total time=   0.0s\n",
            "[CV 1/3] END C=1.0, gamma=auto, kernel=linear, max_iter=300; accuracy: (test=0.839) recall: (test=0.815) total time=   0.0s\n",
            "[CV 2/3] END C=1.0, gamma=auto, kernel=linear, max_iter=300; accuracy: (test=0.679) recall: (test=0.556) total time=   0.0s\n",
            "[CV 3/3] END C=1.0, gamma=auto, kernel=linear, max_iter=300; accuracy: (test=0.750) recall: (test=0.741) total time=   0.0s\n",
            "[CV 1/3] END C=1.0, gamma=auto, kernel=linear, max_iter=500; accuracy: (test=0.839) recall: (test=0.815) total time=   0.0s\n",
            "[CV 2/3] END C=1.0, gamma=auto, kernel=linear, max_iter=500; accuracy: (test=0.679) recall: (test=0.556) total time=   0.0s\n",
            "[CV 3/3] END C=1.0, gamma=auto, kernel=linear, max_iter=500; accuracy: (test=0.750) recall: (test=0.741) total time=   0.0s\n",
            "[CV 1/3] END C=5.0, gamma=scale, kernel=rbf, max_iter=100; accuracy: (test=0.786) recall: (test=0.741) total time=   0.0s\n",
            "[CV 2/3] END C=5.0, gamma=scale, kernel=rbf, max_iter=100; accuracy: (test=0.804) recall: (test=0.741) total time=   0.0s\n",
            "[CV 3/3] END C=5.0, gamma=scale, kernel=rbf, max_iter=100; accuracy: (test=0.768) recall: (test=0.778) total time=   0.0s\n",
            "[CV 1/3] END C=5.0, gamma=scale, kernel=rbf, max_iter=200; accuracy: (test=0.786) recall: (test=0.741) total time=   0.0s\n",
            "[CV 2/3] END C=5.0, gamma=scale, kernel=rbf, max_iter=200; accuracy: (test=0.804) recall: (test=0.741) total time=   0.0s\n",
            "[CV 3/3] END C=5.0, gamma=scale, kernel=rbf, max_iter=200; accuracy: (test=0.768) recall: (test=0.778) total time=   0.0s\n"
          ]
        },
        {
          "output_type": "stream",
          "name": "stderr",
          "text": [
            "/usr/local/lib/python3.7/dist-packages/sklearn/svm/_base.py:289: ConvergenceWarning: Solver terminated early (max_iter=100).  Consider pre-processing your data with StandardScaler or MinMaxScaler.\n",
            "  ConvergenceWarning,\n",
            "/usr/local/lib/python3.7/dist-packages/sklearn/svm/_base.py:289: ConvergenceWarning: Solver terminated early (max_iter=100).  Consider pre-processing your data with StandardScaler or MinMaxScaler.\n",
            "  ConvergenceWarning,\n",
            "/usr/local/lib/python3.7/dist-packages/sklearn/svm/_base.py:289: ConvergenceWarning: Solver terminated early (max_iter=100).  Consider pre-processing your data with StandardScaler or MinMaxScaler.\n",
            "  ConvergenceWarning,\n",
            "/usr/local/lib/python3.7/dist-packages/sklearn/svm/_base.py:289: ConvergenceWarning: Solver terminated early (max_iter=100).  Consider pre-processing your data with StandardScaler or MinMaxScaler.\n",
            "  ConvergenceWarning,\n",
            "/usr/local/lib/python3.7/dist-packages/sklearn/svm/_base.py:289: ConvergenceWarning: Solver terminated early (max_iter=100).  Consider pre-processing your data with StandardScaler or MinMaxScaler.\n",
            "  ConvergenceWarning,\n",
            "/usr/local/lib/python3.7/dist-packages/sklearn/svm/_base.py:289: ConvergenceWarning: Solver terminated early (max_iter=100).  Consider pre-processing your data with StandardScaler or MinMaxScaler.\n",
            "  ConvergenceWarning,\n",
            "/usr/local/lib/python3.7/dist-packages/sklearn/svm/_base.py:289: ConvergenceWarning: Solver terminated early (max_iter=200).  Consider pre-processing your data with StandardScaler or MinMaxScaler.\n",
            "  ConvergenceWarning,\n",
            "/usr/local/lib/python3.7/dist-packages/sklearn/svm/_base.py:289: ConvergenceWarning: Solver terminated early (max_iter=200).  Consider pre-processing your data with StandardScaler or MinMaxScaler.\n",
            "  ConvergenceWarning,\n",
            "/usr/local/lib/python3.7/dist-packages/sklearn/svm/_base.py:289: ConvergenceWarning: Solver terminated early (max_iter=200).  Consider pre-processing your data with StandardScaler or MinMaxScaler.\n",
            "  ConvergenceWarning,\n"
          ]
        },
        {
          "output_type": "stream",
          "name": "stdout",
          "text": [
            "[CV 1/3] END C=5.0, gamma=scale, kernel=rbf, max_iter=300; accuracy: (test=0.786) recall: (test=0.741) total time=   0.0s\n",
            "[CV 2/3] END C=5.0, gamma=scale, kernel=rbf, max_iter=300; accuracy: (test=0.804) recall: (test=0.741) total time=   0.0s\n",
            "[CV 3/3] END C=5.0, gamma=scale, kernel=rbf, max_iter=300; accuracy: (test=0.768) recall: (test=0.778) total time=   0.0s\n",
            "[CV 1/3] END C=5.0, gamma=scale, kernel=rbf, max_iter=500; accuracy: (test=0.786) recall: (test=0.741) total time=   0.0s\n",
            "[CV 2/3] END C=5.0, gamma=scale, kernel=rbf, max_iter=500; accuracy: (test=0.804) recall: (test=0.741) total time=   0.0s\n",
            "[CV 3/3] END C=5.0, gamma=scale, kernel=rbf, max_iter=500; accuracy: (test=0.768) recall: (test=0.778) total time=   0.0s\n",
            "[CV 1/3] END C=5.0, gamma=scale, kernel=poly, max_iter=100; accuracy: (test=0.786) recall: (test=0.741) total time=   0.0s\n",
            "[CV 2/3] END C=5.0, gamma=scale, kernel=poly, max_iter=100; accuracy: (test=0.768) recall: (test=0.704) total time=   0.0s\n",
            "[CV 3/3] END C=5.0, gamma=scale, kernel=poly, max_iter=100; accuracy: (test=0.750) recall: (test=0.741) total time=   0.0s\n",
            "[CV 1/3] END C=5.0, gamma=scale, kernel=poly, max_iter=200; accuracy: (test=0.786) recall: (test=0.741) total time=   0.0s\n",
            "[CV 2/3] END C=5.0, gamma=scale, kernel=poly, max_iter=200; accuracy: (test=0.768) recall: (test=0.704) total time=   0.0s\n",
            "[CV 3/3] END C=5.0, gamma=scale, kernel=poly, max_iter=200; accuracy: (test=0.750) recall: (test=0.741) total time=   0.0s\n",
            "[CV 1/3] END C=5.0, gamma=scale, kernel=poly, max_iter=300; accuracy: (test=0.786) recall: (test=0.741) total time=   0.0s\n",
            "[CV 2/3] END C=5.0, gamma=scale, kernel=poly, max_iter=300; accuracy: (test=0.732) recall: (test=0.630) total time=   0.0s\n",
            "[CV 3/3] END C=5.0, gamma=scale, kernel=poly, max_iter=300; accuracy: (test=0.750) recall: (test=0.741) total time=   0.0s\n",
            "[CV 1/3] END C=5.0, gamma=scale, kernel=poly, max_iter=500; accuracy: (test=0.786) recall: (test=0.741) total time=   0.0s\n",
            "[CV 2/3] END C=5.0, gamma=scale, kernel=poly, max_iter=500; accuracy: (test=0.732) recall: (test=0.630) total time=   0.0s\n",
            "[CV 3/3] END C=5.0, gamma=scale, kernel=poly, max_iter=500; accuracy: (test=0.750) recall: (test=0.741) total time=   0.0s\n",
            "[CV 1/3] END C=5.0, gamma=scale, kernel=linear, max_iter=100; accuracy: (test=0.589) recall: (test=0.556) total time=   0.0s\n"
          ]
        },
        {
          "output_type": "stream",
          "name": "stderr",
          "text": [
            "/usr/local/lib/python3.7/dist-packages/sklearn/svm/_base.py:289: ConvergenceWarning: Solver terminated early (max_iter=300).  Consider pre-processing your data with StandardScaler or MinMaxScaler.\n",
            "  ConvergenceWarning,\n",
            "/usr/local/lib/python3.7/dist-packages/sklearn/svm/_base.py:289: ConvergenceWarning: Solver terminated early (max_iter=300).  Consider pre-processing your data with StandardScaler or MinMaxScaler.\n",
            "  ConvergenceWarning,\n",
            "/usr/local/lib/python3.7/dist-packages/sklearn/svm/_base.py:289: ConvergenceWarning: Solver terminated early (max_iter=300).  Consider pre-processing your data with StandardScaler or MinMaxScaler.\n",
            "  ConvergenceWarning,\n",
            "/usr/local/lib/python3.7/dist-packages/sklearn/svm/_base.py:289: ConvergenceWarning: Solver terminated early (max_iter=500).  Consider pre-processing your data with StandardScaler or MinMaxScaler.\n",
            "  ConvergenceWarning,\n",
            "/usr/local/lib/python3.7/dist-packages/sklearn/svm/_base.py:289: ConvergenceWarning: Solver terminated early (max_iter=100).  Consider pre-processing your data with StandardScaler or MinMaxScaler.\n",
            "  ConvergenceWarning,\n",
            "/usr/local/lib/python3.7/dist-packages/sklearn/svm/_base.py:289: ConvergenceWarning: Solver terminated early (max_iter=100).  Consider pre-processing your data with StandardScaler or MinMaxScaler.\n",
            "  ConvergenceWarning,\n",
            "/usr/local/lib/python3.7/dist-packages/sklearn/svm/_base.py:289: ConvergenceWarning: Solver terminated early (max_iter=100).  Consider pre-processing your data with StandardScaler or MinMaxScaler.\n",
            "  ConvergenceWarning,\n",
            "/usr/local/lib/python3.7/dist-packages/sklearn/svm/_base.py:289: ConvergenceWarning: Solver terminated early (max_iter=200).  Consider pre-processing your data with StandardScaler or MinMaxScaler.\n",
            "  ConvergenceWarning,\n",
            "/usr/local/lib/python3.7/dist-packages/sklearn/svm/_base.py:289: ConvergenceWarning: Solver terminated early (max_iter=200).  Consider pre-processing your data with StandardScaler or MinMaxScaler.\n",
            "  ConvergenceWarning,\n",
            "/usr/local/lib/python3.7/dist-packages/sklearn/svm/_base.py:289: ConvergenceWarning: Solver terminated early (max_iter=200).  Consider pre-processing your data with StandardScaler or MinMaxScaler.\n",
            "  ConvergenceWarning,\n",
            "/usr/local/lib/python3.7/dist-packages/sklearn/svm/_base.py:289: ConvergenceWarning: Solver terminated early (max_iter=300).  Consider pre-processing your data with StandardScaler or MinMaxScaler.\n",
            "  ConvergenceWarning,\n",
            "/usr/local/lib/python3.7/dist-packages/sklearn/svm/_base.py:289: ConvergenceWarning: Solver terminated early (max_iter=300).  Consider pre-processing your data with StandardScaler or MinMaxScaler.\n",
            "  ConvergenceWarning,\n",
            "/usr/local/lib/python3.7/dist-packages/sklearn/svm/_base.py:289: ConvergenceWarning: Solver terminated early (max_iter=500).  Consider pre-processing your data with StandardScaler or MinMaxScaler.\n",
            "  ConvergenceWarning,\n",
            "/usr/local/lib/python3.7/dist-packages/sklearn/svm/_base.py:289: ConvergenceWarning: Solver terminated early (max_iter=100).  Consider pre-processing your data with StandardScaler or MinMaxScaler.\n",
            "  ConvergenceWarning,\n",
            "/usr/local/lib/python3.7/dist-packages/sklearn/svm/_base.py:289: ConvergenceWarning: Solver terminated early (max_iter=100).  Consider pre-processing your data with StandardScaler or MinMaxScaler.\n",
            "  ConvergenceWarning,\n"
          ]
        },
        {
          "output_type": "stream",
          "name": "stdout",
          "text": [
            "[CV 2/3] END C=5.0, gamma=scale, kernel=linear, max_iter=100; accuracy: (test=0.768) recall: (test=0.704) total time=   0.0s\n",
            "[CV 3/3] END C=5.0, gamma=scale, kernel=linear, max_iter=100; accuracy: (test=0.786) recall: (test=0.852) total time=   0.0s\n",
            "[CV 1/3] END C=5.0, gamma=scale, kernel=linear, max_iter=200; accuracy: (test=0.607) recall: (test=0.704) total time=   0.0s\n",
            "[CV 2/3] END C=5.0, gamma=scale, kernel=linear, max_iter=200; accuracy: (test=0.750) recall: (test=0.704) total time=   0.0s\n",
            "[CV 3/3] END C=5.0, gamma=scale, kernel=linear, max_iter=200; accuracy: (test=0.786) recall: (test=0.852) total time=   0.0s\n",
            "[CV 1/3] END C=5.0, gamma=scale, kernel=linear, max_iter=300; accuracy: (test=0.839) recall: (test=0.815) total time=   0.0s\n",
            "[CV 2/3] END C=5.0, gamma=scale, kernel=linear, max_iter=300; accuracy: (test=0.679) recall: (test=0.556) total time=   0.0s\n",
            "[CV 3/3] END C=5.0, gamma=scale, kernel=linear, max_iter=300; accuracy: (test=0.750) recall: (test=0.741) total time=   0.0s\n",
            "[CV 1/3] END C=5.0, gamma=scale, kernel=linear, max_iter=500; accuracy: (test=0.839) recall: (test=0.815) total time=   0.0s\n",
            "[CV 2/3] END C=5.0, gamma=scale, kernel=linear, max_iter=500; accuracy: (test=0.679) recall: (test=0.556) total time=   0.0s\n",
            "[CV 3/3] END C=5.0, gamma=scale, kernel=linear, max_iter=500; accuracy: (test=0.750) recall: (test=0.741) total time=   0.0s\n",
            "[CV 1/3] END C=5.0, gamma=auto, kernel=rbf, max_iter=100; accuracy: (test=0.786) recall: (test=0.741) total time=   0.0s\n",
            "[CV 2/3] END C=5.0, gamma=auto, kernel=rbf, max_iter=100; accuracy: (test=0.804) recall: (test=0.741) total time=   0.0s\n",
            "[CV 3/3] END C=5.0, gamma=auto, kernel=rbf, max_iter=100; accuracy: (test=0.768) recall: (test=0.778) total time=   0.0s\n",
            "[CV 1/3] END C=5.0, gamma=auto, kernel=rbf, max_iter=200; accuracy: (test=0.786) recall: (test=0.741) total time=   0.0s\n",
            "[CV 2/3] END C=5.0, gamma=auto, kernel=rbf, max_iter=200; accuracy: (test=0.804) recall: (test=0.741) total time=   0.0s\n",
            "[CV 3/3] END C=5.0, gamma=auto, kernel=rbf, max_iter=200; accuracy: (test=0.768) recall: (test=0.778) total time=   0.0s\n",
            "[CV 1/3] END C=5.0, gamma=auto, kernel=rbf, max_iter=300; accuracy: (test=0.786) recall: (test=0.741) total time=   0.0s\n",
            "[CV 2/3] END C=5.0, gamma=auto, kernel=rbf, max_iter=300; accuracy: (test=0.804) recall: (test=0.741) total time=   0.0s\n",
            "[CV 3/3] END C=5.0, gamma=auto, kernel=rbf, max_iter=300; accuracy: (test=0.768) recall: (test=0.778) total time=   0.0s\n"
          ]
        },
        {
          "output_type": "stream",
          "name": "stderr",
          "text": [
            "/usr/local/lib/python3.7/dist-packages/sklearn/svm/_base.py:289: ConvergenceWarning: Solver terminated early (max_iter=100).  Consider pre-processing your data with StandardScaler or MinMaxScaler.\n",
            "  ConvergenceWarning,\n",
            "/usr/local/lib/python3.7/dist-packages/sklearn/svm/_base.py:289: ConvergenceWarning: Solver terminated early (max_iter=200).  Consider pre-processing your data with StandardScaler or MinMaxScaler.\n",
            "  ConvergenceWarning,\n",
            "/usr/local/lib/python3.7/dist-packages/sklearn/svm/_base.py:289: ConvergenceWarning: Solver terminated early (max_iter=100).  Consider pre-processing your data with StandardScaler or MinMaxScaler.\n",
            "  ConvergenceWarning,\n",
            "/usr/local/lib/python3.7/dist-packages/sklearn/svm/_base.py:289: ConvergenceWarning: Solver terminated early (max_iter=100).  Consider pre-processing your data with StandardScaler or MinMaxScaler.\n",
            "  ConvergenceWarning,\n",
            "/usr/local/lib/python3.7/dist-packages/sklearn/svm/_base.py:289: ConvergenceWarning: Solver terminated early (max_iter=100).  Consider pre-processing your data with StandardScaler or MinMaxScaler.\n",
            "  ConvergenceWarning,\n",
            "/usr/local/lib/python3.7/dist-packages/sklearn/svm/_base.py:289: ConvergenceWarning: Solver terminated early (max_iter=200).  Consider pre-processing your data with StandardScaler or MinMaxScaler.\n",
            "  ConvergenceWarning,\n",
            "/usr/local/lib/python3.7/dist-packages/sklearn/svm/_base.py:289: ConvergenceWarning: Solver terminated early (max_iter=200).  Consider pre-processing your data with StandardScaler or MinMaxScaler.\n",
            "  ConvergenceWarning,\n",
            "/usr/local/lib/python3.7/dist-packages/sklearn/svm/_base.py:289: ConvergenceWarning: Solver terminated early (max_iter=200).  Consider pre-processing your data with StandardScaler or MinMaxScaler.\n",
            "  ConvergenceWarning,\n",
            "/usr/local/lib/python3.7/dist-packages/sklearn/svm/_base.py:289: ConvergenceWarning: Solver terminated early (max_iter=300).  Consider pre-processing your data with StandardScaler or MinMaxScaler.\n",
            "  ConvergenceWarning,\n",
            "/usr/local/lib/python3.7/dist-packages/sklearn/svm/_base.py:289: ConvergenceWarning: Solver terminated early (max_iter=300).  Consider pre-processing your data with StandardScaler or MinMaxScaler.\n",
            "  ConvergenceWarning,\n",
            "/usr/local/lib/python3.7/dist-packages/sklearn/svm/_base.py:289: ConvergenceWarning: Solver terminated early (max_iter=300).  Consider pre-processing your data with StandardScaler or MinMaxScaler.\n",
            "  ConvergenceWarning,\n"
          ]
        },
        {
          "output_type": "stream",
          "name": "stdout",
          "text": [
            "[CV 1/3] END C=5.0, gamma=auto, kernel=rbf, max_iter=500; accuracy: (test=0.786) recall: (test=0.741) total time=   0.0s\n",
            "[CV 2/3] END C=5.0, gamma=auto, kernel=rbf, max_iter=500; accuracy: (test=0.804) recall: (test=0.741) total time=   0.0s\n",
            "[CV 3/3] END C=5.0, gamma=auto, kernel=rbf, max_iter=500; accuracy: (test=0.768) recall: (test=0.778) total time=   0.0s\n",
            "[CV 1/3] END C=5.0, gamma=auto, kernel=poly, max_iter=100; accuracy: (test=0.804) recall: (test=0.778) total time=   0.0s\n",
            "[CV 2/3] END C=5.0, gamma=auto, kernel=poly, max_iter=100; accuracy: (test=0.750) recall: (test=0.667) total time=   0.0s\n",
            "[CV 3/3] END C=5.0, gamma=auto, kernel=poly, max_iter=100; accuracy: (test=0.732) recall: (test=0.704) total time=   0.0s\n",
            "[CV 1/3] END C=5.0, gamma=auto, kernel=poly, max_iter=200; accuracy: (test=0.786) recall: (test=0.741) total time=   0.0s\n",
            "[CV 2/3] END C=5.0, gamma=auto, kernel=poly, max_iter=200; accuracy: (test=0.768) recall: (test=0.704) total time=   0.0s\n",
            "[CV 3/3] END C=5.0, gamma=auto, kernel=poly, max_iter=200; accuracy: (test=0.750) recall: (test=0.741) total time=   0.0s\n",
            "[CV 1/3] END C=5.0, gamma=auto, kernel=poly, max_iter=300; accuracy: (test=0.786) recall: (test=0.741) total time=   0.0s\n",
            "[CV 2/3] END C=5.0, gamma=auto, kernel=poly, max_iter=300; accuracy: (test=0.768) recall: (test=0.704) total time=   0.0s\n",
            "[CV 3/3] END C=5.0, gamma=auto, kernel=poly, max_iter=300; accuracy: (test=0.750) recall: (test=0.741) total time=   0.0s\n",
            "[CV 1/3] END C=5.0, gamma=auto, kernel=poly, max_iter=500; accuracy: (test=0.786) recall: (test=0.741) total time=   0.0s\n",
            "[CV 2/3] END C=5.0, gamma=auto, kernel=poly, max_iter=500; accuracy: (test=0.768) recall: (test=0.704) total time=   0.0s\n",
            "[CV 3/3] END C=5.0, gamma=auto, kernel=poly, max_iter=500; accuracy: (test=0.750) recall: (test=0.741) total time=   0.0s\n",
            "[CV 1/3] END C=5.0, gamma=auto, kernel=linear, max_iter=100; accuracy: (test=0.589) recall: (test=0.556) total time=   0.0s\n",
            "[CV 2/3] END C=5.0, gamma=auto, kernel=linear, max_iter=100; accuracy: (test=0.768) recall: (test=0.704) total time=   0.0s\n",
            "[CV 3/3] END C=5.0, gamma=auto, kernel=linear, max_iter=100; accuracy: (test=0.786) recall: (test=0.852) total time=   0.0s\n",
            "[CV 1/3] END C=5.0, gamma=auto, kernel=linear, max_iter=200; accuracy: (test=0.607) recall: (test=0.704) total time=   0.0s\n",
            "[CV 2/3] END C=5.0, gamma=auto, kernel=linear, max_iter=200; accuracy: (test=0.750) recall: (test=0.704) total time=   0.0s\n",
            "[CV 3/3] END C=5.0, gamma=auto, kernel=linear, max_iter=200; accuracy: (test=0.786) recall: (test=0.852) total time=   0.0s\n"
          ]
        },
        {
          "output_type": "stream",
          "name": "stderr",
          "text": [
            "/usr/local/lib/python3.7/dist-packages/sklearn/svm/_base.py:289: ConvergenceWarning: Solver terminated early (max_iter=500).  Consider pre-processing your data with StandardScaler or MinMaxScaler.\n",
            "  ConvergenceWarning,\n",
            "/usr/local/lib/python3.7/dist-packages/sklearn/svm/_base.py:289: ConvergenceWarning: Solver terminated early (max_iter=500).  Consider pre-processing your data with StandardScaler or MinMaxScaler.\n",
            "  ConvergenceWarning,\n",
            "/usr/local/lib/python3.7/dist-packages/sklearn/svm/_base.py:289: ConvergenceWarning: Solver terminated early (max_iter=500).  Consider pre-processing your data with StandardScaler or MinMaxScaler.\n",
            "  ConvergenceWarning,\n",
            "/usr/local/lib/python3.7/dist-packages/sklearn/svm/_base.py:289: ConvergenceWarning: Solver terminated early (max_iter=100).  Consider pre-processing your data with StandardScaler or MinMaxScaler.\n",
            "  ConvergenceWarning,\n",
            "/usr/local/lib/python3.7/dist-packages/sklearn/svm/_base.py:289: ConvergenceWarning: Solver terminated early (max_iter=100).  Consider pre-processing your data with StandardScaler or MinMaxScaler.\n",
            "  ConvergenceWarning,\n",
            "/usr/local/lib/python3.7/dist-packages/sklearn/svm/_base.py:289: ConvergenceWarning: Solver terminated early (max_iter=100).  Consider pre-processing your data with StandardScaler or MinMaxScaler.\n",
            "  ConvergenceWarning,\n",
            "/usr/local/lib/python3.7/dist-packages/sklearn/svm/_base.py:289: ConvergenceWarning: Solver terminated early (max_iter=200).  Consider pre-processing your data with StandardScaler or MinMaxScaler.\n",
            "  ConvergenceWarning,\n",
            "/usr/local/lib/python3.7/dist-packages/sklearn/svm/_base.py:289: ConvergenceWarning: Solver terminated early (max_iter=200).  Consider pre-processing your data with StandardScaler or MinMaxScaler.\n",
            "  ConvergenceWarning,\n",
            "/usr/local/lib/python3.7/dist-packages/sklearn/svm/_base.py:289: ConvergenceWarning: Solver terminated early (max_iter=200).  Consider pre-processing your data with StandardScaler or MinMaxScaler.\n",
            "  ConvergenceWarning,\n",
            "/usr/local/lib/python3.7/dist-packages/sklearn/svm/_base.py:289: ConvergenceWarning: Solver terminated early (max_iter=300).  Consider pre-processing your data with StandardScaler or MinMaxScaler.\n",
            "  ConvergenceWarning,\n",
            "/usr/local/lib/python3.7/dist-packages/sklearn/svm/_base.py:289: ConvergenceWarning: Solver terminated early (max_iter=300).  Consider pre-processing your data with StandardScaler or MinMaxScaler.\n",
            "  ConvergenceWarning,\n",
            "/usr/local/lib/python3.7/dist-packages/sklearn/svm/_base.py:289: ConvergenceWarning: Solver terminated early (max_iter=500).  Consider pre-processing your data with StandardScaler or MinMaxScaler.\n",
            "  ConvergenceWarning,\n",
            "/usr/local/lib/python3.7/dist-packages/sklearn/svm/_base.py:289: ConvergenceWarning: Solver terminated early (max_iter=100).  Consider pre-processing your data with StandardScaler or MinMaxScaler.\n",
            "  ConvergenceWarning,\n",
            "/usr/local/lib/python3.7/dist-packages/sklearn/svm/_base.py:289: ConvergenceWarning: Solver terminated early (max_iter=100).  Consider pre-processing your data with StandardScaler or MinMaxScaler.\n",
            "  ConvergenceWarning,\n",
            "/usr/local/lib/python3.7/dist-packages/sklearn/svm/_base.py:289: ConvergenceWarning: Solver terminated early (max_iter=100).  Consider pre-processing your data with StandardScaler or MinMaxScaler.\n",
            "  ConvergenceWarning,\n",
            "/usr/local/lib/python3.7/dist-packages/sklearn/svm/_base.py:289: ConvergenceWarning: Solver terminated early (max_iter=200).  Consider pre-processing your data with StandardScaler or MinMaxScaler.\n",
            "  ConvergenceWarning,\n",
            "/usr/local/lib/python3.7/dist-packages/sklearn/svm/_base.py:289: ConvergenceWarning: Solver terminated early (max_iter=200).  Consider pre-processing your data with StandardScaler or MinMaxScaler.\n",
            "  ConvergenceWarning,\n",
            "/usr/local/lib/python3.7/dist-packages/sklearn/svm/_base.py:289: ConvergenceWarning: Solver terminated early (max_iter=200).  Consider pre-processing your data with StandardScaler or MinMaxScaler.\n",
            "  ConvergenceWarning,\n"
          ]
        },
        {
          "output_type": "stream",
          "name": "stdout",
          "text": [
            "[CV 1/3] END C=5.0, gamma=auto, kernel=linear, max_iter=300; accuracy: (test=0.839) recall: (test=0.815) total time=   0.0s\n",
            "[CV 2/3] END C=5.0, gamma=auto, kernel=linear, max_iter=300; accuracy: (test=0.679) recall: (test=0.556) total time=   0.0s\n",
            "[CV 3/3] END C=5.0, gamma=auto, kernel=linear, max_iter=300; accuracy: (test=0.750) recall: (test=0.741) total time=   0.0s\n",
            "[CV 1/3] END C=5.0, gamma=auto, kernel=linear, max_iter=500; accuracy: (test=0.839) recall: (test=0.815) total time=   0.0s\n",
            "[CV 2/3] END C=5.0, gamma=auto, kernel=linear, max_iter=500; accuracy: (test=0.679) recall: (test=0.556) total time=   0.0s\n",
            "[CV 3/3] END C=5.0, gamma=auto, kernel=linear, max_iter=500; accuracy: (test=0.750) recall: (test=0.741) total time=   0.0s\n",
            "[CV 1/3] END C=10, gamma=scale, kernel=rbf, max_iter=100; accuracy: (test=0.804) recall: (test=0.778) total time=   0.0s\n",
            "[CV 2/3] END C=10, gamma=scale, kernel=rbf, max_iter=100; accuracy: (test=0.768) recall: (test=0.704) total time=   0.0s\n",
            "[CV 3/3] END C=10, gamma=scale, kernel=rbf, max_iter=100; accuracy: (test=0.714) recall: (test=0.667) total time=   0.0s\n",
            "[CV 1/3] END C=10, gamma=scale, kernel=rbf, max_iter=200; accuracy: (test=0.804) recall: (test=0.778) total time=   0.0s\n",
            "[CV 2/3] END C=10, gamma=scale, kernel=rbf, max_iter=200; accuracy: (test=0.768) recall: (test=0.704) total time=   0.0s\n",
            "[CV 3/3] END C=10, gamma=scale, kernel=rbf, max_iter=200; accuracy: (test=0.696) recall: (test=0.630) total time=   0.0s\n",
            "[CV 1/3] END C=10, gamma=scale, kernel=rbf, max_iter=300; accuracy: (test=0.804) recall: (test=0.778) total time=   0.0s\n",
            "[CV 2/3] END C=10, gamma=scale, kernel=rbf, max_iter=300; accuracy: (test=0.768) recall: (test=0.704) total time=   0.0s\n",
            "[CV 3/3] END C=10, gamma=scale, kernel=rbf, max_iter=300; accuracy: (test=0.696) recall: (test=0.630) total time=   0.0s\n",
            "[CV 1/3] END C=10, gamma=scale, kernel=rbf, max_iter=500; accuracy: (test=0.804) recall: (test=0.778) total time=   0.0s\n",
            "[CV 2/3] END C=10, gamma=scale, kernel=rbf, max_iter=500; accuracy: (test=0.768) recall: (test=0.704) total time=   0.0s\n",
            "[CV 3/3] END C=10, gamma=scale, kernel=rbf, max_iter=500; accuracy: (test=0.696) recall: (test=0.630) total time=   0.0s\n",
            "[CV 1/3] END C=10, gamma=scale, kernel=poly, max_iter=100; accuracy: (test=0.804) recall: (test=0.778) total time=   0.0s\n",
            "[CV 2/3] END C=10, gamma=scale, kernel=poly, max_iter=100; accuracy: (test=0.768) recall: (test=0.704) total time=   0.0s\n",
            "[CV 3/3] END C=10, gamma=scale, kernel=poly, max_iter=100; accuracy: (test=0.732) recall: (test=0.667) total time=   0.0s\n",
            "[CV 1/3] END C=10, gamma=scale, kernel=poly, max_iter=200; accuracy: (test=0.821) recall: (test=0.778) total time=   0.0s\n",
            "[CV 2/3] END C=10, gamma=scale, kernel=poly, max_iter=200; accuracy: (test=0.750) recall: (test=0.630) total time=   0.0s\n",
            "[CV 3/3] END C=10, gamma=scale, kernel=poly, max_iter=200; accuracy: (test=0.768) recall: (test=0.741) total time=   0.0s\n",
            "[CV 1/3] END C=10, gamma=scale, kernel=poly, max_iter=300; accuracy: (test=0.821) recall: (test=0.778) total time=   0.0s\n",
            "[CV 2/3] END C=10, gamma=scale, kernel=poly, max_iter=300; accuracy: (test=0.750) recall: (test=0.630) total time=   0.0s\n",
            "[CV 3/3] END C=10, gamma=scale, kernel=poly, max_iter=300; accuracy: (test=0.768) recall: (test=0.741) total time=   0.0s\n",
            "[CV 1/3] END C=10, gamma=scale, kernel=poly, max_iter=500; accuracy: (test=0.821) recall: (test=0.778) total time=   0.0s\n",
            "[CV 2/3] END C=10, gamma=scale, kernel=poly, max_iter=500; accuracy: (test=0.750) recall: (test=0.630) total time=   0.0s\n",
            "[CV 3/3] END C=10, gamma=scale, kernel=poly, max_iter=500; accuracy: (test=0.768) recall: (test=0.741) total time=   0.0s\n",
            "[CV 1/3] END C=10, gamma=scale, kernel=linear, max_iter=100; accuracy: (test=0.750) recall: (test=0.704) total time=   0.0s\n",
            "[CV 2/3] END C=10, gamma=scale, kernel=linear, max_iter=100; accuracy: (test=0.714) recall: (test=0.593) total time=   0.0s\n",
            "[CV 3/3] END C=10, gamma=scale, kernel=linear, max_iter=100; accuracy: (test=0.643) recall: (test=0.630) total time=   0.0s\n",
            "[CV 1/3] END C=10, gamma=scale, kernel=linear, max_iter=200; accuracy: (test=0.821) recall: (test=0.741) total time=   0.0s\n",
            "[CV 2/3] END C=10, gamma=scale, kernel=linear, max_iter=200; accuracy: (test=0.714) recall: (test=0.778) total time=   0.0s\n",
            "[CV 3/3] END C=10, gamma=scale, kernel=linear, max_iter=200; accuracy: (test=0.732) recall: (test=0.852) total time=   0.0s\n",
            "[CV 1/3] END C=10, gamma=scale, kernel=linear, max_iter=300; accuracy: (test=0.821) recall: (test=0.778) total time=   0.0s\n",
            "[CV 2/3] END C=10, gamma=scale, kernel=linear, max_iter=300; accuracy: (test=0.732) recall: (test=0.704) total time=   0.0s\n",
            "[CV 3/3] END C=10, gamma=scale, kernel=linear, max_iter=300; accuracy: (test=0.768) recall: (test=0.852) total time=   0.0s\n"
          ]
        },
        {
          "output_type": "stream",
          "name": "stderr",
          "text": [
            "/usr/local/lib/python3.7/dist-packages/sklearn/svm/_base.py:289: ConvergenceWarning: Solver terminated early (max_iter=100).  Consider pre-processing your data with StandardScaler or MinMaxScaler.\n",
            "  ConvergenceWarning,\n",
            "/usr/local/lib/python3.7/dist-packages/sklearn/svm/_base.py:289: ConvergenceWarning: Solver terminated early (max_iter=100).  Consider pre-processing your data with StandardScaler or MinMaxScaler.\n",
            "  ConvergenceWarning,\n",
            "/usr/local/lib/python3.7/dist-packages/sklearn/svm/_base.py:289: ConvergenceWarning: Solver terminated early (max_iter=100).  Consider pre-processing your data with StandardScaler or MinMaxScaler.\n",
            "  ConvergenceWarning,\n",
            "/usr/local/lib/python3.7/dist-packages/sklearn/svm/_base.py:289: ConvergenceWarning: Solver terminated early (max_iter=200).  Consider pre-processing your data with StandardScaler or MinMaxScaler.\n",
            "  ConvergenceWarning,\n",
            "/usr/local/lib/python3.7/dist-packages/sklearn/svm/_base.py:289: ConvergenceWarning: Solver terminated early (max_iter=200).  Consider pre-processing your data with StandardScaler or MinMaxScaler.\n",
            "  ConvergenceWarning,\n",
            "/usr/local/lib/python3.7/dist-packages/sklearn/svm/_base.py:289: ConvergenceWarning: Solver terminated early (max_iter=200).  Consider pre-processing your data with StandardScaler or MinMaxScaler.\n",
            "  ConvergenceWarning,\n",
            "/usr/local/lib/python3.7/dist-packages/sklearn/svm/_base.py:289: ConvergenceWarning: Solver terminated early (max_iter=300).  Consider pre-processing your data with StandardScaler or MinMaxScaler.\n",
            "  ConvergenceWarning,\n",
            "/usr/local/lib/python3.7/dist-packages/sklearn/svm/_base.py:289: ConvergenceWarning: Solver terminated early (max_iter=300).  Consider pre-processing your data with StandardScaler or MinMaxScaler.\n",
            "  ConvergenceWarning,\n",
            "/usr/local/lib/python3.7/dist-packages/sklearn/svm/_base.py:289: ConvergenceWarning: Solver terminated early (max_iter=300).  Consider pre-processing your data with StandardScaler or MinMaxScaler.\n",
            "  ConvergenceWarning,\n",
            "/usr/local/lib/python3.7/dist-packages/sklearn/svm/_base.py:289: ConvergenceWarning: Solver terminated early (max_iter=500).  Consider pre-processing your data with StandardScaler or MinMaxScaler.\n",
            "  ConvergenceWarning,\n",
            "/usr/local/lib/python3.7/dist-packages/sklearn/svm/_base.py:289: ConvergenceWarning: Solver terminated early (max_iter=500).  Consider pre-processing your data with StandardScaler or MinMaxScaler.\n",
            "  ConvergenceWarning,\n",
            "/usr/local/lib/python3.7/dist-packages/sklearn/svm/_base.py:289: ConvergenceWarning: Solver terminated early (max_iter=500).  Consider pre-processing your data with StandardScaler or MinMaxScaler.\n",
            "  ConvergenceWarning,\n",
            "/usr/local/lib/python3.7/dist-packages/sklearn/svm/_base.py:289: ConvergenceWarning: Solver terminated early (max_iter=100).  Consider pre-processing your data with StandardScaler or MinMaxScaler.\n",
            "  ConvergenceWarning,\n",
            "/usr/local/lib/python3.7/dist-packages/sklearn/svm/_base.py:289: ConvergenceWarning: Solver terminated early (max_iter=100).  Consider pre-processing your data with StandardScaler or MinMaxScaler.\n",
            "  ConvergenceWarning,\n",
            "/usr/local/lib/python3.7/dist-packages/sklearn/svm/_base.py:289: ConvergenceWarning: Solver terminated early (max_iter=100).  Consider pre-processing your data with StandardScaler or MinMaxScaler.\n",
            "  ConvergenceWarning,\n",
            "/usr/local/lib/python3.7/dist-packages/sklearn/svm/_base.py:289: ConvergenceWarning: Solver terminated early (max_iter=200).  Consider pre-processing your data with StandardScaler or MinMaxScaler.\n",
            "  ConvergenceWarning,\n",
            "/usr/local/lib/python3.7/dist-packages/sklearn/svm/_base.py:289: ConvergenceWarning: Solver terminated early (max_iter=200).  Consider pre-processing your data with StandardScaler or MinMaxScaler.\n",
            "  ConvergenceWarning,\n",
            "/usr/local/lib/python3.7/dist-packages/sklearn/svm/_base.py:289: ConvergenceWarning: Solver terminated early (max_iter=200).  Consider pre-processing your data with StandardScaler or MinMaxScaler.\n",
            "  ConvergenceWarning,\n",
            "/usr/local/lib/python3.7/dist-packages/sklearn/svm/_base.py:289: ConvergenceWarning: Solver terminated early (max_iter=300).  Consider pre-processing your data with StandardScaler or MinMaxScaler.\n",
            "  ConvergenceWarning,\n",
            "/usr/local/lib/python3.7/dist-packages/sklearn/svm/_base.py:289: ConvergenceWarning: Solver terminated early (max_iter=300).  Consider pre-processing your data with StandardScaler or MinMaxScaler.\n",
            "  ConvergenceWarning,\n",
            "/usr/local/lib/python3.7/dist-packages/sklearn/svm/_base.py:289: ConvergenceWarning: Solver terminated early (max_iter=300).  Consider pre-processing your data with StandardScaler or MinMaxScaler.\n",
            "  ConvergenceWarning,\n"
          ]
        },
        {
          "output_type": "stream",
          "name": "stdout",
          "text": [
            "[CV 1/3] END C=10, gamma=scale, kernel=linear, max_iter=500; accuracy: (test=0.839) recall: (test=0.815) total time=   0.0s\n",
            "[CV 2/3] END C=10, gamma=scale, kernel=linear, max_iter=500; accuracy: (test=0.679) recall: (test=0.556) total time=   0.0s\n"
          ]
        },
        {
          "output_type": "stream",
          "name": "stderr",
          "text": [
            "/usr/local/lib/python3.7/dist-packages/sklearn/svm/_base.py:289: ConvergenceWarning: Solver terminated early (max_iter=500).  Consider pre-processing your data with StandardScaler or MinMaxScaler.\n",
            "  ConvergenceWarning,\n",
            "/usr/local/lib/python3.7/dist-packages/sklearn/svm/_base.py:289: ConvergenceWarning: Solver terminated early (max_iter=500).  Consider pre-processing your data with StandardScaler or MinMaxScaler.\n",
            "  ConvergenceWarning,\n",
            "/usr/local/lib/python3.7/dist-packages/sklearn/svm/_base.py:289: ConvergenceWarning: Solver terminated early (max_iter=100).  Consider pre-processing your data with StandardScaler or MinMaxScaler.\n",
            "  ConvergenceWarning,\n",
            "/usr/local/lib/python3.7/dist-packages/sklearn/svm/_base.py:289: ConvergenceWarning: Solver terminated early (max_iter=100).  Consider pre-processing your data with StandardScaler or MinMaxScaler.\n",
            "  ConvergenceWarning,\n",
            "/usr/local/lib/python3.7/dist-packages/sklearn/svm/_base.py:289: ConvergenceWarning: Solver terminated early (max_iter=100).  Consider pre-processing your data with StandardScaler or MinMaxScaler.\n",
            "  ConvergenceWarning,\n",
            "/usr/local/lib/python3.7/dist-packages/sklearn/svm/_base.py:289: ConvergenceWarning: Solver terminated early (max_iter=200).  Consider pre-processing your data with StandardScaler or MinMaxScaler.\n",
            "  ConvergenceWarning,\n",
            "/usr/local/lib/python3.7/dist-packages/sklearn/svm/_base.py:289: ConvergenceWarning: Solver terminated early (max_iter=200).  Consider pre-processing your data with StandardScaler or MinMaxScaler.\n",
            "  ConvergenceWarning,\n",
            "/usr/local/lib/python3.7/dist-packages/sklearn/svm/_base.py:289: ConvergenceWarning: Solver terminated early (max_iter=200).  Consider pre-processing your data with StandardScaler or MinMaxScaler.\n",
            "  ConvergenceWarning,\n",
            "/usr/local/lib/python3.7/dist-packages/sklearn/svm/_base.py:289: ConvergenceWarning: Solver terminated early (max_iter=300).  Consider pre-processing your data with StandardScaler or MinMaxScaler.\n",
            "  ConvergenceWarning,\n",
            "/usr/local/lib/python3.7/dist-packages/sklearn/svm/_base.py:289: ConvergenceWarning: Solver terminated early (max_iter=300).  Consider pre-processing your data with StandardScaler or MinMaxScaler.\n",
            "  ConvergenceWarning,\n",
            "/usr/local/lib/python3.7/dist-packages/sklearn/svm/_base.py:289: ConvergenceWarning: Solver terminated early (max_iter=100).  Consider pre-processing your data with StandardScaler or MinMaxScaler.\n",
            "  ConvergenceWarning,\n",
            "/usr/local/lib/python3.7/dist-packages/sklearn/svm/_base.py:289: ConvergenceWarning: Solver terminated early (max_iter=100).  Consider pre-processing your data with StandardScaler or MinMaxScaler.\n",
            "  ConvergenceWarning,\n",
            "/usr/local/lib/python3.7/dist-packages/sklearn/svm/_base.py:289: ConvergenceWarning: Solver terminated early (max_iter=100).  Consider pre-processing your data with StandardScaler or MinMaxScaler.\n",
            "  ConvergenceWarning,\n",
            "/usr/local/lib/python3.7/dist-packages/sklearn/svm/_base.py:289: ConvergenceWarning: Solver terminated early (max_iter=200).  Consider pre-processing your data with StandardScaler or MinMaxScaler.\n",
            "  ConvergenceWarning,\n",
            "/usr/local/lib/python3.7/dist-packages/sklearn/svm/_base.py:289: ConvergenceWarning: Solver terminated early (max_iter=200).  Consider pre-processing your data with StandardScaler or MinMaxScaler.\n",
            "  ConvergenceWarning,\n",
            "/usr/local/lib/python3.7/dist-packages/sklearn/svm/_base.py:289: ConvergenceWarning: Solver terminated early (max_iter=200).  Consider pre-processing your data with StandardScaler or MinMaxScaler.\n",
            "  ConvergenceWarning,\n",
            "/usr/local/lib/python3.7/dist-packages/sklearn/svm/_base.py:289: ConvergenceWarning: Solver terminated early (max_iter=300).  Consider pre-processing your data with StandardScaler or MinMaxScaler.\n",
            "  ConvergenceWarning,\n"
          ]
        },
        {
          "output_type": "stream",
          "name": "stdout",
          "text": [
            "[CV 3/3] END C=10, gamma=scale, kernel=linear, max_iter=500; accuracy: (test=0.768) recall: (test=0.778) total time=   0.0s\n",
            "[CV 1/3] END C=10, gamma=auto, kernel=rbf, max_iter=100; accuracy: (test=0.786) recall: (test=0.741) total time=   0.0s\n",
            "[CV 2/3] END C=10, gamma=auto, kernel=rbf, max_iter=100; accuracy: (test=0.768) recall: (test=0.704) total time=   0.0s\n",
            "[CV 3/3] END C=10, gamma=auto, kernel=rbf, max_iter=100; accuracy: (test=0.696) recall: (test=0.630) total time=   0.0s\n",
            "[CV 1/3] END C=10, gamma=auto, kernel=rbf, max_iter=200; accuracy: (test=0.804) recall: (test=0.778) total time=   0.0s\n",
            "[CV 2/3] END C=10, gamma=auto, kernel=rbf, max_iter=200; accuracy: (test=0.768) recall: (test=0.704) total time=   0.0s\n",
            "[CV 3/3] END C=10, gamma=auto, kernel=rbf, max_iter=200; accuracy: (test=0.696) recall: (test=0.630) total time=   0.0s\n",
            "[CV 1/3] END C=10, gamma=auto, kernel=rbf, max_iter=300; accuracy: (test=0.804) recall: (test=0.778) total time=   0.0s\n",
            "[CV 2/3] END C=10, gamma=auto, kernel=rbf, max_iter=300; accuracy: (test=0.768) recall: (test=0.704) total time=   0.0s\n",
            "[CV 3/3] END C=10, gamma=auto, kernel=rbf, max_iter=300; accuracy: (test=0.696) recall: (test=0.630) total time=   0.0s\n",
            "[CV 1/3] END C=10, gamma=auto, kernel=rbf, max_iter=500; accuracy: (test=0.804) recall: (test=0.778) total time=   0.0s\n",
            "[CV 2/3] END C=10, gamma=auto, kernel=rbf, max_iter=500; accuracy: (test=0.768) recall: (test=0.704) total time=   0.0s\n",
            "[CV 3/3] END C=10, gamma=auto, kernel=rbf, max_iter=500; accuracy: (test=0.696) recall: (test=0.630) total time=   0.0s\n",
            "[CV 1/3] END C=10, gamma=auto, kernel=poly, max_iter=100; accuracy: (test=0.821) recall: (test=0.778) total time=   0.0s\n",
            "[CV 2/3] END C=10, gamma=auto, kernel=poly, max_iter=100; accuracy: (test=0.768) recall: (test=0.667) total time=   0.0s\n",
            "[CV 3/3] END C=10, gamma=auto, kernel=poly, max_iter=100; accuracy: (test=0.732) recall: (test=0.704) total time=   0.0s\n",
            "[CV 1/3] END C=10, gamma=auto, kernel=poly, max_iter=200; accuracy: (test=0.821) recall: (test=0.778) total time=   0.0s\n",
            "[CV 2/3] END C=10, gamma=auto, kernel=poly, max_iter=200; accuracy: (test=0.750) recall: (test=0.630) total time=   0.0s\n",
            "[CV 3/3] END C=10, gamma=auto, kernel=poly, max_iter=200; accuracy: (test=0.768) recall: (test=0.741) total time=   0.0s\n",
            "[CV 1/3] END C=10, gamma=auto, kernel=poly, max_iter=300; accuracy: (test=0.821) recall: (test=0.778) total time=   0.0s\n",
            "[CV 2/3] END C=10, gamma=auto, kernel=poly, max_iter=300; accuracy: (test=0.750) recall: (test=0.630) total time=   0.0s\n",
            "[CV 3/3] END C=10, gamma=auto, kernel=poly, max_iter=300; accuracy: (test=0.768) recall: (test=0.741) total time=   0.0s\n",
            "[CV 1/3] END C=10, gamma=auto, kernel=poly, max_iter=500; accuracy: (test=0.821) recall: (test=0.778) total time=   0.0s\n",
            "[CV 2/3] END C=10, gamma=auto, kernel=poly, max_iter=500; accuracy: (test=0.750) recall: (test=0.630) total time=   0.0s\n",
            "[CV 3/3] END C=10, gamma=auto, kernel=poly, max_iter=500; accuracy: (test=0.768) recall: (test=0.741) total time=   0.0s\n",
            "[CV 1/3] END C=10, gamma=auto, kernel=linear, max_iter=100; accuracy: (test=0.750) recall: (test=0.704) total time=   0.0s\n",
            "[CV 2/3] END C=10, gamma=auto, kernel=linear, max_iter=100; accuracy: (test=0.714) recall: (test=0.593) total time=   0.0s\n",
            "[CV 3/3] END C=10, gamma=auto, kernel=linear, max_iter=100; accuracy: (test=0.643) recall: (test=0.630) total time=   0.0s\n",
            "[CV 1/3] END C=10, gamma=auto, kernel=linear, max_iter=200; accuracy: (test=0.821) recall: (test=0.741) total time=   0.0s\n",
            "[CV 2/3] END C=10, gamma=auto, kernel=linear, max_iter=200; accuracy: (test=0.714) recall: (test=0.778) total time=   0.0s\n",
            "[CV 3/3] END C=10, gamma=auto, kernel=linear, max_iter=200; accuracy: (test=0.732) recall: (test=0.852) total time=   0.0s\n",
            "[CV 1/3] END C=10, gamma=auto, kernel=linear, max_iter=300; accuracy: (test=0.821) recall: (test=0.778) total time=   0.0s\n",
            "[CV 2/3] END C=10, gamma=auto, kernel=linear, max_iter=300; accuracy: (test=0.732) recall: (test=0.704) total time=   0.0s\n",
            "[CV 3/3] END C=10, gamma=auto, kernel=linear, max_iter=300; accuracy: (test=0.768) recall: (test=0.852) total time=   0.0s\n",
            "[CV 1/3] END C=10, gamma=auto, kernel=linear, max_iter=500; accuracy: (test=0.839) recall: (test=0.815) total time=   0.0s\n",
            "[CV 2/3] END C=10, gamma=auto, kernel=linear, max_iter=500; accuracy: (test=0.679) recall: (test=0.556) total time=   0.0s\n",
            "[CV 3/3] END C=10, gamma=auto, kernel=linear, max_iter=500; accuracy: (test=0.768) recall: (test=0.778) total time=   0.0s\n"
          ]
        },
        {
          "output_type": "stream",
          "name": "stderr",
          "text": [
            "/usr/local/lib/python3.7/dist-packages/sklearn/svm/_base.py:289: ConvergenceWarning: Solver terminated early (max_iter=300).  Consider pre-processing your data with StandardScaler or MinMaxScaler.\n",
            "  ConvergenceWarning,\n",
            "/usr/local/lib/python3.7/dist-packages/sklearn/svm/_base.py:289: ConvergenceWarning: Solver terminated early (max_iter=300).  Consider pre-processing your data with StandardScaler or MinMaxScaler.\n",
            "  ConvergenceWarning,\n",
            "/usr/local/lib/python3.7/dist-packages/sklearn/svm/_base.py:289: ConvergenceWarning: Solver terminated early (max_iter=500).  Consider pre-processing your data with StandardScaler or MinMaxScaler.\n",
            "  ConvergenceWarning,\n",
            "/usr/local/lib/python3.7/dist-packages/sklearn/svm/_base.py:289: ConvergenceWarning: Solver terminated early (max_iter=500).  Consider pre-processing your data with StandardScaler or MinMaxScaler.\n",
            "  ConvergenceWarning,\n",
            "/usr/local/lib/python3.7/dist-packages/sklearn/svm/_base.py:289: ConvergenceWarning: Solver terminated early (max_iter=500).  Consider pre-processing your data with StandardScaler or MinMaxScaler.\n",
            "  ConvergenceWarning,\n",
            "/usr/local/lib/python3.7/dist-packages/sklearn/svm/_base.py:289: ConvergenceWarning: Solver terminated early (max_iter=100).  Consider pre-processing your data with StandardScaler or MinMaxScaler.\n",
            "  ConvergenceWarning,\n",
            "/usr/local/lib/python3.7/dist-packages/sklearn/svm/_base.py:289: ConvergenceWarning: Solver terminated early (max_iter=100).  Consider pre-processing your data with StandardScaler or MinMaxScaler.\n",
            "  ConvergenceWarning,\n",
            "/usr/local/lib/python3.7/dist-packages/sklearn/svm/_base.py:289: ConvergenceWarning: Solver terminated early (max_iter=100).  Consider pre-processing your data with StandardScaler or MinMaxScaler.\n",
            "  ConvergenceWarning,\n",
            "/usr/local/lib/python3.7/dist-packages/sklearn/svm/_base.py:289: ConvergenceWarning: Solver terminated early (max_iter=200).  Consider pre-processing your data with StandardScaler or MinMaxScaler.\n",
            "  ConvergenceWarning,\n",
            "/usr/local/lib/python3.7/dist-packages/sklearn/svm/_base.py:289: ConvergenceWarning: Solver terminated early (max_iter=200).  Consider pre-processing your data with StandardScaler or MinMaxScaler.\n",
            "  ConvergenceWarning,\n",
            "/usr/local/lib/python3.7/dist-packages/sklearn/svm/_base.py:289: ConvergenceWarning: Solver terminated early (max_iter=200).  Consider pre-processing your data with StandardScaler or MinMaxScaler.\n",
            "  ConvergenceWarning,\n",
            "/usr/local/lib/python3.7/dist-packages/sklearn/svm/_base.py:289: ConvergenceWarning: Solver terminated early (max_iter=300).  Consider pre-processing your data with StandardScaler or MinMaxScaler.\n",
            "  ConvergenceWarning,\n",
            "/usr/local/lib/python3.7/dist-packages/sklearn/svm/_base.py:289: ConvergenceWarning: Solver terminated early (max_iter=300).  Consider pre-processing your data with StandardScaler or MinMaxScaler.\n",
            "  ConvergenceWarning,\n",
            "/usr/local/lib/python3.7/dist-packages/sklearn/svm/_base.py:289: ConvergenceWarning: Solver terminated early (max_iter=300).  Consider pre-processing your data with StandardScaler or MinMaxScaler.\n",
            "  ConvergenceWarning,\n",
            "/usr/local/lib/python3.7/dist-packages/sklearn/svm/_base.py:289: ConvergenceWarning: Solver terminated early (max_iter=500).  Consider pre-processing your data with StandardScaler or MinMaxScaler.\n",
            "  ConvergenceWarning,\n",
            "/usr/local/lib/python3.7/dist-packages/sklearn/svm/_base.py:289: ConvergenceWarning: Solver terminated early (max_iter=500).  Consider pre-processing your data with StandardScaler or MinMaxScaler.\n",
            "  ConvergenceWarning,\n",
            "/usr/local/lib/python3.7/dist-packages/sklearn/svm/_base.py:289: ConvergenceWarning: Solver terminated early (max_iter=100).  Consider pre-processing your data with StandardScaler or MinMaxScaler.\n",
            "  ConvergenceWarning,\n"
          ]
        },
        {
          "output_type": "execute_result",
          "data": {
            "text/plain": [
              "GridSearchCV(cv=3, estimator=SVC(max_iter=500),\n",
              "             param_grid={'C': [1.0, 5.0, 10], 'gamma': ['scale', 'auto'],\n",
              "                         'kernel': ['rbf', 'poly', 'linear'],\n",
              "                         'max_iter': [100, 200, 300, 500]},\n",
              "             refit='accuracy', scoring=['recall', 'accuracy'], verbose=4)"
            ]
          },
          "metadata": {},
          "execution_count": 13
        }
      ]
    },
    {
      "cell_type": "code",
      "source": [
        "# Propuesta 3: Continuación\n",
        "print(f'Los parámetros del mejor modelo son: {grid.best_params_}')\n",
        "print('')\n",
        "\n",
        "# Se hace la predicción\n",
        "y_pred = grid.predict(x_train)\n",
        "y_pred_test = grid.predict(x_test)\n",
        "\n",
        "# Métricas en test\n",
        "print('Métricas en test')\n",
        "display_metrics(y_test, y_pred_test)\n",
        "\n",
        "# Métricas en train\n",
        "print('Métricas en train')\n",
        "display_metrics(y_train, y_pred)"
      ],
      "metadata": {
        "colab": {
          "base_uri": "https://localhost:8080/",
          "height": 1000
        },
        "id": "HHGmlrg1rQIa",
        "outputId": "9d89bb43-2f1a-4849-e332-f11072db2712"
      },
      "execution_count": null,
      "outputs": [
        {
          "output_type": "stream",
          "name": "stdout",
          "text": [
            "Los parámetros del mejor modelo son: {'C': 5.0, 'gamma': 'scale', 'kernel': 'rbf', 'max_iter': 100}\n",
            "\n",
            "Métricas en test\n",
            "Sensibilidad (Recall): 0.7741935483870968\n",
            "Precisión: 0.8571428571428571\n",
            "Accuracy: 0.8035714285714286\n",
            "Score f1: 0.8135593220338982\n",
            "\n",
            "Todas las métricas:\n",
            "              precision    recall  f1-score   support\n",
            "\n",
            "       False       0.75      0.84      0.79        25\n",
            "        True       0.86      0.77      0.81        31\n",
            "\n",
            "    accuracy                           0.80        56\n",
            "   macro avg       0.80      0.81      0.80        56\n",
            "weighted avg       0.81      0.80      0.80        56\n",
            "\n"
          ]
        },
        {
          "output_type": "display_data",
          "data": {
            "text/plain": [
              "<Figure size 432x288 with 2 Axes>"
            ],
            "image/png": "[encoded data removed]"
          },
          "metadata": {
            "needs_background": "light"
          }
        },
        {
          "output_type": "stream",
          "name": "stdout",
          "text": [
            "Métricas en train\n",
            "Sensibilidad (Recall): 0.8888888888888888\n",
            "Precisión: 0.8780487804878049\n",
            "Accuracy: 0.8869047619047619\n",
            "Score f1: 0.8834355828220859\n",
            "\n",
            "Todas las métricas:\n",
            "              precision    recall  f1-score   support\n",
            "\n",
            "       False       0.90      0.89      0.89        87\n",
            "        True       0.88      0.89      0.88        81\n",
            "\n",
            "    accuracy                           0.89       168\n",
            "   macro avg       0.89      0.89      0.89       168\n",
            "weighted avg       0.89      0.89      0.89       168\n",
            "\n"
          ]
        },
        {
          "output_type": "display_data",
          "data": {
            "text/plain": [
              "<Figure size 432x288 with 2 Axes>"
            ],
            "image/png": "[encoded data removed]"
          },
          "metadata": {
            "needs_background": "light"
          }
        }
      ]
    },
    {
      "cell_type": "markdown",
      "source": [
        "Las métricas de train mejoraron un poco."
      ],
      "metadata": {
        "id": "-R0tJNE2sGl6"
      }
    },
    {
      "cell_type": "markdown",
      "metadata": {
        "id": "uB8kl4JIVxyv"
      },
      "source": [
        "## Punto 2 (15 pts)"
      ]
    },
    {
      "cell_type": "markdown",
      "metadata": {
        "id": "J2a-Cz5vVxyv"
      },
      "source": [
        "En la siguiente celda se muestran las matrices de confusión pertenecientes a dos modelos (A y B) diferentes entrenados sobre los mismos datos. Asuma para todas las preguntas la clase positiva como aquella con la etiqueta 1:\n"
      ]
    },
    {
      "cell_type": "code",
      "execution_count": null,
      "metadata": {
        "colab": {
          "base_uri": "https://localhost:8080/",
          "height": 513
        },
        "id": "CQwBhxH5Vxyv",
        "outputId": "606cbb69-57c0-41eb-bf12-3c672932b517"
      },
      "outputs": [
        {
          "output_type": "display_data",
          "data": {
            "text/plain": [
              "<Figure size 1440x576 with 4 Axes>"
            ],
            "image/png": "[encoded data removed]"
          },
          "metadata": {
            "needs_background": "light"
          }
        }
      ],
      "source": [
        "plt.figure(figsize=(20,8))\n",
        "plt.subplot(1,2,1)\n",
        "\n",
        "disp_A = sns.heatmap(np.array([[8,10],[2,50]]),annot=True)\n",
        "disp_A.plot()\n",
        "disp_A.set_title('Modelo A')\n",
        "disp_A.set_xlabel('Predicted label')\n",
        "disp_A.set_ylabel('True label')\n",
        "\n",
        "plt.subplot(1,2,2)\n",
        "disp_B = sns.heatmap(np.array([[12,3],[15,40]]), annot=True)\n",
        "disp_B.plot()\n",
        "disp_B.set_title('Modelo B')\n",
        "disp_B.set_xlabel('Predicted label')\n",
        "disp_B.set_ylabel('True label')\n",
        "\n",
        "plt.show()"
      ]
    },
    {
      "cell_type": "markdown",
      "metadata": {
        "id": "OluYLc6UVxyv"
      },
      "source": [
        "2.1 Supongamos que queremos clasificar personas que poseen una enfermedad contagiosa mortal (clase positiva) de personas sanas (clase negativa). \n",
        "\n",
        "¿Cuál de los dos modelos sería mejor para este problema? Explique y justifíquelo a partir del cálculo de métricas (5pts)."
      ]
    },
    {
      "cell_type": "markdown",
      "metadata": {
        "id": "-eWI4ivuVxyv"
      },
      "source": [
        "El mejor modelo es el que tenga la mejor sensibilidad ya que estamos ante un caso grave de una enfermedad mortal, y lo que buscamos es minimizar los falsos negativos.\n",
        "\n",
        "Sensibilidad = `TP / (TP + FN)`\n",
        "\n",
        "La sensibilidad del modelo A es 50 / 50 + 2 = **0,9615**\n",
        "\n",
        "La sensibilidad del modelo B es 40 / 40 + 15 = 0,7272\n",
        "\n",
        "El mejor **modelo es el A**."
      ]
    },
    {
      "cell_type": "markdown",
      "metadata": {
        "id": "g7rA_CA7Vxyv"
      },
      "source": [
        "2.2 Proponga un escenario en el cual el modelo B se prefiere sobre el modelo A.\n",
        "Explique y justifíquelo a partir del calculo de métricas (5 pts)."
      ]
    },
    {
      "cell_type": "markdown",
      "metadata": {
        "id": "5FDtycayVxyw"
      },
      "source": [
        "El modelo B se podría preferir sobre el A cuando tengamos un caso que no sea grave, por ejemplo el de un modelo de una campaña de marketing, que no sea una enfermedad ni nada por el estilo.\n",
        "\n",
        "Podemos evaluar la métrica de precisión, lo que buscamos es minimizar los falsos positivos:\n",
        "\n",
        "Precisión = `TP / (TP + FP)`\n",
        "\n",
        "La precisión del modelo A es 50 / 50 + 10 = 0,8333\n",
        "\n",
        "La precisión del modelo B es 40 / 40 + 3 = **0,9302**\n",
        "\n",
        "El mejor **modelo es el B**."
      ]
    },
    {
      "cell_type": "markdown",
      "metadata": {
        "id": "JbQMMzxCVxyw"
      },
      "source": [
        "2.3 Proponga un escenario en el cual ninguno de los modelos (A y B) tiene un desempeño satisfactorio.\n",
        "\n",
        "Explique y justifiquelo a partir del calculo de métricas (5 pts)."
      ]
    },
    {
      "cell_type": "markdown",
      "metadata": {
        "id": "i9LtNY1pVxyw"
      },
      "source": [
        "Puede ser que los datos no esten balanceados y utilicemos el accuracy para determinar cuál es el mejor de los 2.\n",
        "\n",
        "Accuracy = `TP + TN / TP + TN + FP + FN`\n",
        "\n",
        "Accuracy del modelo A es 50 + 8 / 8 + 10 + 2 + 50 = 0,8285\n",
        "\n",
        "Accuracy del modelo B es 40 + 12 / 12 + 3 + 15 + 40 = 0,7428\n",
        "\n",
        "Al saber que las clases no están balanceadas que que el accuracy tampoco se acerca a 1 podríamos decir que no es posible seleccionar el modelo A ni el B."
      ]
    },
    {
      "cell_type": "markdown",
      "metadata": {
        "id": "Zpu2of6JVxyw"
      },
      "source": [
        "## Punto 3 (25 pts)"
      ]
    },
    {
      "cell_type": "markdown",
      "metadata": {
        "id": "nBbByHGxVxyw"
      },
      "source": [
        "3.1 Suponga que después de entrenar su modelo obtiene esta gráfica de evolución de la función de error en sus datos de entrenamiento y de validación.\n",
        "\n",
        "![Imagen1.jpg](data:image/jpeg;base64,/9j/4AAQSkZJRgABAQEAeAB4AAD/2wBDAAMCAgMCAgMDAwMEAwMEBQgFBQQEBQoHBwYIDAoMDAsKCwsNDhIQDQ4RDgsLEBYQERMUFRUVDA8XGBYUGBIUFRT/2wBDAQMEBAUEBQkFBQkUDQsNFBQUFBQUFBQUFBQUFBQUFBQUFBQUFBQUFBQUFBQUFBQUFBQUFBQUFBQUFBQUFBQUFBT/wAARCAEqAasDASIAAhEBAxEB/8QAHwAAAQUBAQEBAQEAAAAAAAAAAAECAwQFBgcICQoL/8QAtRAAAgEDAwIEAwUFBAQAAAF9AQIDAAQRBRIhMUEGE1FhByJxFDKBkaEII0KxwRVS0fAkM2JyggkKFhcYGRolJicoKSo0NTY3ODk6Q0RFRkdISUpTVFVWV1hZWmNkZWZnaGlqc3R1dnd4eXqDhIWGh4iJipKTlJWWl5iZmqKjpKWmp6ipqrKztLW2t7i5usLDxMXGx8jJytLT1NXW19jZ2uHi4+Tl5ufo6erx8vP09fb3+Pn6/8QAHwEAAwEBAQEBAQEBAQAAAAAAAAECAwQFBgcICQoL/8QAtREAAgECBAQDBAcFBAQAAQJ3AAECAxEEBSExBhJBUQdhcRMiMoEIFEKRobHBCSMzUvAVYnLRChYkNOEl8RcYGRomJygpKjU2Nzg5OkNERUZHSElKU1RVVldYWVpjZGVmZ2hpanN0dXZ3eHl6goOEhYaHiImKkpOUlZaXmJmaoqOkpaanqKmqsrO0tba3uLm6wsPExcbHyMnK0tPU1dbX2Nna4uPk5ebn6Onq8vP09fb3+Pn6/9oADAMBAAIRAxEAPwD9U6KKKACiiigAooooAKKKKACiiigAooooAKKKKACiiigAorzP4w/GyX4OwJeXPgPxN4j0hmtYm1PRZNO8mOa4uFt4oStxeQybjI8fIQoBIDu4bbpW/wAY9AsbOy/4S6aD4d6reOFh0XxPqlhHdvl/LQgQ3EqMHbhdrkknGAeKAO6ormvD/wATPB/izW9Q0bQ/Feh6zrGnZ+2afp+owz3Ftg7T5kaMWTB4+YDmsWP43eC9L8N6JqXiXxn4Q0SXUrKC8Tb4ghktZFlHytBPJ5fnRMwYJJsXdjoOlAHf0VzN9480zR9a1KDU9W0PT9OsrG1vHnn1VUnj8+WWNWliZQI4mMYWOTefMbzF2jZlm6X8UvBeueHdQ1/TvF2g6hoOnM6XuqWupwyWtsygFxJKrFUIBGdxGM0AdRRWF4U8d+GvHlrJc+GvEOleIraPbvm0m9iukTcoZcmNiBlSCPUHNV4fiZ4PufGEnhOHxXocviqNSz6Gmowm+UBdxJgDbwMc9OlAHS0Vy2n/ABU8Fav4l/4R2w8X6De+IMzD+ybfU4JLvMLtHMPKDbvkeN1bj5WRgcEGub1z4+eGrL4k+E/BWk6lpWv6vq2sTaRqFvZ6nE1xpLR2F3dhpYV3MCfshTa2z7+cnbggHptFcxcfELTrT4lWXgmeC6h1S+0qbVrS4dFFvPHFLHHNGrbtxkQzRMV242yAgnkDn7X9oPwL/Zuranq+vWPhbSrDWrnQU1DxBeQWcF5cwELN5DvJ86rJvj5wd0T8YAJAPR6K858TfGGDRfG2n6DbQ6fPa33hXU/E8esXepC3s0S0ks0Cu4RwsTi83mYZ2LGTtbPFD4yftDeGvg38PNX1y/1PRLnX7XQrjW7Lw6dYiim1JYoWkKwEjc6naRvWM8c47UAeq0VzV98TPB+meLLbwteeK9DtPE90AYNFn1GFL2UEZBWEtvbI9BXE6d+034G8R6h430fRfEfh/wD4SLwnfPY3lhrGtQWgPl+T5k2VMjrCrziLeyf61WQgHmgD1uiufuPiF4Ws/Ftv4WuPEujweJ7iPzYdFkv4lvZEwTuWEtvIwDyB2NVrL4qeCtS8TL4btPF+g3XiJmmUaRDqcD3ZMTMko8kNvyjI6tx8pVgcYNAHU0VzXiLx9p/hnxZ4U8PXUNzJe+JJ7i3tJIVUxo0MDzuZCWBAKoQMA846DmpfE/xC8LeCbrT7bxF4l0fQbjUZPKsodUv4rZ7p+BtjDsC55HC56igDoKK5rVPiZ4P0TxVZeGdR8V6JYeJL7abXR7rUYY7y4ySB5cLMHbJBxgHpRo/xM8H+IvE1/wCG9K8V6JqfiHTwxvNJs9Rhlu7YKQreZErF0wSAcgYJFAHS0UUUAFFFFABRRRQAUUUUAFFFFABRRRQAUUUUAFFFFABRRRQAUUUUAFFFFABRXkHhPVfih46s9U1Sy8S+EdKsY9a1XTre1uPDF1cyLFa39xaoXkGoxhmKwhiQijJOBW3/AGH8Wf8AodfBn/hH3f8A8tKAPRKK87/sP4s/9Dr4M/8ACPu//lpR/YfxZ/6HXwZ/4R93/wDLSgD0SivO/wCw/iz/ANDr4M/8I+7/APlpR/YfxZ/6HXwZ/wCEfd//AC0oA9Eorzv+w/iz/wBDr4M/8I+7/wDlpR/YfxZ/6HXwZ/4R93/8tKAPRKK87/sP4s/9Dr4M/wDCPu//AJaUf2H8Wf8AodfBn/hH3f8A8tKAIv2hvCOr+OvhhLpOh2n23UG1fR7oQ+Ykf7uDU7WeVsuQPljidsZyduBkkCq118P7y6/absvGcumRy6Va+EptLi1B2jLR3D3aSGNVzuGUXJYDHGM9qvf2H8Wf+h18Gf8AhH3f/wAtKP7D+LP/AEOvgz/wj7v/AOWlAHhngH4f/F/UfjZ8PPEfi3TNSgg0R9Vh1Rmk0ePTIUngcRiwS3X7U8LOsWftD7shSU6stj4N/s/eI9C03weniTw1AJ9O+Edr4Tn86aCby73J8624c5BAXLDKHH3jXtf9h/Fn/odfBn/hH3f/AMtKP7D+LP8A0Ovgz/wj7v8A+WlAHztqH7PPjvV/h1qGkX3h8XdzefDfwZ4fmgmvLdhLeWV7dSX0LEyYOxJVJYna27CljkV1/wAV/g74jvPHXjXXdN0S2utGkufCOo2+nSXMEEervYXdw1xb/MwCvsa22GTarMsa5wCV9a/sP4s/9Dr4M/8ACPu//lpWfr3gP4i+KtHutJ1rxH4B1jSrpPLuLG/8EXM8Ey5ztdH1MqwyBwR2oA4z9l+6l1n4mfHjWH0AeHFu/Elmj2PnQzPHMmmWokErwM8Xm5ILhHYAtgsSDXIeNPh/8X/F3xY0We40zUv7I0fx3batA1pJo8OkjS1k2+apKm/a68pmEgLIpy4XeMKfXfDPw48feCtGg0jw9rvw90HSYM+VY6Z4FuLaCPJydsaamFGTzwK1f7D+LP8A0Ovgz/wj7v8A+WlAHk+h/A7xDpejeHmTw/Db6pB8WtV8U3ciSwB/sM97flLgsG5LW80I2gl9rbSowQML4e/CHxvovir4F6VfeAlt7f4f6tqr6n4uN9aMt7HcWF9Es8KLIZj50ssTSh0Vg7LgOoZ191/sP4s/9Dr4M/8ACPu//lpR/YfxZ/6HXwZ/4R93/wDLSgDB/aW8J+LtQ8P6F4s+HemQ6x4/8Kah9s03T5p0gS8imja3uYGkchQpjl8zk/ehTviuP174ZePPhv4D+GXhTwampahpum2Vxb69qOgrpZ1WW7dY285TqQMIilla5eYhS+WTapGa9O/sP4s/9Dr4M/8ACPu//lpR/YfxZ/6HXwZ/4R93/wDLSgD518Mfs+/EWx+GPh7SL7Q/+JlY/C7xX4ZkjF7bMEvbq6s2s4AVKrho4HwyqqKFAOzgUz4wfBHx9efD34teG9N+Hy+MLzxx4a0+2sb439nFHp09tZLCbebzpVYbZUM0TRh1LyncYxlq+jf7D+LP/Q6+DP8Awj7v/wCWlH9h/Fn/AKHXwZ/4R93/APLSgDw39oj4f/F/x94j8R6bpOmalNov9q6Tf6M2myaPDYSRwPbSSvdvcKbz7Sskc2zydibVjG/O4HU8cfDPxteaD8dPCtl4Tu71fFWsR65pWrx3lmtpKvkadE0DB5llSUNbzHmPYVUfPkha9e/sP4s/9Dr4M/8ACPu//lpR/YfxZ/6HXwZ/4R93/wDLSgDx/wASfCLxjdaz4p8NweFVuYte8c6f4rg8cfa7cR2dvDLaSlXQuLjz41tngjCIyFWXLqNy1Y034H+IdP0exaLw/DDqg+Ld54qnkSWAObGS+uCLgtu5Jt5EG3O/adpXqK9Y/sP4s/8AQ6+DP/CPu/8A5aUf2H8Wf+h18Gf+Efd//LSgDB+OGm+JIfHnwv8AE+geEtR8YQaBqF9LfWWlXNnDcKk1lLCjL9qnhRhvcZAbOO1cD478L+NPE+ueL/EK/Cu81ZfGvg+Pw3HpWrX+nLNos0U17uFyRcPGbeYXMUhNu8rjygGTOAvrn9h/Fn/odfBn/hH3f/y0o/sP4s/9Dr4M/wDCPu//AJaUAeTWvw38feCfHmiR+FtO1yWWSXRYvEOtX1zps2h6rDbwwQ3Fw0cjm9iuRFGyx+UoQuqFsgk1tfBvwn408JfEj7FZ6FregfDyOO/lmsvEdzpl1HFcSzrJH/Z0ls7XHlsWmZxcngbdoB4rv/7D+LP/AEOvgz/wj7v/AOWlH9h/Fn/odfBn/hH3f/y0oA9Eorzv+w/iz/0Ovgz/AMI+7/8AlpR/YfxZ/wCh18Gf+Efd/wDy0oA9Eorzv+w/iz/0Ovgz/wAI+7/+WlH9h/Fn/odfBn/hH3f/AMtKAPRKK87/ALD+LP8A0Ovgz/wj7v8A+WlH9h/Fn/odfBn/AIR93/8ALSgD0SivO/7D+LP/AEOvgz/wj7v/AOWlH9h/Fn/odfBn/hH3f/y0oA9Eorzv+w/iz/0Ovgz/AMI+7/8AlpR/YfxZ/wCh18Gf+Efd/wDy0oA9Eork/hJ4qvfHXwp8GeJdSSCPUdZ0Wy1G5S1RkiWWWBJHCKzMQu5jgFicY5PWusoAKKKKACiiigAooooAKKKKACiiigDzv4D/APIkan/2NPiP/wBPd7XcaxqA0jSb2+aNpVtYHnManBbapbA/KuH+A/8AyJGp/wDY0+I//T3e12niCH7RoOpRf89LaRPzQiplezsTK/K7FLwL4qh8deCtB8R28D20Gr2EF8kMhBaMSRhwpI6kbsfhW7Xmn7M832j9n34et1xolqn/AHzGB/SvS6zoyc6UZvqkY4ebqUYTlu0n+AUUUVsdAUUUUAFFFFABRRRQAUUUUAFFFFABRRRQAUUUUAFFFFABRRRQAUUUUAFZt9bxXmqWkM8azQ+TK/luMqWBjAOPox/OtKsnWNPt9WuhY3cfm2t1ZXEE0e4ruRjGrDI5GQT0o9BO/Qsf2Hpv/QPtf+/K/wCFH9h6b/0D7X/vyv8AhXmX/DKPwr/6Fb/yoXX/AMdo/wCGUfhX/wBCt/5ULr/47XJzYj+SP/gT/wDkTj58V/JH/wACf/yB6b/Yem/9A+1/78r/AIVzPxE1iy+H/hm51tPBt14khtVeW4t9Ijs1liiVGdpD9omiUgBcYVi2SMDqQ3wL8F/Bvw11C4vvDej/ANnXVxF5Ekn2qaXcmQ2MO7AcgdK2/G+iz+JfBev6RavHHc6hp9xaRNMSEDyRsoLEAnGSM4Brog5te+rPyd/0R003Nx/eJJ+Tv+i/I4bwr8WvBGvWds+sWlj4J1C6gF5b6R4ivNOS8ltTEZRcCOGeXEZVJTliCPKkJAC5rd0/xl4H1y00q80S70LXrHUr46dDeabdWksXnCN5CobeN7ARnKJufvt2hiOFtvgn4n0u38ZXOlarp+ma9qngnS/DmnalHuZ7a6tVvN0hynEe65jKkZPysSowAee8C/s8eLdG8UR6vqE+n28B8WW3iA2ba9f6vLHFHpM1k6m5uow8khd0YZCqEGBjaAbND1C2+JHw51bR7/UdE1jw14igsVge4/su/spPKWYgRMzGQIobOVLMN3bJwK0tO8V+AdY8Qz6BYax4bvddgEhl0u3ureS5jEblJC0QO4bXBVsjgjB5rxK1/Zd8RWXw78IeH4LrRYbnSfA2n+Grpo5JFjkuoLi1ld1IiyYz5M2GIDZcZUZJGxqv7N2q6no8Vl9usdPaTxP4j1i7vLQuZvs2o2uoQxbPkG6VTdW5ZSQP3Rwx2rkA9W8LeKfAXjmW5i8N6v4c8QS2wDTppdzb3JiBJALBCduSrDnup9Ki8N+JvC/iTQ9X1dbK307T9Kv76wup9QiiiVGtJnhlkLZIEeY2IYkfLyQOleTfs22XiHVviR4h8Rat4ci8P2MHhjRvD9u8NheWi3MltLeO5VLu3glwqzR8eWUXcFDuQ2Jrz4R/EK+8J+MfBj2HhddE1TXL7WrTVW1i4eZ/Mv2vYoJ7T7GF2MdsUmJj8rMQG+6QD0m4+I/wvtfDdr4hn8UeEYdAupTBb6rJqFqtrNIM5RJS21mG08A54PpWjb+JPAt54ok8NW+qeHp/EccfnPo8dxA12sZUNvMIO8LhlOcYwQe9eNeIPgb481L+3PENlBomleNtW1aXUre40/xBc28ejE2NtaKVf7GwvN/2YPIksKKcqP4Nx6/wn8NfGXh/4syazHc2On+HLovPq0dvqU041a5MCRrMLOSALZvlASYpmDBcFSWJAB6r/Yem/wDQPtf+/K/4VHY28Vnql3DBGsMPkxP5aDChiZATj6KPyrSqjD/yG7v/AK94f/QpaAOJ/Zx/5N6+GH/Yr6X/AOkkVeiV53+zj/yb18MP+xX0v/0kir0SgAooooAKKKKACiiigArxf41eKPFC+Kk0Pw54jfwt9j8Mal4ie6jtYJzczQPAkMLiZGAhHmOZNm1zlNrpzn2iuQ8f/Cfwv8T1tR4j0+W8NtHNAjW97Pas0MoUTQOYXQyQybE3xPlG2LuU4FAHn/xE8TeO/EHhX4ea94Wh8RWmnX8H2/XIfC8emy3sUT2u+NVF+CjASEZCAuccA9K9L0fxdb6x8PdM8TaFHeeKrO906C/svs3kx3F9FJGrow8xoo1ZlYN8xQc9ulVfEfws0HxVYpZ38mspbLJLJ5djr1/Zg+Zjch8mZMx4AAjPyKOiiuk0rS7PQ9Ls9N0+2isrCzhS3t7aBAkcUaKFRFUcAAAAD0FAHnf7Ol3Lf/De5uZ7KfTZpvEniGR7O6aNpYGOtXpKOY2ZCw6HazDjgkc16XJGJY3Q9GBB/GvPvgP/AMiRqf8A2NPiP/093teiUAeTfsoyGT9nTwFnqunLGf8AgLMv9K9ZryT9lHj4A+FU/wCeYuov++bqZf6V63XJhP8Ad6f+FfkcWB/3Sl/hj+SCiiius7QooooAKKKKACiiigAooooAKKKKACiiigAooooAKKKKACiiigAooooAKzNRu4NP1CO6upo7a2htLiSWaZgqRoDGSzE8AAAkk1p1majaQahqEVrdQx3NtNaXEcsMyBkkQmMFWB4IIJBBqo2uubYDmf8Ahe3w1/6KH4V/8Hdt/wDF0f8AC9vhr/0UPwr/AODu2/8Ai6P+FE/DX/onnhX/AMElt/8AEUf8KJ+Gv/RPPCv/AIJLb/4ive/4Rv8Ap7/5IZfvPI1/DfxG8J+MrqW18P8AijRtcuYk8ySHTdQhuHRMgbiEYkDJAz71e1LxPpmkazpGlXlz5F9qzyx2UbRsRM8cZkdQwG0MEVmwSCQrYzg4o+G/hz4T8G3Ut14f8L6NodzKnlyTabp8Nu7pkHaSigkZAOPasH43fC24+LXgn+ydO16TwtrdvcpdafrkNuJ5LKTDRuyoWXJaGSaPqMeYTzjB8nEew9o/q1+X+9a/4aFxvbUkt/jh4Oul0CSK+vmstdEJ0/Uf7IvBZS+dJ5cINz5XlIZHwqB3UtvTAO9c4ei/tDaJcW9zc60bbQba2bxAZfNnllk8rS9UOntKoWHaQ52Nt3bwZFRVk5Ycp44/ZJs/FPirRtQsdU03T9M0ptF+xW95oi3l1YJp1ysyxWdw0q/Z0lCBXAQk9d2Plq3f/sspqEMqt4meOTOvSwSJYjMU+oa3Fq0MmDIQwgkhRCp/1gycp0rlKOi8N/tEaH4hbxdMNN1pLHQdUh0vNvo1/cXkryWkVwS9mtv58O3zSvzJ0AbI3AVS1L9qDwrbalrtrard3Nrp/hWLxXHrBsbw6dJbul1IPMnigkEQC2hO4gkliqqzqUrA1j9mHWPEr6re634r0bWdR1PxBDrtzaX3hsy6TKI9OWxEElmbrMigKsqlpTtkVSQ2BVbTf2Tb7Q/At74VsPGNstlqXgk+C9Qln0XLsii98i4hCTosRVr5yyFWDBAAY+tAHqn/AAujwevi3/hGn1Vxqwk+znFncG28/wAj7R9n+0+X5PneV+88rfv287cUnw5+NXg/4sf8ixqc96DZQajH9o0+5tPPtZs+VPF58aebGdpG5MgEYJB4rlJPgBdv4oab/hJUHhdta/4SL+yf7O/0j7d9m8nH2nzceTu/e7PL3buPM2/LWt8Nvgv/AMK9uvCkw1j7eNB8JWvhbb9l8rz/ACSh8/75252fc5xn7xoA1ND+K2nXmg+MNZ1cR6HpfhrUbyyubqabenl24BaY/KNuQfu89OpqkP2gvBDaetyt7qkkrXp0/wDs2PQb9tRWcQ+cUayEH2hf3REm4xgbWBzgiuX1D4C+JdQtvGmhv4x0uPwj4mvrvUHto9Bk/tG2llAKFLk3ZjISVUfDQHcFKnGdwq+Iv2cdZ8VafrM+qeI9AvvEmrXsd3NqM3h2YRWgjthBEbNEvVlglUb283zmJMjjAXAAB6ZpfxR8P614rn8O2MmoXGp2+0Tsuk3f2aB2hWYRyXHleSknlyI3ls4fDrxyK3of+Q3d/wDXvD/6FLXl2h/AnUNH+JukeKm8SwNHYwrFcm20+SDUNYK2n2cf2hcC4MdwAcSDMCsGjjAbCkN6jD/yG7v/AK94f/QpaAOJ/Zx/5N6+GH/Yr6X/AOkkVeiV53+zj/yb18MP+xX0v/0kir0SgAooooAKKKKACiiigAooooAKKKKAPO/gP/yJGp/9jT4j/wDT3e16JXnfwH/5EjU/+xp8R/8Ap7va9EoA8k/ZW+X4J6ZF3h1HVYj/AMB1G5H8sV63Xkn7MX7v4c6hb/8APv4i1mL8tQnP9a9brkwn+70/RfkcWB/3Wl/hX5BRRRXWdoUUUUAFFFFABRRRQAUUUUAFFFFABRRRQAUUUUAFFFFABRRRQAUUUUAFV7qxhvNhkDbk+6yOyMM9eVINWKKAKP8AY8H/AD0uv/AuX/4qj+x4P+el1/4Fy/8AxVXqKAKP9jwf89Lr/wAC5f8A4qj+x4P+el1/4Fy//FVeooAo/wBjwf8APS6/8C5f/iqP7Hg/56XX/gXL/wDFVeooAo/2PB/z0uv/AALl/wDiqP7Hg/56XX/gXL/8VV6igCj/AGPB/wA9Lr/wLl/+Ko/seD/npdf+Bcv/AMVV6igCj/Y8H/PS6/8AAuX/AOKo/seD/npdf+Bcv/xVXqKAKP8AY8H/AD0uv/AuX/4qprWxhs95jDbn+8zuzscdOWJNWKKAPO/2cf8Ak3r4Yf8AYr6X/wCkkVeiV53+zj/yb18MP+xX0v8A9JIq9EoAKKKKACiiigAooooAK5Hx98WPC/wxW1PiPUJbP7THNMiwWU90ywxBTNO4hRzHDHvTfK+ETeu5hkV11eLfGvwx4obxUmueHPDj+KReeGNS8PPax3UEBtpp3geGZzM6Awny3Emzc4wm1H5wAekeOfiB4f8Aht4N1DxV4j1KPTtAsIhNPebHlAUkBdqoGZySQAqgkkgAHNbltcR3lvFPC2+KVA6NgjKkZB59q+ePjH8EfGfjb4O2Gg6BqNrb3Ph/Qb/TE0vWNOFyurXJs/s0NxHIl3GIW2mYIZdwBn3MgKDHtGleHbq88A2Gi6/cs94bKKC8n0mWbTyXCgMYmjlMkXI/hkJ/2jQBz/wH/wCRI1P/ALGnxH/6e72vRK8x/Z00+LSfhvc2MDzyQ2/iTxDEjXVxJcSlV1q9ALySMzu3HLMST1JJr06gDyT9m/5NA8aQdoPGetxj6fbHP9a9bryT9nn5Y/iTF/zz8bap/wCPMj/+zV63XJhf4MTiwX+7wQUUUV1naFFFFABRRRQAUUUUAFFFFABRRRQAUUUUAFFFFABRRRQAUUUUAFFFFABRRRQAUUUUAFFFFABRRRQAUUUUAFFFFABRRRQAUUUUAed/s4/8m9fDD/sV9L/9JIq9Erzv9nH/AJN6+GH/AGK+l/8ApJFXolABRRRQAUUUUAFFFFABRRRQAUUUUAed/Af/AJEjU/8AsafEf/p7va9DJCgk8CvPPgP/AMiRqf8A2NPiP/093tdtrmmJrWi6hp0n+ru7eS3bPo6lT/Oqik5JSdkB5j+z+6nUviuisGUeNLp1KnIIa1tXBH/fVeuV8i/8E1dQa8+DOpxPw9vc2cTKexTTbSMj84/0r66qq2FeAr1cI3d05zjfvyya/Q4MDLmw6fm/zYUUUVmd4UUUUAFFFFABRRRQAUUUUAFFFFABRRRQAUUUUAFFFFABRRRQAUUUUAFFFFABRRRQAUUUUAFFFFABRRRQAUUUUAFFFFABRRRQB53+zj/yb18MP+xX0v8A9JIq9Erzv9nH/k3r4Yf9ivpf/pJFXolABRRRQAUUUUAFFFFABRRXk3xe+InivQfEEeieD00gXtvoV94hupNZgllSWO3aJEtkEciFGkaRsyncECf6t93AB6zRXlfxE+JGrWXwo0/xt4cu4bC2mskv2hufDl5rUsiSRB0QRWkqPH1+aQ7lXvjrXXaH4y+1fDnSvFGp2kkLXOmwX1xa6Wj6iyM8asyRCBWaYAtgFAdwGRxQBg/Af/kSNT/7GnxH/wCnu9r0SvMf2dNQi1b4b3N9Ak8cNx4k8Qyot1byW8oVtavSA8ciq6NzyrAEdCAa9OoA+QP+Cd9q2j2fxe0V/vaX4wu7THoEkdAPwCAfhX1/Xy7+yPaf2T8af2k9NxtMfi1bzb7XCPNn8dxr6ir2c5j/AMKWIn/PKU//AAN8/wD7ccOCjy0becv/AEphRRRXjHcFFFFABRRRQAUUUUAFFFFABRRRQAUUUUAFFFFABRRRQAUUUUAFFFFABRRRQAUUUUAFFFFABRRRQAUUUUAFFFFABRRRQAUUUUAed/s4/wDJvXww/wCxX0v/ANJIq9Erzv8AZx/5N6+GH/Yr6X/6SRV6JQAUUUUAFFFFABXDfGZrhfAubPV00S9/tXS/s1xKJTHLN/aFv5du/lZcJO+2BiAQFlJIIBFdzXm/7RFxDa/CDW5bjT49QhEloG86SaOO1zdRD7YzwESqtvn7QWjZWAhJDKRuABxX7Mv2QeIvGAtvFF34gufs9mdTFzHeRxy6h9ovhc3luJxtNvKw8mMxEpizxngV3/xM+Dun/Ey4trmbWNX0G7jsrrTJbjRpYo3ubK48vz7dzJG+FYxRkOm2RSPkdcnPBfsyalpl7qfiG10m88M+JLHS9N0vTrbxR4PSZNPuIIzdFLMK9xcL5kG5mZllYn7Uu7Br3ugDi9Y+HN5faTbadpnjTX/DNtb+YiDSI7EEQsAFhHm2z4VAuFZcOOcsa3/CvhnTvBfhfR/D2kQfZdJ0mzhsLODcW8uGJAka5PJwqgZPpWrRQB538B/+RI1P/safEf8A6e72vRK87+A//Ikan/2NPiP/ANPd7XolAHzp8D7f7D+11+0nCBtSY+HLtV/3rGRWP5xmvouvnXS2Phn9vjXLRTstvFPgO3v33dHuLS8aHA9xHKD+dfRVe9nHvVaVVbSp07f9uwUH/wCTRZzUNIteb/NsKKKK8E6QooooAKKKKACiiigAooooAKKKKACiiigAooooAKKKKACiiigAooooAKKKKACiiigAooooAKKKKACiiigAooooAKKKKACiiigDzv8AZx/5N6+GH/Yr6X/6SRV6JXnf7OP/ACb18MP+xX0v/wBJIq9EoAKKKKACiiigArlvG+o+NbD7F/wh/h/Qdd37/tX9ua5PpvlY27PL8qzuN+cvnOzGBjdk46migDzX4d6P48k+IXifxJ4ysdE0e2vtL03T7LTtF1qfUlVreW9kllcy2tuELC6iXCq2fK5PAFelUVieJvG3h3wTHZyeItf0vQY7yYW9s2p3kdsJ5T0jQuw3Mf7o5oA26KwPFnj/AML+AYbabxP4k0jw5FdOY4JNWvorVZWAyVQyMNxx2FbqusiqykMrDIYHII9aAPPfgP8A8iRqf/Y0+I//AE93teiV538B/wDkSNT/AOxp8R/+nu9r0SgD5y+PzDwz+03+zx4ob91azX+qeHrmQfxm6tcwIf8AtpFmvo2vnv8Abe8O6jqnwp0PWtHuYLPV/DHijS9btLm6UtDHKk4jVpAOTGDNlgOcA16L8EfilJ8WvBLaneaW2h63YXtxpGr6W0glFre28hjmRXHDLkblburA171e2Ky+jVg7ujeEl1SlKU4P0k3NXWzjra6vx05pVp0+uj+9W/Q7+iiivBOwKKKKACiiigAooooAKKKKACiiigAooooAKKKKACiiigAooooAKKKKACiiigAooooAKKKKACiiigAooooAKKKKACiiigAooooA87/Zx/5N6+GH/Yr6X/6SRV6JXnf7OP8Ayb18MP8AsV9L/wDSSKvRKACiiigAooooAKKKKACvA/2g7G4tfFg1K48Oap4n0u+8H6zoMFvpenS3pW7uHtmWJ1jVvLWZYyvmviNfKw7LkZ98ooA8E+InjDVvCPwn8N+HYNH1jV/Et/bf2BdazF4cvtRh07bCq3V1KkULPIpx8gA2zOV+YIGZfUvDvhq3tPhpo+g6FqOqaPZ2+mW9pZXrQqt7DEkaqjMlxEwEm0DIkjyDnKg11NFAHmP7OlpLYfDe5tp72fUpofEniGN7y6WNZZ2GtXoLuI1VAx6naqjngAcV6dXnfwH/AORI1P8A7GnxH/6e72vRKAOT+LPhEePvhj4p8O7d0mpabPbxe0hQ+WfwbafwrwX9jfxcdR8YeP7N22rrlrpHjCKNuplubUW94R9LmzfPu1fU1fFHhOY/BP8AalsYLkeXpH2+78Ju/wDDFb6jJ/aOlt7jz1u4M9AXA7162Ve/WrYX/n9Tkl/ig1Vj82oSivWy3PMr/u8TTqdHdfPdfhzH2vRRRXknphRRRQAUUUUAFFFFABRRRQAUUUUAFFFFABRRRQAUUUUAFFFFABRRRQAUUUUAFFFFABRRRQAUUUUAFFFFABRRRQAUUUUAFFFFAHnf7OP/ACb18MP+xX0v/wBJIq9Erzv9nH/k3r4Yf9ivpf8A6SRV6JQAUUUUAFFFFABRRRQAUUUUAFFFFAHnfwH/AORI1P8A7GnxH/6e72vRK87+A/8AyJGp/wDY0+I//T3e16JQAV81ftQfDO08SeLtGa8upNM03xda/wDCL3OpQrl7G+WUXWmXSjIyyToy9R98DPNfStcj8WfAafEz4e614e877Lc3UO60uu9vcoQ8Mo7/ACyKh49KXtK1CUcRh3apTalF/wB6LujjxdN1aTUVdrVeq6fPb5nlCfHT4ifCv+zLT4q+BIv7JOoW+lz+OtB1GFtPJmkWOGeS2dhNCC7qGyCqk8EjFfQteS6I1h+0t8A9Q0bxDb/ZrjUrSfRdatMDfZ3qZjlAHZlkG9f+Amqn7OvxSutc8MTeEfGU8dn8RPCLx6TrcE0gBuWC/ubyMnG6OdAHBx1LDtX0lVUM1wP1/C0lCcH76jezjK3LOzbt714ytaKbgklcqjUUlGSd1JXX9f11PZaKKK+cOoKKKKACiiigAooooAKKKKACiiigAooooAKKKKACiiuN+Ifxk8EfCix+1eLPE2n6KpIVIZpd08rHoscK5kkY+iqTW9ChWxNRUqEHKT2STbfyQm1FXZ2VFeG/8NofC6Ti2u/Ed7KfuRW/hHVi0h9FzbAGmf8ADQHjnxc23wJ8F/Ed3DnB1DxhPHoNvj1VH3zsP+2Qr2v9X8zjrWoumu9S1NffNxRn7WHR39NfyPdaK8MbUP2j9c+SHR/hv4TjbgzXOoXuqSp7iNIoVJ+r0jfCT40aqpXU/jstnDJxJHoPhK1t3C9wkk0kxB/2scUf2TTh/HxdKD9ZT/GnCa/EPaPpF/16nulcFqnx++GOh6lfadqXxG8J6ff2LbLq1utbtopYGHUOrOCp+tcO37J1reR/Z9T+KnxQ1fT3GJ7G58TNHHPnruaKNHAPPyqwXnpXc6D8B/hx4Z0ex0vTvAvh+CysRi3RtOikZPVtzKWLHqWJJJOSafscoor95WnUf92Kil6uV38lHzv0C9R7Kxymo/tlfBXT9qr8RNI1OZjhbfR2fUJmPtHbq7H8qqf8NeeF5h/onhD4i3zt/qVt/BeoZmHqu6IDH1Ir2bT9G0/Sc/YbG2s9wwfs8Kx5HpwKuVP1jKI/Dh6j9aq/JU1+YWqd193/AATwl/2gvHXiSQR+DPgd4pu/LG6ebxZcQaFEF7CPeZHdj6bABxkimR+LP2iPEkj6jpvgTwb4T0+L5Bo3ibV5Z765I+8/nWqvFEvYDDk9SV6V7zRVf2phaelHBU15ydST/GfL81FNdNdQ5JdZP8DwzzP2lWHm/Z/hVH3+yGbUm/Dztg/Py/wpkXg/9oXXS2o3nxF8IeE7hjhNE03w7JqVtGvYtcSzRSM/rhVXjpXu1FL+2px/h4elF/8AXuMtO1p8y+dr+Yez7t/eeG/8Kw+Ok/8ArvjjpUHtaeCIhj8Xum/lR/wpn4uXPy3f7QOqqh6ix8L6ZCfzaNyK9yopf25iv5KX/gij/wDKw9nHz+9/5nhv/DOXii6+W8+PHxEkjPUWr6dAfwItOKP+GXrt/wDXfGn4qzj0/ty3j/WO2U17lRR/b2PXwyivSEF+UQ9lH+mzL8L6D/wi/h+w0r+0L/VvskQi+26pP59zNj+KR8Dc3vitSiivCnOVSTnLd6mux53+zj/yb18MP+xX0v8A9JIq9Erzv9nH/k3r4Yf9ivpf/pJFXolQAUUUUAFFFFABRRRQAV5N8XviJ4r0HxBHong9NIF7b6FfeIbqTWYJZUljt2iRLZBHIhRpGkbMp3BAn+rfdx6zXA/Ez4O6f8TLi2uZtY1fQbuOyutMluNGlije5srjy/Pt3Mkb4VjFGQ6bZFI+R1ycgGJ8TPiZr+m/CnQfG/hM6ZDbXUmnT3FvrFrJOz21zLCmxPLlj2SATZ3HcBj7pr0zWda07w5pdzqerX9rpem2yeZPeXkywwxL/eZ2ICj3JriPHvwbj8d+B4/Cv/CVa5oGmR3MU6HSY7EOscTq8NuPNtpFEaMiEcbzsALEZB7vTbWWx021tp7yfUZoYkje8uRGJZ2AAMjiNVQMxGTtVVyeABxQB51+zpqlnrXw3udQ067gv7C68SeIZre6tZFkimjbWr0q6MpIZSCCCDg5r06vO/gP/wAiRqf/AGNPiP8A9Pd7XolABRRRQB4p4gk/4Ul8XU8R58rwV4zmjtNWPSOw1MAJBcnsqTKBE56bghJ5rp/iZ+zz8OPjFcG68X+ENM1rUPsxs01CaEC5ijOSAkowy4LEgg8EkjFdh4o8M6b4y8O6joesWqXumX8LW9xBJ0ZWGPwI6gjkEAivL/ht4u1T4eeIrb4aeNrprm52EeHPEE3C6tbqP9VIeguYxgMP4xhh3rPC4uvldf2mHqOF9nFtNN7q66Pp56djzbLD1HCa9yT08m+nzeq87rqjD0b4Q/HHSdPi0WH40WEGj6fmGxvZvDK3mp3EIPyfaZZJgjSKuFLKg3bcnkmpPhr+0pYaLc3Pgb4u67pHhX4jaRL9nla9mSzttYh6w3tqXIUrIvVAcq4dcDAr3ysvxF4V0XxdYmy13R7DWrI9bfUbVLiM/wDAXBFfVf2vSxilTzGjFp6p04whJPq7qPvJ63i+tmmra9ns3HWD++7LtlfW+pWsdzaXEV1bSDck0Lh0YeoI4NT14jefsW/By5upZoPCH9kxzHdLZ6Nqd5p9rIexaCCVIyR/u1D/AMMj6LZr5ekfEH4maDbx/wDHtbWXi+7aG29kSUuCPZ9wrL6vlE/gxM1/ipK33xqSf4f5D5qn8q+//gHulFeFt+y7eapgeIPjH8S9ZiHSCHWItOT2JNrDGxI92x7Uf8Mt3cyiC6+NHxTubBeFtRrkMJ2/3WmjgWVvrvz70fUcu2eMX/gE7fLZt+qS8w5p/wAp7pRXhi/sqRx/u4fi18VIbMfctV8UMwT2EjRmQj6uaX/hj/wdfca74h8eeJ17pq3jHUWX8kmQUvqmVx1li5NeVO7/ABlFfiHNP+X8T2TVNc07RFgOo6ha2AnfyojdTLH5jn+FdxGT7CsbxV8UPBvgVd3iTxZofh8euqalDbf+hsK88039jf4Q2c80174STxK7x+TGfE15Pq32ePrth+0vJ5fPOVwfet3wr+zH8JfBLB9G+HHhmzmHSc6ZFJKP+2jqW/Wn7PJYa+1qy/7cjG/z9pK33ML1Oy/r5FPVP2tPgtpFu083xU8JSqP4bPV4Llz9EjZmP4CsFv2rIvEZz4A+HHjbx7ar88moW+mf2daeWPveXLeGLzWx0VAc+o4r13TfBPh3RrgT6foOmWM68iW2s442H4qoNbVH1jKaOtPDym/78/d+6EYy/wDJ0Fqj3f4Hha/tSXV8oi0r4NfFC9vm4EFzoKWSK3o0s8qJj3UsPTIpsnxi+M+3avwAuFkm4ty3i2wKxn1uMcoOp/d+Z6dTXu1FH9o4GHwYGD/xSqN/+SzgvwDkl1l+R4YI/wBpTUVG64+F2hhxzth1G/ePPoS0IJH0xSf8KH+I3iH/AJGr47+I2jbk2/hXTLLSEHsHMcsmPq+fpXulFH9t14fwaVOHpTg398lJr5MPZrq3954Z/wAMc+BL/nX9U8aeK3P3m1rxdqMm72KpMq49sYrrvAP7Ovwy+F98t/4X8DaJpOpLkDUI7RXuhnr++bL89/m5r0WisK2dZniIOlVxM3F9OZ8v3Xt+A1TgndIKKKK8U0CiiigAooooAKKKKACiiigAooooAKKKKACiiigAooooA87/AGcf+Tevhh/2K+l/+kkVeiV53+zj/wAm9fDD/sV9L/8ASSKvRKACiiigAooooAKKKKACiiigAooooA87+A//ACJGp/8AY0+I/wD093teiV538B/+RI1P/safEf8A6e72vRKACiiigArnPH3gDRviV4bm0XW4Gkt2ZZYpoXMc9tMpyk0TjlJFPIYfTkEiujoqZRU04yV0yJRjUi4yV0zxTSviVrfwdvrfw/8AE+f7To8jiHTfHKptt5snCxXoHEE3T5/uP6gg17THIk0ayRsrowDKynIIPQg1BqGnWmr2M9lfW0N5Z3CGOa3uIw8cikYKsp4IPoa8h/4VT4r+FMjXHwv1SG50TJdvBmvSu1qvci0uOXt/ZCGTJ6CuT95Q0+KP4r/P8/U4l7XDaazh/wCTL/5Jfj6ns9FeUaP+0XoEWoQaT4ysr74d65Idi23iCMR28zd/JugTDIM9PmBPpXqkciTRrJG6yRsAyspyCD0INdFOrCr8Dv8A117HTSrU6y/dyvb716rdfMfRRRWpuFFFFABRRRQAUUUUAFFFFABRRRQAUUUUAFFFFABRRRQAUUUUAFFFFABRRRQAUUUUAFFFFABRRRQAUUUUAed/s4/8m9fDD/sV9L/9JIq9Erzv9nH/AJN6+GH/AGK+l/8ApJFXolABRRRQAUUUUAFFFFABRRXzR+1V/wAIz/wlFl/wnf2f/hHf+EV1j+yftf3f7X3W3l+R/wBPmzd5G395/rfL53UAfS9FfMvxK1Lw5qUfwub4sXWlXXhGHTL+DXDqUkb2Sa4sFuI0l52iUL9vCg8h8bfm216p8I4vFU/7P3giO9uhZeMW8O2AubjWLZ7gpdfZ4/MM8YkjZm3btwDrznmgB3wH/wCRI1P/ALGnxH/6e72vRK8x/Z0jvIfhvcpqM8F1fr4k8Qi4ntYGhikk/tq93MkbO5RSc4UuxHTJ616dQAUUUUAFFFFABRRRQBT1bR7DxBp81hqljb6jYzDbLbXcSyxuPRlYEGvLX/Zx03QZHm8CeJdf8ASZLi10u68+w3HubScPHj2ULXr1FY1KNOprJa9+v37nPUw9Ks7zjquvX5PdHkIb42eE+DH4V+INonRlaXR71/qMSxZ/75pf+F+aho/yeJ/hl4y0V1+/NZWSapbr777Z3OPqor12isvYzj8FR/PX89fxMfq9SP8ADqteTs1+Ov4nlmn/ALUPwtvp/Ik8Y2Ol3HeHWFk09x9ROqV2ej/ELwt4iUNpXiXR9TU9DZ38Uo/8dY1r3+m2mqQGG9tYbyH/AJ53EYdfyIrjNY+Avw315i9/4D8O3Eh6yHTIVf8A76Cg/rR/tEesX96/VhbFx6xl8mv1kd2CGAIORS15J/wyl8LUObbwy2nH/qHald2o/KKVaP8Ahmfw5b8af4g8aaSvZbLxTfKB/wB9SGjnxHWC/wDAn/8AIj9piutOP/gT/wDkUet0V5J/wzyI/wDU/Ev4iQ+n/E/Mn/ocbUf8KH1aP/U/F3x+v/XS7s5P521HtavWn+KD21frS/Ff8A9boryT/hS3ipf9X8Y/FwH+3BYN/wC29H/CoPHCf6v4z+Ix/wBdNN05v/aFHtqn/Pp/fH/MPb1f+fL++P8A8ket0V5J/wAKp+Ii/d+NWtD/AHtD00/+0aP+FWfEnt8a9V/Hw/pv/wAZo9tU/wCfUv8AyX/5IPrFT/nzL74f/JHrdFeSf8Kv+Jg6fGnUD/veHdP/APjdH/Csfib/ANFovfx8OWH/AMRR7af/AD6l/wCS/wDyQfWKn/PmX3w/+SPW6K8k/wCFY/E7/os95/4Tlh/8TR/wrL4nf9Fmuv8Awm7H/wCJo9tP/n1L/wAl/wDkg+sVP+fMvvh/8ket0V5J/wAKz+J//RZrn/wm7H/Cj/hWfxP/AOizXP8A4Tdj/hR7af8Az6l/5L/8kH1ip/z5l98P/kj1uivJP+FZ/E//AKLNcf8AhN2P+FH/AArP4n/9FmuP/Cbsv8KPbT/59S/8l/8Akg+sVP8AnzL74f8AyR63RXkn/Cs/ih/0Wa4/8Jqy/wAKP+FZ/FD/AKLLcf8AhNWX+FHtp/8APqX/AJL/APJB9Yqf8+ZffD/5I9boryT/AIVn8UP+iy3H/hNWX+FH/Cs/ih/0WW4/8Jqy/wAKftp/8+pf+S//ACQfWKn/AD5l98P/AJI9boryT/hWfxQ/6LLcf+E1Zf4Uf8Kz+KH/AEWWf/wmrL/Cj20/+fUv/Jf/AJIPrFT/AJ8y++H/AMket0V5J/wrP4of9Fln/wDCasv8KP8AhWfxQ/6LLP8A+E1Zf4Ue2n/z6l/5L/8AJB9Yqf8APmX3w/8Akj1uivJP+FZ/FD/oss//AITVl/hR/wAKz+KH/RZZ/wDwmrL/AAo9tP8A59S/8l/+SD6xU/58y++H/wAket0Vn+H7G+03RbO11PUjrF/FGFmvmgWEzt3bYvyr9BWhXStVc7E7q7Vjzv8AZx/5N6+GH/Yr6X/6SRV6JXnf7OP/ACb18MP+xX0v/wBJIq9EpjCiiigAooooAKKKKACiiigAooooA8X8B674s8A6Zq2j3Hwv8T6n/wAT/WbyK8sLzSfJnhuNTubiJ18y+RxmOVDhlUg5BFaWq/HLVtFvtGs7z4T+NIrjV7trKyT7RozeZMsEs5XI1DC/u4JWycD5cdSAfVq81+LXxI0HwPqWi/2h4e1TxLqVjFd67DFpMUUklhbwReTcXbCSRMhUuim1N0jeYQiNg4AJv+FoeJf+iQ+M/wDwL0T/AOWNH/C0PEv/AESHxn/4F6J/8sa72xvoNTsbe8tZVuLW4jWWKWM5V0YAqwPoQQanoA87/wCFoeJf+iQ+M/8AwL0T/wCWNH/C0PEv/RIfGf8A4F6J/wDLGvRKKAPO/wDhaHiX/okPjP8A8C9E/wDljR/wtDxL/wBEh8Z/+Beif/LGvRKKAPO/+FoeJf8AokPjP/wL0T/5Y1m2/wActWuvEd9oUfwn8aNqllaW97PD9o0YbYZ3mSJt39oYOWt5hgHI284yM+geJ9buPD+jy3tpouoeILhWVU0/S/JE8hZgODNJHGAM5JZwMA/SvIR+0d4Os9QvtcTw1rg1GG08vxLOsEG/Q7W2u7iAG8Pn4KJL9sI8jzcqkjDKjNAHYf8AC0PEv/RIfGf/AIF6J/8ALGj/AIWh4l/6JD4z/wDAvRP/AJY16JRQB53/AMLQ8S/9Eh8Z/wDgXon/AMsaP+FoeJf+iQ+M/wDwL0T/AOWNeiUUAed/8LQ8S/8ARIfGf/gXon/yxo/4Wh4l/wCiQ+M//AvRP/ljXolFAHnf/C0PEv8A0SHxn/4F6J/8sazfDXxy1bxd4c0rXdK+E/jS50vVLSK9tJjcaMnmQyIHRtragCMqwOCAR3rf+IXxd0T4b6x4W0vUYry7v/EWoRWFtDYxq5iDyJF58u5l2xLJLEhYZOZVwp5xi/B34reGvFNvpvh/QNE1LQNLj0iK80H7bFEkGoaYpEUc9tskdvLA8riQI4WSM7cMKALv/C0PEv8A0SHxn/4F6J/8saP+FoeJf+iQ+M//AAL0T/5Y16JRQB53/wALQ8S/9Eh8Z/8AgXon/wAsaP8AhaHiX/okPjP/AMC9E/8AljXolFAHnf8AwtDxL/0SHxn/AOBeif8Ayxo/4Wh4l/6JD4z/APAvRP8A5Y16JRQB5T4g+OWreF7GK81L4T+NLe3lu7ayRxcaM2ZrieOCFcDUCfmklRc9BnJwATWl/wALQ8S/9Eh8Z/8AgXon/wAsax/E3xk8P3+m6xNfeFda1XwzpGoJEmrxx2xtrvU7e9jjit4EM4maUXipGrGMR+YhG/HNdr4B8e23j7T7+aPT77R77Trx9P1DS9SEYuLSdVV9j+U7xnMckbgo7ArIpzQBhf8AC0PEv/RIfGf/AIF6J/8ALGj/AIWh4l/6JD4z/wDAvRP/AJY16JRQB53/AMLQ8S/9Eh8Z/wDgXon/AMsaP+FoeJf+iQ+M/wDwL0T/AOWNeiUUAed/8LQ8S/8ARIfGf/gXon/yxo/4Wh4l/wCiQ+M//AvRP/ljXolYvjTxdp3gHwfrfibV3kj0vR7Ka/umiQu4ijQu2F7nAPFAHB2/xy1a58R32hR/Cfxo2qWVpb3s8P2jRhthneZIm3f2hg5a3mGAcjbzjIzpf8LQ8S/9Eh8Z/wDgXon/AMsa4/8A4aG8P2PiXVSvgTxN/wAJwsHk6ho8MVnJepY2sa3HnM63RhaNBfrhUkaTdcABCTXs+i6xZ+ItHsdV06dbrT76CO6tp0+7JE6hkYexBB/GgDiP+FoeJf8AokPjP/wL0T/5Y0f8LQ8S/wDRIfGf/gXon/yxr0SigDzv/haHiX/okPjP/wAC9E/+WNH/AAtDxL/0SHxn/wCBeif/ACxr0SigDzv/AIWh4l/6JD4z/wDAvRP/AJY0f8LQ8S/9Eh8Z/wDgXon/AMsa9Eryez/aI0+70e/nPhXxHb6zba8vhyLw9NHaC+urs2yXQEeLgxBfIfzCXkTaqPuAIxQA7w/8ctW8UWMt5pvwn8aXFvFd3Nk7G40ZcTW88kEy4OoA/LJE656HGRkEGtL/AIWh4l/6JD4z/wDAvRP/AJY1y0f7Qvg3wn4agu9K0DWZbCSC/wBd1aGyt4t2jRrdyC9mu1eVeVuDcbli8xiY5SqsFzXtisHUMpDKRkEdDQBxfwS0DUPCnwZ8BaJq9qbLVdN0Cws7y2Z0cxTR28aOm5CVOGUjKkg44JFdrRRQAUUUUAFFFFABRRRQAUUUUAFFFFABXk3xe+HfivXvEEet+D30hr240G+8PXUeszywpElw0Tx3KGONy7RtG2YjtDh/9Ym3n1migDM8L6DD4V8M6Tots7SW+m2kNnG7/eZY0CAn3wtadFFABRRRQAUUUUAcp8UofGN14G1O38AyaXB4pmVY7W41iV44IAWAeTKxSZdU3FQUKlgu7jIrw26/Zz8W/wDCN61oumWXh/SLLxZ4bXwrryya1c3ktvCJ7yR72KVrVDc3Eo1G7ZxII/3hVt55r6dooAKKKKACiiigAooooA8O+MX7Ouo/ELxVb+IdH8a6vo92+oaTJdWWLNrYW1nc+b+6MlpJIr/NIwXeELt8wxU3wX+D/ibwVqnhtvEU+lPZ+EfDP/CKaPJps8kkt7AXgLXFwrxoInK2luPLQyAEyHdggV7XRQAUUV8zfCj9pzWNQ+D2m/EDxiJtSivdP0iY6VofgnUdNdLi+lgiRIbi8uDFdKJJ1GYjyo3DOQCAfTNFeRn9o7TpJP7PtvCXia98Ux3F3BdeGLeG1N9ai2jgllkcm4EJQJeWjDZKxb7RGFBJIGhoHx20zxvdlfCmkar4g0tbW3uJ9et1gSxtTPapdQpJ5kqSszQywuRHG+BMmcZOAD0yivnzwV+1xYXfws03xH4r8Paro2pSeH9K1p4vLt44L4Xjxwh7YtcERxieRQftDRlFZWYhctXt3hfXX8TeH7LVH0650o3KbxaXkkEkiDJAJaCSSMggBgVdhgj6UAfMWpfsh66urNJog8P6U1hrtz4jt9aFxMb3WJDqS6jbWV6giwkEUqou4SSnEalUXLCvd/hT4Q1jw5/wlWreIfsMWueJtYOrXVrps7z29tttbe0jjSV442f91aRksUX5mbjGK7uigAooooAKKKKACuX+KHhjUPGvw58S6BpN+ul6lqWnzWlvduCVjd0Kgtt5AOcEryASRziuoooA+W/Df7O/jfwJ4ouvFPhHRvBPhmWazvNLh8IWN7OmlWUdxHab7tJFtFJlMllGWiEKKwJy4bLH6G8A+E4fAPgTw54Yt5muLfRdNttNjmcYZ1hiWMMR6kLmt6igAooooAKKKKACvnOz+FPxNbxNqviKfTPCdvqEPjBfFml20evXUsc2dKGly287mxUxfuTJIJFWT5iqlcDcfoyigD5nvP2c/Gln4d1W00u90OW/8WaPqel+IZbqeaOOye9vrq8ae0AibzhG1/cqI38reBGSy8ivpKztUsbSG3iBEcKLGuTk4AwKmooAKKKKACiiigAooooAKKKKACiiigAooooAKKKKACiiigAooooAKKKKACiiigAooooAKKKKACiiigAooooAK8E1P9mXUbP4P6d4A0fx7r2o6Xp76Jb2UWsmyj+x2tje2sxMcttaJIZRDblVLlgWIzj7w97ooA8kP7OWnRyf2hbeLfE1l4pkuLqe68T28tqL66FzHBFLG4NuYQhSztFGyJSv2eMqQQSdLw38CdJ8E6ir+GdY1fw/o7W9vb3Og2jQPZ3XkWyWsTv5sLyqywxQpmORMiFNwODn0migDzCx+Ael6PpOk2ek69rWlzaX4ctvC9tewm1llFrCyMGZZYHjZ2Ee1sptIZsKDgjp/hr8PdN+Fvg+18OaTJPNaQTXFwZbgRh3knneeVtsaJGoMkjkKiKqggKoAArqKKACiiigAooooAKKKKACiiigAooooAKKKKACiiigAooooAKKKKACiiigAooooAKKKKACiiigAooooAKKKKACiiigAooooAKKKKACiiigAooooAKKKKACiiigAooooAKKKKACiiigAooooAKKKKACiiigAooooAKKKKACiiigAooooAKKKKACiiigAooooAKKKKACiiigAooooAKKKKAP/9k=)\n",
        "\n",
        "3.1.1\t¿Segun la imagen que comportamiento se está evidenciando, expliquelo? (2.5 pts)."
      ]
    },
    {
      "cell_type": "markdown",
      "metadata": {
        "id": "XD9XmQb-Vxyw"
      },
      "source": [
        "Se evidencia que en las primeras epochs hay underfitting ya que el error es muy alto y tanto en los datos de validación como en los de training el error es alto.\n",
        "\n",
        "Luego, para las epochs entre 40 y 60 no hay un buen entrenamiento del modelo y el error no es similar.\n",
        "\n",
        "Al final de la gráfica se puede observar que hay un poco de overfitting ya que los datos de training tienen muy poco error y los datos de validación están empezando a generar más error."
      ]
    },
    {
      "cell_type": "markdown",
      "metadata": {
        "id": "siZrg3hCVxyw"
      },
      "source": [
        "3.1.2\tListe 3 estrategias que le permita lograr el comportamiento de la siguiente imagen (2.5 pts).\n",
        "\n",
        "![Imagen2.jpg](data:image/jpeg;base64,/9j/4AAQSkZJRgABAQEAeAB4AAD/2wBDAAMCAgMCAgMDAwMEAwMEBQgFBQQEBQoHBwYIDAoMDAsKCwsNDhIQDQ4RDgsLEBYQERMUFRUVDA8XGBYUGBIUFRT/2wBDAQMEBAUEBQkFBQkUDQsNFBQUFBQUFBQUFBQUFBQUFBQUFBQUFBQUFBQUFBQUFBQUFBQUFBQUFBQUFBQUFBQUFBT/wAARCAEWAZIDASIAAhEBAxEB/8QAHwAAAQUBAQEBAQEAAAAAAAAAAAECAwQFBgcICQoL/8QAtRAAAgEDAwIEAwUFBAQAAAF9AQIDAAQRBRIhMUEGE1FhByJxFDKBkaEII0KxwRVS0fAkM2JyggkKFhcYGRolJicoKSo0NTY3ODk6Q0RFRkdISUpTVFVWV1hZWmNkZWZnaGlqc3R1dnd4eXqDhIWGh4iJipKTlJWWl5iZmqKjpKWmp6ipqrKztLW2t7i5usLDxMXGx8jJytLT1NXW19jZ2uHi4+Tl5ufo6erx8vP09fb3+Pn6/8QAHwEAAwEBAQEBAQEBAQAAAAAAAAECAwQFBgcICQoL/8QAtREAAgECBAQDBAcFBAQAAQJ3AAECAxEEBSExBhJBUQdhcRMiMoEIFEKRobHBCSMzUvAVYnLRChYkNOEl8RcYGRomJygpKjU2Nzg5OkNERUZHSElKU1RVVldYWVpjZGVmZ2hpanN0dXZ3eHl6goOEhYaHiImKkpOUlZaXmJmaoqOkpaanqKmqsrO0tba3uLm6wsPExcbHyMnK0tPU1dbX2Nna4uPk5ebn6Onq8vP09fb3+Pn6/9oADAMBAAIRAxEAPwD9U6KKKACiiigAooooAKKKKACiiigAooooAKKKKACiiigAor54/aI8A2k3jz4a3sWueLtOk8ReLItN1KHS/F+q2VvLbjTbx9iwQ3KRxZa3iYmNVJKkkks2b+k+NPFOk/Ejxn4XsdR0PSfAfgXT7G5m1DxA15f31wktvLI4kuZLnKhPLDGV/MJBIx/FQB7xRXx9qn7UGs3ng/4r6bq1povi+Kw+H2oeKbCW68I6npNheJFG6vbTW96x+1Qtuj/eROFZWcELwT03j/4+fEHwvffE3UNLtvDK+FvAFpp19Pa3VpcPd38Utus08SSLMqQsq7irlHByFKjBYgH03RXzV4n+MXiXw/4w8Y6Z4W0bwza6nL8RNL8M/bLq0kHnx3GjWk7XNwY5FMsqbwinIzHEicY3CWx+OnjzUtQtvBEQ8OReOG8WXnhyXWnsbg6aIbewW+Nwtp54kLtHLEnlefw29t5C4IB9IUV5j+z/APEPxB8RvCmuXPiaDTINW0rxDqeiSDSA4t3FrcvCHG9mbLbcnJ74wK898D/tKanrXxk0Dw1JqGm+JPD/AIj+3pY3+l+GtTsIreS3QyKFvZ2a3vlZEkBaEpggEAg8AH0hRXyf4G/ak8d2fgTwR4z8cWHh+60rxT4LvvE8dh4ftp4Z7SW1tYrkoZJJpBKsqO+AFUxkBcyferT8Bap411b9qTwFd+M5vD88t58OtYvrf+wYJoVgEt9pBaFxJJJ5mzC4mBQPuP7tNvIB9O0V8/fEz4qy/s//ABU8S6vrl7eXvhXW/C0uqadZyzM6xalp4Pm20CkkK1xFNCVRRy0Eh6k1yfif4oeNfgH8MdB0y48TWeteNrDw8+u61p19oGq67dXU7s8kg820c/YrfzBJGksquihMAYjIoA+raK+P/FHxHj/4S74j+MbfR9P1KHUPCvgC4j0/WYPtEAW51XUACy5GWQS7lPZ1U9sVJ8YPiB4w8fWlneINDtvBVh8V9C0BLJoZf7SLWuuWiPcmbzPLIaWNgIfKzsIfzP4SAfXlFfOGoftJappfxk0bQ4tQ03X/AA5qniKXw462HhrU4vsEwSXG7VGZrSeRZItjwqEZSWwSUIPJfC3xl440/wCFng/UPGGpaB42GpfEOTSrY3mkTiezxq17E8ollu5csuxfJwq+UoC/vMZoA+vKK+ePB3x68YaxqHgjX9RtdD/4Qrxpr13oVhp9rDMupWJjS6aGaWZpDHLvFm2+NY0MfmD5n2nNP4H/AB4+IHi5vhTfeLoPDf8AZvxB0q5uoLbRrW4imsJoYllBaSSZ1lSRN52hEKHaN0nJoA+k6K8pvNa1Bf2p9K0kX1yNKfwZeXTWImbyGmW+tlWQpnaXCswDYyAxHeuO8cfHrxhoeofEDXdMtdDPg3wHq9ppOo2F3DM2o6gZIbWaaWGVZAkOxLxAiNHIZCh5QMDQB9D0V4Ppfxi8Yj4ran4f1pNP0cNc30GieH7rQ7uKbV0hjd4ZINVM32V2dU8xoRHvRd2fuk1p/s//ABU8QePJtSsfFt/p9v4it7W3upvDyeHb3R7vT95cMGNzNILqPcpVZ4gEJRvXAAPZaKKKACiiigAooooAKKKKACiiigAooooAKKKKACiiigAooooAKKKKAPOU/aQ+Ekiqy/FHwWysMhl8Q2hBHr/rKd/w0d8Jv+ioeDP/AAoLT/45R+zj/wAm8/C//sVtL/8ASSKvRKAPO/8Aho74Tf8ARUPBn/hQWn/xyj/ho74Tf9FQ8Gf+FBaf/HK9EooA87/4aO+E3/RUPBn/AIUFp/8AHKP+GjvhN/0VDwZ/4UFp/wDHK9EooA87/wCGjvhN/wBFQ8Gf+FBaf/HKP+GjvhN/0VDwZ/4UFp/8cr0SigDzv/ho74Tf9FQ8Gf8AhQWn/wAco/4aO+E3/RUPBn/hQWn/AMcr0SigDyLxB8X/AIIeKbrRLnVPiL4Mup9Fvxqdg3/CSW6eTcCKSIPhZRu+SaQYbI+bOMgEVJfiR8A7i98T3U3jzwPPL4mt47TVxN4jtnS7hSNo1RkMpUDY7KdoGc85r2iigD5ksdJ/ZdsbXWIP+E18M3a6tok/hu8k1Dx3JdyyabMAHtRJLds6Jx8oUjZk7duTno9X8V/s767Y+LbO+8c+DJ7bxXbx2usp/wAJTEv2qOOLykXInBTCcZTaT1PPNe8UUAeFXHjD9nm61i61WXx14Ma/utag8Qyzf8JTCN1/DbJaxTY8/A2wxIu0DaduSCSTXK/E7xF8F9W0K+Ph7xT8PNS1e+1xden+3eP30hxd/Zxbm4hvLZpJreTykRMRqAV3g43En6fooA+b/wBnnxr8LPg18N00K6+KfgF7+41C91S6Ww8Q25t4pLi4eUxRtJJvZUDKm9/mfbuOCxFJ4Yj/AGZPB/iPStc0rxt4Uh1DSXnbTfO8ameGwEyMkqW8Mly0cMbK5zGiqnQ4yoI+kaKAPBtK8T/s6aLpvhPT7Txr4JWy8K6fJpekQSeJ4ZVt7V4lheIh5j5gMaKuZNx465JrO8C3P7NXw18SQa/oHjnwpbavb6dJpEFzc+NPtfkWTyRSG2jWa5dUiDQRlUUBUwdoUM2foqigDxD4geOv2fPipFocfirxx4H1hNE1SHWdPWTxJbp5N3Fny5PlmG4DcwKtlWBwQay/H2rfs4fE7VW1HxF488KXV3LYnTLg23jMWiXdpuZvIuEhuUWeMF3ISUMAXYgDJr6DooA+fZtW/ZtntLq2fxp4MaC6sdL02Zf+Erj+a306V5rJM+fx5byOcjls4YsABVLWv+GZPEPir/hIr7xn4Rl1L+07bW9qeMhHbfb7d43huvsy3Ih84GJAZNm5lBViVJB+j6KAPm+NP2ZI/FMHiAeNvCh1C31V9ct428ak2tvfOzNJcRWxufJjd2kcsUQby7Fs5NW7LVP2cNPu5Z4PH3hdVfV015bVvGpe1hvllkm86G3NyYoS0ksjssaqrlssGwMfQtFAHz7omsfs3+HfGJ8T6f428HQ6sJ7i6iDeLUktbaefPnzQWzXBhhkk3NveNFZt7ZJ3HN3Q/GH7PPhu28H2+m+OvBltD4Rge20Rf+Ephb7JG8flMvzTnflOMvuPfrzXutVLy8lhnhgghWWaRWf532KFXAJzg92HagDwrx54g/Z8+I3iCx1zV/ibotvq9navZQ3ui/EGXSpPId1do2Npdxb1LIpw2eQKpXEv7NN5rVlqtz458LXd7araBmuPGxlS7a1Ci2lu42uil3LHtXEs4kfKg7sjNe/+dqX/AD6Wv/gU3/xujztS/wCfS1/8Cm/+N0AeEjVv2dG8US+IZviH4cu9SeS4mQXnjpri3tpJ0dJpLe3e6MUDsskilokU4dgCATV3wL4w/Z/+HWoXt/o/xI8NyajeRR2819q3jb+07jyULFIllurmRkjBdiEUhcsTivafO1L/AJ9LX/wKb/43R52pf8+lr/4FN/8AG6AOJ/4aO+E3/RUPBn/hQWn/AMco/wCGjvhN/wBFQ8Gf+FBaf/HK7bztS/59LX/wKb/43R52pf8APpa/+BTf/G6AOJ/4aO+E3/RUPBn/AIUFp/8AHKP+GjvhN/0VDwZ/4UFp/wDHK7bztS/59LX/AMCm/wDjdHnal/z6Wv8A4FN/8boA4n/ho74Tf9FQ8Gf+FBaf/HKP+GjvhN/0VDwZ/wCFBaf/AByu287Uv+fS1/8AApv/AI3R52pf8+lr/wCBTf8AxugDif8Aho74Tf8ARUPBn/hQWn/xyj/ho74Tf9FQ8Gf+FBaf/HK7bztS/wCfS1/8Cm/+N0edqX/Ppa/+BTf/ABugDif+GjvhN/0VDwZ/4UFp/wDHKa37SHwljVmb4o+C1VRksfENoAB6/wCsruPO1L/n0tf/AAKb/wCN1wH7QF011+zz8VVkjEUsPhrVI3VW3DP2ORhg4GRhh2oA9NopKWgAooooAKKKKACuOh+JUDfFVvAk2iata3babLqlvqkyw/YrqOJ4ElWMiUybla5iB3RqD82CcV2NeU+IPDfjub48aP4p07SfDtx4b0/RL3St91rc8N5I1xJazb/JWzdAFa1248w5D7uMbSAbvir4qR+DvEVlYal4b1tNJury108eIkW3NilxcSLFDGw87z/mkeNNwiKhnGWHJHc14/4n8I+P/FHxb8O6lf6Z4dvfBGkeRcQWDa3cRTR3xyJbp4xZss5iUkQoXQbsu2G2GL0rxN4T0PxppbaZ4h0bT9e01nWQ2ep2qXEJYdG2OCMjscUAcj+zj/ybz8L/APsVtL/9JIqZ+0dLPb/AXx9NbSyQTxaNcyJLExVlKxk5BHIPFO/ZvUL+zx8LlUAAeFtLAA7f6JFU37QUPnfAf4ip/wBS7qB/K3c/0rnxH8Gfo/yOXFa4ep6P8jsNBnN1oenTE5MltG+fqoNX6w/As32jwT4el679Ot2/OJTW5W0XeKZvB3imFFFFUWFFFFABRRRQAUUUUAFFFFABRRRQAUUUUAFFFFABRRRQAUUUUAFFFFABWTrE9xa3QmtLb7bdR2Vw8Nt5gj81wYyqbjwuTgZPTNa1UZv+Q3af9e83/oUVAmeZf8LI+Kn/AER3/wAui1/+Jo/4WR8VP+iO/wDl0Wv/AMTXrdFcnsZ/8/Zf+S//ACJx/V6n/P6X3Q/+ROJ8C+K/GWv6hcQ+JPAv/CK2qRb47n+14bzzHyBs2oARwScn0rk/2ptEF18K9Q1eHU9c0rUdPMIt5tG1u807/WXEKvvFvKgk+XIG8HGTjGTXsVVdU0qy1uxkstRs7e/s5Mb7e6iWSNsEMMqwIOCAfqBXRCLirN39bfokdNOLhG0pOXm7fokj59h+IfibwTY/EC1sry0XRfDuv2/hrQ7e8t7zWdTvbq5jsZYzLPcXyb8yXrxhWdQBsJdFQg8pqH7UXiqPwPe+IX0mxh8Q6HoHjKae2laRbdrzSngEQaKG6kj2tu+ZfMlZTuCSDLFvp3UvBPh3WNO1XT7/AEHS76w1aUT6ha3NnHJFeSBUUPMpUiRgscYy2ThFH8IqlD8LvBlvpZ02LwjoUWnGC4tTZppsIh8mcKJ49gXGyQIgdcYbaM5wKs0PJrz4qeLdN8ZR+GNf/sm8vrXxHpMH2vSo7m0iNtdwzNsKeexZ0aFhliUcFSYwRiuV0v8AaZ8eWPgvRNa1y18N3E3iTwv/AG5pyWdtPBFYSC8srU/aGeZ/Mi/0+OUlQhVYnXLcNX0rceFdEutQN/Po9hNfGSKY3UlqjSmSIMIn3EZ3IHfaeq7jjGTWdqXw58P32gvpUGl2OmRDTJtItpbWxty1payhQ8USvG0YQmOMmNlKExruUgYoA5j4PeOfEXibxB8QtC8SXGjX114X1eHTo7zRbaS3SZXsba5JeN5ZSjhpyuN54UVxXgv4keItN/Zz+ENxbXkN34j8TDTtNOra75lzHFJLEztNMA6vKSIyoXepZ3QbhmvSfhH8H9D+DOh32m6IZJRfXZvbmeWG3gLyeWkQxFbxRQxqEiRQscajgk5YsSzT/gH8MdJh1CGx+HPhKzi1GPyb2O30O1jW5j3h9kgEfzruVWw2RkA9RQB5ZB8fPGhj0S/1CHStN8Nw6ld6TrOvW+lTX9vJcQam9kuxEukktY5fL3CRlnVGcqxxHuftvhb8SPEuveOtd8P+LktNKv41mu9P0mHTJEL2a3BjS4W8+0SRXClTHkBImUuMqM118nwn8ETXGizyeDfD7z6Kix6XK2lwFrBVO5VgOz90AeQFxg1b8O/D/wAL+D77UL3QfDWkaJe6g2+8uNOsIreS5bJOZGRQXOWY5bPJPrQBv15b8fP+SC/GP/sX9S/9N5r1KvLfj5/yQX4x/wDYv6l/6bzQB6jS0lLQAUUUUAFFFFABRRRQAUUUUAed/s4/8m8/C/8A7FbS/wD0kirS+NEP2j4O+O4uu/Qb9fzt3FZv7OP/ACbz8L/+xW0v/wBJIq3/AImw/aPhv4ri679Ju1/OFxWVXWnJeTMa6vSkvJkfwrm+0fC/wfL136PZt+cCGuprifgfN9o+CvgCX+/4f09vztozXbUqLvTi/JCoO9GD8l+QUUUVsbhRRRQAUUUUAFFFFABRRRQAUUUUAFFFFABRRRQAUUUUAFFFFABRRRQAVja59u85v7M+z/2l9gufsv2vd5Pm5j2b9vO3djOOcZxWzVG9WaO+t7mOBrhUjkjZEKhvmKEH5iB/D696qL5WmB43/wAZKf8AVKv/ACpUf8ZKf9Uq/wDKlXsn9oT/APQMuv8AvqL/AOLo/tCf/oGXX/fUX/xde9/bH/UNS/8AAP8AgmXs/NnE/Df/AIWx/at1/wAJ/wD8Ib/Zvk/uP+Eb+1+d5u4ff87jbt3dOc4rP/aA+Jl38GdD0jxtLLI3hbTbto9etYoVd3glidIXTgsGFybdcAgESNnOBXo39oT/APQMuv8AvqL/AOLo/tCf/oGXX/fUX/xdeTiK/wBYqOpyKPlFWX3FxXKrHyd4x+OPjzwD4o8EaPqfiGJdfh/4R6HXdLu7i0gTUXv71YbhrW2WzeaVYg7r5guIVQxpkOdwfOtfHmveCrG+k0NoYZVfx7ctdNYxzy2ir4vjje4BKlysUU0spjB2sY13Kdox9hf2hP8A9Ay6/wC+ov8A4uj+0J/+gZdf99Rf/F1ylHxrZ/FSTw7N8Q5tF+IZ1NdW8aWdhbeNJrzT7G1ZV0OCX9/dGynt9pMZjVorf532KMHcayv+Fqa54g8L+KvGGs+MG0/V9T+D6X9p4fuIrNrHVLyGLV/tG23ngLyBNscrIuOHAkBTCD7f/tCf/oGXX/fUX/xdH9oT/wDQMuv++ov/AIugD5zk+L3iWP4qtpi+Jwuorr500eCBa2/GlfYPN/tHOzzv9Z83m7/J/wCWW3fzWt+zh448YaxdeFIfFHiebxMfEPgXT/EshuLO2txa3TlRKsXkxp+7bzFOH3EFeDg4r3b+0J/+gZdf99Rf/F0f2hP/ANAy6/76i/8Ai6APmey+NOleCfDPxk0vRfEejf8ACwYNf1a5s9De5jlvsBVczLaBvMkCRq8u0DkRmsfxF8bdd07w/q1zp3xVtNT8LabrSRw+J2u9Ks7zVYTYiSW2tZpLc2c0kczDgRrkZTeGRi31h/aE/wD0DLr/AL6i/wDi6P7Qn/6Bl1/31F/8XQB4F4P+MGoah8eNO0a88U3N/YavDG+n6DaPYefYp/ZyTsdUtfJF1A5dZCJEkMWZIUKqW57n4+f8kF+Mf/Yv6l/6bzXon9oT/wDQMuv++ov/AIuvPfj5HKv7PnxamljMJn8Oao4jYglQLF15xxn5c8etAHp9LSUtABRRRQAUUUUAFFFfPGt+JPh54V/bO0mR9Y8OaV4nvvCWpRal5l5BFdyuJ9Na3SUFg2fKSVkU/wAKuRxuNAH0PRXyV8TrrSLz4varcSy2s/j2XWfDEngyXcrXL6YZ4DdNaHqYiPt3nlOPL+/xtr6f8TW+uXWltH4e1HT9L1LepFxqdhJewhe48tJoTk9jv49DQByP7OP/ACbz8L/+xW0v/wBJIq6zxlD9o8Ia5F132M6/nGwrkv2b8/8ADPHwu3EE/wDCLaXkgY/5dIq7rV4ftGk3sX9+B1/NSKmSvFoiavFo4f8AZ3m874CfDpvTw/Yr+UCD+leh15f+y/N537PPw+b00e3X8lx/SvUKwwzvQg/Jfkc+Dd8NTf8AdX5BRRRXSdYUUUUAFFFFABRRRQAUUUUAFFFFABRRRQAUUUUAFFFFABRRRQAUUUUAFFFFABRRRQAUUUUAFFFFABRRRQAUUUUAFFFFABXnf7Rv/JvfxQ/7FbVP/SSWvRK87/aN/wCTe/ih/wBitqn/AKSS0Aeh0tJS0AFFFFABRRRQAUUUUAFFFFAHnf7OP/JvPwv/AOxW0v8A9JIq9DZQykHkHg155+zj/wAm8/C//sVtL/8ASSKvRKAPJf2T2J/Z08CqeqWHln/gMjL/AEr1qvJP2UePgD4WT/nn9qj/AO+buZf6V63XJhP93p/4V+RxYH/dKX+GP5IKKKK6ztCiiigAooooAKKKKACiiigAooooAKKKKACiiigAooooAKKKKACiiigAooooAKKKKACiiigAooooAKKKKACiiigAooooAK87/aN/5N7+KH/Yrap/6SS16JXnf7Rv/JvfxQ/7FbVP/SSWgD0OlpKWgAooooAKKKKACiivE/ib8Y/EnhXxV4hOkw6W3h7wna6bd6xHeQSPdXi3U8iusDrIqxGKKPeCySeYzbcJjcQD2yivAf2iPj14j+FHiBLTR7axNvFpD6oTd6bc3i3UizCPyZJoZFTT48EE3VwDENx/55tn2jxN4ms/CeltqF7DqE8CuqbNM024v5snpiK3jdyPU7cDvQByP7OP/JvPwv8A+xW0v/0kir0SvOv2b23fs8fC4jOD4W0s8jH/AC6RV6LQB5J+yr8vwS0qPvFqGqRn/gOo3Ir1uvJP2YPk+GV1B/zw1/WI/wDyoTn+tet1yYT/AHen6L8jiwP+60v8K/IKKKK6ztCiiigAooooAKKKKACiiigAooooAKKKKACiiigAooooAKKKKACiiigAooooAKKKKACiiigAooooAKKKKACiiigAooooAK87/aN/5N7+KH/Yrap/6SS16JXnf7Rv/JvfxQ/7FbVP/SSWgD0OlpKWgAooooAKKK5D4j/FDRPhXaaVea/KbWwvrqW2N2zKscHl2dxdM7kkcbLV1GMksyjHOQAdfXnXjT4IaP438UnWbnU9VskuI7SHU9Ns5IltdUjtZ2nt0nDRs4Cu758t0Lq219y4Av8Awp+JTfEzSdSuLjQr3w3qOm3a2d3pt+8byRM9tBcp80bFeYrmIkZ4bcvbJ7agDy7xv8AdO8ey3MmoeJvEEDajpP8AYWs/ZJLaP+17HfIwhnzAdmPOmG6DynxK3zdMeoKoRQqgBQMADtS0UAed/s4/8m8/C/8A7FbS/wD0kir0SvO/2cf+Tefhf/2K2l/+kkVR/tJalqmi/s+/EbU9Evp9N1aw0C9vLW7tm2yRSRQtIGU9j8tdWFw7xWIp4dOzm0rvpd2Jk+VNmZ+zX8nhbxXB/wA8PF+tx/leyH+tet14b+yLqh1rwL4ovi243PinUbgn18x1kz/4/XuVedQg6dNQlutPu0OPA/7tD0CiiitzuCiiigAooooAKKKKACiiigAooooAKKKKACiiigAooooAKKKKACiiigAooooAKKKKACiiigAooooAKKKKACiiigAooooAK87/AGjf+Te/ih/2K2qf+kkteiV53+0b/wAm9/FD/sVtU/8ASSWgD0OlpKWgAooooAK8n/aT1vUPDPgay1m2ttHvdOsL7ztStdduLS3tpIjbzrCWluisaBbprSQkMG2o23ccK3rFcZ8TvAN146s9Dl03U7fSdZ0PUl1WwuLyy+223nCGWHEsO+Muuyd8bXRgwVg3y0Ac7+zv/aMnhfWLi88TWnjWyuNSEun+JLR7NxqURtLYSylrVVjOLgXKLkbgiIDnAJ9Vryv4F2cmm6h8SrK9u49Q1yHxMDql3a2Ys7Wa4fTLCUGCDfIY0EUkSkM7sXWRi3zcdJ4m+LfhXwf4mstA1bUpLfU7sQlVSznlihE0phgM8qIY4BJKCiGVlDsCFyQaAOworl/GHxK0DwNeWFnqk1499fK7wWem6bc387RoVDyGO3jdljUugLsAoLqCckV1FAHnf7OP/JvPwv8A+xW0v/0kirX+Lul/238J/GunY3fbNEvbfHrvgdf61kfs4/8AJvPwv/7FbS//AEkirvry1S9tZreQZjmRo2HsRg1vh6ro1oVV9lp/cxNXVj5m/wCCeGonVPgLJcscvJqCSN/vPY2jn9WNfT9fIv8AwTJlf/hQepWsn+stdYELexSytEI/NDX11XRmNL6vj8TRX2alRfdOSODL/wDdor1/NhRRRXAegFFFFABRRRQAUUUUAFFFFABRRRQAUUUUAFFFFABRRRQAUUUUAFFFFABRRRQAUUUUAFFFFABRRRQAUUUUAFFFFABRRRQAV53+0b/yb38UP+xW1T/0klr0SvO/2jf+Te/ih/2K2qf+kktAHodLSUtABRRRQAVxnjL4LfD34japFqXizwJ4Z8UajFCLeO81nR7e7mSIMzCMPIjEKGdjtzjLE9zXZ0UAYHgz4f8Ahf4caXNpvhLw3pHhfTppjcyWei2EVpC8pVVMjJGqgsVRBuIzhQOwrx34tfDrxXrXizxfZ6TocmpaZ4zstIs21dbmCNNKNtcSmdpUd1kYeVIHj8pXJcMG2DDH6BooA+cPjb8PfGviPxYfFnhnTfEcWqXnhl9KsYdO1mCxOlagkzyW9xd4nCzQ5kO5F84EJzE+Rt9217wxB4q0NNO1S4vo1O1pJdK1G50+QsPSSCRHAz23YPfNbNFAHnX7N67f2ePhcBnA8LaWOTn/AJdIq9Frzv8AZx/5N5+F/wD2K2l/+kkVeiUAfIX/AATvY6XpfxZ8PsNsmm+MLwY/2fNkjH/okj8K+va+Of2QLr+yP2mPj/oYG1JtZubsD/aF5NIf0vE/MV9jV6+ca5niZfzTlL/wJuX6nnYD+Dy9nL/0phRRRXkHohRRRQAUUUUAFFFFABRRRQAUUUUAFFFFABRRRQAUUUUAFFFFABRRRQAUUUUAFFFFABRRRQAUUUUAFFFFABRRRQAUUUUAFed/tG/8m9/FD/sVtU/9JJa9Erzv9o3/AJN7+KH/AGK2qf8ApJLQB6HS0lLQAUUUUAFFFFABRRRQAUUUUAed/s4/8m8/C/8A7FbS/wD0kir0SvO/2cf+Tefhf/2K2l/+kkVeiUAfGnw7P/CF/wDBQzxxo5UqutW8uoIxGA6T2tmw/KSynH4V9l18g/tEMnw8/bZ+CHjSQiOx1i3n0O5k6AMrFIy3/ge5+in0r6+r180XNXhXW1SFN/8AgMVTb+c6cjzsL7tStD+9f5NL9bhRRRXkHohRRRQAUUUUAFFFFABRRRQAUUUUAFFFFABRRRQAUUUUAFFFFABRRRQAUUUUAFFFFABRRRQAUUUUAFFFFABRRRQAUUUUAFed/tG/8m9/FD/sVtU/9JJa9Erzv9o3/k3v4of9itqn/pJLQB6HS0lLQAUUUUAFFFFABXzT8avEGrW3jfxrfw67qmnXvhWw0G50PTbS/lgt7mW5vZkk82FWCXAmaNbfEgbbt+Tax3V9LViat4I8Oa/remazqegaXqWsaWS1hqF3ZRy3FoT1MUjKWQnA+6RQB4D+1x8UNX8MXui6ZZt4p0bTrK80rU7nU9D0m/mjvmfUooRZme3iZVXyxM8kbMrOWgQBw7KfoHxDea3Fo4n8O6dY6nqDFStvqt7JYxbT1JdYJWBH93Z9SKlbwxozaPFpJ0mxOlRMjx2Jtk8hGRxIhCY2gq6qwOOGAI5FadAHnX7N+f8Ahnj4XbgAf+EW0vIBz/y6RV6LXnf7OP8Aybz8L/8AsVtL/wDSSKvRKAPmr9vz4a3XjT4FzeINLRm1rwdcf23AEXLNCqMlyB7iJ2kH+1EtexfBr4h2vxW+FvhnxXayxzDUrGOWXyzwk2MSp/wFww/CuvuLeK6gkgmjWWGRSjxuMqykYII7givkDwnFL+wf4+v9H1Tz3+BPiW8WXTNYZi6eG7x/l+z3J6rA+FCyngYUMfvGvoKFGWaYaOHpa1qd+VdZwevKu7jK8lHeXPO2qSfBUi6NdVls1Z/o/wA18z7DoqK1uob61hubaaO4t5kEkc0TBkdSMhlI4II5yKlrwHdaM7wooopAFFFFABRRRQAUUUUAFFFFABRRRQAUUUUAFFFFABRRRQAUUUUAFFFFABRRRQAUUUUAFFFFABRRRQAUUUUAFFFFABXnf7Rv/JvfxQ/7FbVP/SSWvRK87/aN/wCTe/ih/wBitqn/AKSS0Aeh0tJS0AFFFFABRRRQAUUUUAFFFFAHnf7OP/JvPwv/AOxW0v8A9JIq9Erzv9nH/k3n4X/9itpf/pJFXolABVLWtF0/xHpN3peq2VvqOm3cbQ3FpdRiSKVCMFWU8EH3q7RTTad0LfRnyXc/DH4mfsjz3V/8JYG+IHw0dmmm8A6hcsLvTcnLGwmIYlOv7sg+wJJauw+Gf7dHws+IDJZ6lqc3gXW9xifTfFSCz/eDqizEmJjn+EPu9VHSvoSvLvip+zf4I+LTS3epacLHWnXb/atiqpM47LKpBSZeB8sisMele3PM4YrXH0vaS/nT5aj9W1KM/nFSfWZwSp1qOuHd1/K/0f6PT0PS7S8gv7aO4tpo7i3kXcksLhkYHuCOCKmr4quP2XfiB8H7ma88D6lfQWZO9z4Hu0053b/npLpdyJLOU+0Rhz6Vo+G/2oviZ4dvk0bWrPwv4nv1+RbTVppvCery+7Q3KPbOx/6ZTYPtWSwuCxD/ANlxKT/lq/upfe26T+VS/kTHHQi+WsnB+f6Pr8rn2JRXhH/DUlx4bVJfHnwt8a+DNPIy2qraRarZRe7vZSSso/2imPeuw8I/tIfCvx5Pb2+g/EPw3qN5cf6qyj1OJblvbyWYPn221dbJcwow9q6LlD+aPvx/8CjeP4ncqkHpc9HooorxTQKKKKACiiigAooooAKKKKACiiigAooooAKKKKACiiigAooooAKKKKACiiigAooooAKKKKACiiigArzv9o3/AJN7+KH/AGK2qf8ApJLXoled/tG/8m9/FD/sVtU/9JJaAPQ6WkpaACiiigAooooAK8n+IHxyufBfinUbK28Px6nouhwWFzr2pPfmGS0ju53iQww+UwmKCNpJAXjwhXaXY7R6xXk3xA+Btz408Vaje23iGPTNF1yCwtte017AzSXcdpO8qCGbzVEJcSNHISkmUC7QjDcQDV+LnxI134YaZNrsPhyx1bw1YwrNqFxJqrW92MyBdlvB5DrM+CMK0ke4kKCSa67xN4s0PwXpban4h1nT9B01XWM3mp3SW8IY9F3uQMnsM1554++FfjLxt4m8KamPF+hx2Wh5uW0i98PTXFtcXwbMd0Qt7Gcxr9xGLhWJflghT1mgDzr9m9g37PHwuZSCD4W0sgjv/okVei153+zj/wAm8/C//sVtL/8ASSKvRKACiiigAooooAKzPEHhnSPFmnvYa3pdnq9i/wB63vrdJoz/AMBYEVp0UmlJWYmlJWa0PIm/Zp0HR2Mng7XfEfgNs7vI0PU3NqW9TbzeZFj2CiuQ8XfAXxhq1tPbatZ/D/4q2M3zSL4p0NbG8z7TQK67v9rYpz6V9GUVFGDw01Uw0pU5LrFuP5afgcLwVH7CcfR2X3bfgfGH/CkNF8K86h8GvHfhqEfdn8B+NLu8iQ+qwrcRso+kf4Utv4qsvCMwh8N/tF+JvCjE/No/xO0Zr8K393zbhIpgP+2rV9nUyaGO4jaOWNZY2GGRwCD9RXtf25nP/LzFe1XarGNVfdLT8DP6rVj/AA6n3r/5FxPnDRfFnxouo0uPD/j34S/EWH732WKK4sZZh/dSWO4mVSfdCM+lb4+NHxasADqfwA1V0H3n0fxLp11+Su8TH8q7TXPgD8NfEjO+o+BPD88snLTDTokkP1dVDfrWF/wzD4QsP+QBfeJvCZ9NE8QXcKf98GRk/DGKP7YqS/3jBUaj7rng/upuMfvTC2Lj0T/7e/zi/wAzI/4aQ8TD96fgP8RhaR8TP5WnmUH/AGIxd5ce4pB+2b8OLFdniBPFHhG7X/W2uueFtRhaH3d1haMD33Y962P+FOeM9L40T4xeJIkHRNYsrLUB9CTEjfrml/4R/wCNuk8WvjDwfr6+up6HPasfxiuCB+VH9pZfPStl8o/4Klvv5/afgkHtq8d6cv8AyV/lJP8AAyrH9tL4Q6lq1taweKT/AGfcSCCPXpbKeLSfPPIhN46CIORk4LY4Izniuq1f9o74V6DqFhY6h8RfDFtd3xxbxtq0GWz0Jw2FB6AnAJ461z2qP8XrjTZ9P1nwJ4D8VabMuyWzh1aeNJV64ZJrZl/A5rmdN02Twtp9/ZP+zDpllp2oLtvYfD0mlTRXI9JIyIi447g9Kr67kUtXRrQ8rqV/Pm9mrelnfug+ttbp/wDgEv0T/M+ibe4iuoEmglSaGRQySRsGVgehBHUVFY6jaanE0tndQ3cauY2eCQOAw4Kkg9R6V8ezfCn4NRySG8/Z58faRC5zJbWNtcfZD6/uLW6ZCP8AgHNLdeGf2cba686z07xd8ONyLFdQaFZ6zo0NwFHyiZYEVGI5+Y8nPJNL2nD+31uovWlFf+5f6/I+vUvtSS9Xb80j7Kor43t9M/Z+jlC6N8Z/F3hSc/eMPjLUYC/+8LlmU/lXR6b4Z0OZN/hj9q7xAFP8F5relajg/wDbWAt+BNONPJ638HHpf4oNf+kOZpHGUpfDKL9JJn1LRXz5afDf4k6kFe0/aVuruVebfy/D2lPG3/XRVQF/+Asv4VefwD+0Bpo86z+LfhfWZn+R7bU/B7QQxg/xoYrrduHoxIPHSuhZZhZfDj6T+Vb9aVvvOlVG9VF/h/me60V4VH8P/j7oI82w+Lfh3xNI3L2/iLwoIY1buEa1nRgvoG3Ed2NDwftLTA4vPhXamL5gFt9Sl+0n+6cuvlA+o3n2p/2TSl/DxlJrvea/CUIv8B+0fWLPdaK8I/t/9pC1xqMvhH4d3tqnyvodrrV2l1J2LLcvB5Y552lOh+9nipf7e/aN1X97beEPhzoMf/PvqWvXt1J9N0Vsqj680f2LV39tSt/18h91r3+aTXmHtF2f3HuVFeFr8SPjzp+bS6+DOiatdpwdQ03xikVnJ7hZbfzV+hU/WmT+Nf2hNNUarcfDbwhqGmxn97oml+JJW1Jl9Y5JYEhJH90kZ6ZFH9h4j/n7S8v31LX/AMn0+dvMPaLs/uZ7vRXhg/aqjhHl3vwl+KlpdjhoF8KyXAz6CSF3jI992KT/AIaV8QH/AEtfgZ8SDo/Q3BtLIXGfUW32nzCvvjPtS/sDMetNL1lBX9G5a/K4e1h3PdKK8N/4awsF+WT4YfFSKc/dhPg26YsfQMoKfm1Nb9rGxUEN8LvioJV5ki/4Q+4zGv8AeLfdI9lJJxwDT/1fzT/nw/w/zD2sO57pRXg7fto/Dz/j4Fp4t/saP5bzW28K6gtlYv8A3J3aEFTng4BA7kVL/wANt/BfqnjCSfP3fI0i+k8z2TbAdx/3c0f6u5z0wdR+kJP77LT0Ye2p/wAyPc6K8Oj/AG1Pg/HIqaj4mufDzscD+3tGvtPX2+eaFV5+tW7r9sv4H2cXmP8AFDw3IOywXglY/wDAUyf0qHkGbp2eDqf+AS/yD2tP+ZfeezUV5Fo/7XXwV1uNng+KHheDbncl9qUdo4x1+SUq36Vb/wCGpfg+dCutYX4meFn0+1bbLJHqsLMG7KEDbiTg4ABJ7ZrKWS5nF8ssLUT2+CW726D9pD+ZHqVed/tG/wDJvfxQ/wCxW1T/ANJJa7zT76DVLG2vbWQTWtxGs0Ui9GRgCp/EEVwf7Rv/ACb38UP+xW1T/wBJJa8dpxdmaHodLSUtIAooooAKKKKACiiigAooooA87/Zx/wCTefhf/wBitpf/AKSRV6JXnf7OP/JvPwv/AOxW0v8A9JIq9EoAKKKKACiiigAooooAKKKKACiiigAooooAKKKKACiiigAooooAiuLWC8j8ueGOdP7sihh+RrnNS+FvgvWJC9/4Q0G+c9WudMgkP6qa6iiolCMviVyJU4T+JXPM7z9mf4UX27zfh74eXd18mwji/LYBiqH/AAyj8LF/1Phc2Z9bPUbu3P5pKK9borB4XDvemvuRzPBYV70o/cjyT/hmXwva/wDIM1nxhog9LDxRfKP/AB6VqP8Ahnt4ebT4nfES0Pr/AG4s/wCk0T163RS+q0Okbemn5C+pYfpBL00/I8k/4Ur4qtebD4x+L427fbIbC5H5G3FH/CsvifF/qvjNcyf9fXhuxcfjsCV63RR9Vp93/wCBS/zD6nS6OX/gUv8AM8k/4Qn4xWvzQ/FDRL0/887zwqEH5pcg0f2X8crfiPxH4DvB/euNGvIz/wCO3Net0UfVo9JS/wDAn+rD6pDpKX/gUv1Z5J5nx3h4+z/Du7/2vPv4M/hsfH50f2z8cLXmXwv4Hvfa21y6j/8AQ7avW6KPYPpUl+H+QfVn0qy+9fqjyT/hOfjBb8S/CzR7r/atfFaj9Hth/Oj/AIWZ8UE4f4NTsf8Apj4lsmH/AI8Vr1uij2M/+fsv/Jf/AJEPq9T/AJ/S/wDJf/kTyT/hbXj+H/j5+C+ur/176xp0v/tYUf8AC9Natv8Aj9+EPjqI/wDTtBZ3A/8AHbmvW6KPY1OlV/dH/IPYVelZ/dH/ACR5FJ+0AskbJcfDH4hBGGGVtAEgP4LIaq2vx00HT5fNT4aeObFurSp4QnGPclFJr2eirUcRFWVT8BeyxH/P3/yVf5nh2sfGr4da9IsmseC/EF6y4Ikv/Bd3KVx0OWhPSs+T4s/AptetdbutBjg1m0G2DUrrwXdrPAPRZTa5Xp2PavoGito1sdTVoVrLbZ7Pf7QvZYn+eP8A4C//AJIhs7yLULOC6gbfBPGssbFSuVYZBweRwe9cD+0b/wAm9/FD/sVtU/8ASSWvRK87/aN/5N7+KH/Yrap/6SS1R3nodLSUtABRRRQAUUUUAFFFFABRRRQB5jpf7Ofg7Q9Ms9O0+58XWVhZwpb29rb+NtaSOGNFCoiqLvAUAAADoBWVefAG3bx5o81vrPjBfDS6bfJfQnxzrO5rsy2htmH+l7sBFuwcHHzDIPGPY6+afjV4g1a28b+Nb+HXdU0698K2Gg3Oh6baX8sFvcy3N7MknmwqwS4EzRrb4kDbdvybWO6gD1L/AIUP4a/6CfjP/wALnW//AJLo/wCFD+Gv+gn4z/8AC51v/wCS69EooA87/wCFD+Gv+gn4z/8AC51v/wCS6P8AhQ/hr/oJ+M//AAudb/8AkuvRKKAPO/8AhQ/hr/oJ+M//AAudb/8Akuj/AIUP4a/6CfjP/wALnW//AJLr0SigDzv/AIUP4a/6CfjP/wALnW//AJLrA8N/AG3i1nxU2r6z4wl0+TUkfR1XxzrOY7T7HbBlOLsHP2gXLfNk4Yc4wB0HxwuNBsfB8d1r11rqIlwsdnYeHdUubG91G6cFYraNreSN3ZieFLBRjc2FUkeC+H9Q8a6Iy3XijxTqVx458O+JvC3hsWEOoy/ZLu1uoNP+2u9upWOdibu/bzmTd/ooK7QpFAHvP/Ch/DX/AEE/Gf8A4XOt/wDyXR/wofw1/wBBPxn/AOFzrf8A8l16JRQB53/wofw1/wBBPxn/AOFzrf8A8l0f8KH8Nf8AQT8Z/wDhc63/APJdeiUUAed/8KH8Nf8AQT8Z/wDhc63/APJdH/Ch/DX/AEE/Gf8A4XOt/wDyXXolFAHjnxA+ANvc+A/EkPhfWfGFt4lk025TS5pPHOs7Y7sxMIWO67K4D7TyCPUVv/8ACh/DX/QT8Z/+Fzrf/wAl15N+0p8VdX0L4i+FNOg/4SvSNI0vWtIlkm0nSNQkg1eSe7VHgaeCJozGkO4GItmR5l+XMY3Wf2b9f1S61jwLPPr+qa3J4r8Cr4i12LUL6W5S21HzbYAxRuxFsrGe6TykCqPswG3Kk0Aeof8ACh/DX/QT8Z/+Fzrf/wAl0f8ACh/DX/QT8Z/+Fzrf/wAl16JRQB53/wAKH8Nf9BPxn/4XOt//ACXR/wAKH8Nf9BPxn/4XOt//ACXXolFAHnf/AAofw1/0E/Gf/hc63/8AJdH/AAofw1/0E/Gf/hc63/8AJdeiVDeSyQWc8kMfnSojMkecbmA4H40AeReJPgDby6z4VbSNZ8YRafHqTvrCt451nMlp9juQqjN2Tn7QbZvlwcKecZB3/wDhQ/hr/oJ+M/8Awudb/wDkuvmPwH481vxAfhJoniS517TL34irZ6rquq2ni28l822azupjGIwUGmu90ttGEtzgo5TeSpr6a/Z91i91v4X20t9ezam1tqWqafbX1y5klubW31C4t7aVnPLs8EUTFz97O7vQA7/hQ/hr/oJ+M/8Awudb/wDkuj/hQ/hr/oJ+M/8Awudb/wDkuvRKKAPO/wDhQ/hr/oJ+M/8Awudb/wDkuj/hQ/hr/oJ+M/8Awudb/wDkuvRKKAPO/wDhQ/hr/oJ+M/8Awudb/wDkuj/hQ/hr/oJ+M/8Awudb/wDkuvRK8t/aS1LUbD4ZCHSL6Wx1PUNX0ywg8q7ks/PMt7CjQNcx/PbrIpaMzJl0D5UM2FIBneG/gDbxaz4qbVtZ8YS6fJqSPo6r451nMdp9jtgynF2Dn7QLlvmycMOcYA3/APhQ/hr/AKCfjP8A8LnW/wD5Lr5X03xf4oTT/iiuoeKNbtNb+HtgLvRdOg125uIDevqV8Ps7TMytqMe2CzgBuFJHmsCqMwA+7KAPO/8AhQ/hr/oJ+M//AAudb/8Akuj/AIUP4a/6CfjP/wALnW//AJLr0SigDzv/AIUP4a/6CfjP/wALnW//AJLo/wCFD+Gv+gn4z/8AC51v/wCS69EooA87/wCFD+Gv+gn4z/8AC51v/wCS6P8AhQ/hr/oJ+M//AAudb/8Akuu71OxXVNNu7J5Z4EuInhaW1laKVAykbkdeVYZyGHIODXyp4Rmute03wZ4V1rxf4i07w/u8aTyaquu3UV48lhqwgtEku/M81xHBLO+13IYW43BgpFAHqPw/+ANvbeA/DcPijWfGFz4lj022TVJo/HOs7ZLsRKJmG27C4L7jwAPQVq6p+zn4O1zTLvTtQufF17YXkL29xa3HjbWnjmjdSroym7wVIJBB6g14L4f+IHirxNoGm+MNY1vVLDxZY/8ACFRQaRBeSwWsy6h9k+1+ZaqwjlMr3F1HudWKeQCm0oTX2RQAUUUUAFFFFABRRRQAUUUUAFFFFABWJq3gjw5r+t6ZrOp6BpepaxpZLWGoXdlHLcWhPUxSMpZCcD7pFbdFABRRRQAUUUUAFFFFAGB4v+H/AIX+INrbWvinw3pHiW2tpfPgh1ixiu0ik2ld6rIpCttZhkc4JHeoLH4X+DdN1TS9Ts/CWh2upaVb/ZNPvINNhSazhww8qFwuY0wzfKpA+Y+tdNRQAUUUUAFFFFABRRRQBV1DSrLVo4Y76zt71IZo7iJbiJZAkqMGSRQRwysAQw5BAIrO8P8Agjw74TvNTu9E0DS9Gu9Ul8+/n0+zjgku5Mk75WRQXbLNy2TyfWtuigCpq2rWOg6Xeanqd5b6dptlC9zdXl3KsUMESKWeR3YgKqqCSxOAASay/CPxA8L/ABAguJ/C/iTSPEkNuwSaTSL+K6WJiMgMY2OCR2Nct+0tpV7rv7OXxV03TbO41DUbzwpqtvbWlpE0s08r2cqpHGiglmZiAFAJJIArx/4geKZG0/wDB/wlvxP1fT7rxilvqLT6LdaNqElt/ZeoSGGJLeztZJo90SuwjV2GwFSGC0AfVFVdU1Wy0LTbrUdSvLfT9PtY2muLu6lWKKGNRlnd2ICqAMkk4FfH2of8LM/4RqT7SfH39qf2LN/wg32X7Zn7d/aN79m/tfy+M/ZP7K3/AGz5cfaM/Purc+IOj6x4g+Hfxs0zUrbxte+Pryx1+Cxt4otRl0qSyYyCxW1RQbNpDAYOADMZPMz3oA+r6K+WvHnh3xL4dfxTpNprXjRNAtdY0+8ssjWtSe+D2Uont/tNmzXcUPmrHIWjYqjqFK7XKH6E+Hd5eah4A8NXWo6XdaJfzaZbSXGmX1y1zPaSGJS0UkzfNI6nKl25Ygk8mgCm3wh8CNZ6zaHwV4dNrrUgm1OA6VBsvnDFw067MSEMS2WycnNdJpum2mj6fbWFhaw2NjaxrDBa20YjiijUYVFUABVAAAA4GKs0UAFFFFABRRRQAVQ1zQdM8T6Tc6XrOnWmraZdLsnsr6BZoZVznDIwKsMgcEdqv0UAcpH8J/BEK6GqeDfD6LoTmTSVXS4ANPYsGLW/yfuiWAOUxyM11dFFABRRRQAUUUUAQX1jbapY3Fle28V3Z3EbQzW86B45UYEMrKeCpBIIPBBrirX4B/DGy0V9Ht/hz4Tg0iS5W8fT4tDtVt2nAIEpjEe0uASA2M4J5rvKKAMO+8D+HNT8Rafr954f0u717TkMdlqk9lG91bKc5WOUruQfMeFI6n1rcoooAKKKKACiiigAooooAKKKKACiiigAooooAKKKKACiiigAooooAKKKKACiiigAooooAKKKKACiiigAqreaVZalPZTXdnb3U1jN9otZJoldreUo8ZkjJHytskkXcMHa7DoTRRQBaooooAKKKKACiiigAooooAKKKKACiiigAooooAKKKKACiiigAooooAKKKKACiiigAooooA//2Q==)"
      ]
    },
    {
      "cell_type": "markdown",
      "metadata": {
        "id": "dBPfGmmwVxyx"
      },
      "source": [
        "* Se puede tener una muy buena cantidad de datos con los que yo pueda separar una porción para test y otra para train y haga que mi modelo no se aprenda los datos de train.\n",
        "* Contar con los datos completos, no descartar ninguno, y si hay nulos intentar llenarlos con los valores más reales posibles. Al descartar filas o columnas estamos haciendo que el modelo aprenda menos.\n",
        "* Entrenar el modelo de forma adecuada para que el error siempre sea el mínimo posible."
      ]
    },
    {
      "cell_type": "markdown",
      "metadata": {
        "id": "Mbjj0cKQVxyx"
      },
      "source": [
        "3.2 Explique en máximo 5 líneas por que el Kernel radial tiende a hacer más sobreajuste que un Kernel polinomial de grado 3 para el método SVM (5 pts).\n"
      ]
    },
    {
      "cell_type": "markdown",
      "metadata": {
        "id": "msCLIGdLVxyx"
      },
      "source": [
        "** Ingrese aquí la respuesta a la pregunta 3.2 **"
      ]
    },
    {
      "cell_type": "markdown",
      "metadata": {
        "id": "edu4LKm1Vxyx"
      },
      "source": [
        "3.3 Usted realiza utilizando la técnica de PCA una división en 4 componentes principales de unos datos. Obtiene esta imagen. Si puede usar solamente 2 componentes principales cuales escogería usted?  Y aproximadamente que porcentaje de la variación de los datos puede representar utilizando esa elección (5pts).\n",
        "\n",
        "![Imagen3.jpg](data:image/jpeg;base64,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)"
      ]
    },
    {
      "cell_type": "markdown",
      "metadata": {
        "id": "WAwqxt2oVxyx"
      },
      "source": [
        "Seleccionaría los componentes 1 y 2 que me están garantizando la varianza más alta.\n",
        "\n",
        "Puede representar un 80% del porcentaje de la varianza."
      ]
    },
    {
      "cell_type": "markdown",
      "metadata": {
        "id": "J3S7QTisVxyx"
      },
      "source": [
        "3.4 Asuma que estamos utilizando arboles de decisión y tenemos la siguiente tabla. Usted tiene que hacer el primer split para construir el árbol. Haga los cálculos pertinentes usando la impureza de Gini y diga qué característica escogería para el nodo raíz con base a dichos calculos.\n",
        "\n",
        "**NOTA**: La columna verde corresponde a la variable target (10 pts).\n",
        "\n",
        "![imagen4.JPG](data:image/jpeg;base64,/9j/4AAQSkZJRgABAQEAYABgAAD/4RDyRXhpZgAATU0AKgAAAAgABAE7AAIAAAANAAAISodpAAQAAAABAAAIWJydAAEAAAAaAAAQ0OocAAcAAAgMAAAAPgAAAAAc6gAAAAgAAAAAAAAAAAAAAAAAAAAAAAAAAAAAAAAAAAAAAAAAAAAAAAAAAAAAAAAAAAAAAAAAAAAAAAAAAAAAAAAAAAAAAAAAAAAAAAAAAAAAAAAAAAAAAAAAAAAAAAAAAAAAAAAAAAAAAAAAAAAAAAAAAAAAAAAAAAAAAAAAAAAAAAAAAAAAAAAAAAAAAAAAAAAAAAAAAAAAAAAAAAAAAAAAAAAAAAAAAAAAAAAAAAAAAAAAAAAAAAAAAAAAAAAAAAAAAAAAAAAAAAAAAAAAAAAAAAAAAAAAAAAAAAAAAAAAAAAAAAAAAAAAAAAAAAAAAAAAAAAAAAAAAAAAAAAAAAAAAAAAAAAAAAAAAAAAAAAAAAAAAAAAAAAAAAAAAAAAAAAAAAAAAAAAAAAAAAAAAAAAAAAAAAAAAAAAAAAAAAAAAAAAAAAAAAAAAAAAAAAAAAAAAAAAAAAAAAAAAAAAAAAAAAAAAAAAAAAAAAAAAAAAAAAAAAAAAAAAAAAAAAAAAAAAAAAAAAAAAAAAAAAAAAAAAAAAAAAAAAAAAAAAAAAAAAAAAAAAAAAAAAAAAAAAAAAAAAAAAAAAAAAAAAAAAAAAAAAAAAAAAAAAAAAAAAAAAAAAAAAAAAAAAAAAAAAAAAAAAAAAAAAAAAAAAAAAAAAAAAAAAAAAAAAAAAAAAAAAAAAAAAAAAAAAAAAAAAAAAAAAAAAAAAAAAAAAAAAAAAAAAAAAAAAAAAAAAAAAAAAAAAAAAAAAAAAAAAAAAAAAAAAAAAAAAAAAAAAAAAAAAAAAAAAAAAAAAAAAAAAAAAAAAAAAAAAAAAAAAAAAAAAAAAAAAAAAAAAAAAAAAAAAAAAAAAAAAAAAAAAAAAAAAAAAAAAAAAAAAAAAAAAAAAAAAAAAAAAAAAAAAAAAAAAAAAAAAAAAAAAAAAAAAAAAAAAAAAAAAAAAAAAAAAAAAAAAAAAAAAAAAAAAAAAAAAAAAAAAAAAAAAAAAAAAAAAAAAAAAAAAAAAAAAAAAAAAAAAAAAAAAAAAAAAAAAAAAAAAAAAAAAAAAAAAAAAAAAAAAAAAAAAAAAAAAAAAAAAAAAAAAAAAAAAAAAAAAAAAAAAAAAAAAAAAAAAAAAAAAAAAAAAAAAAAAAAAAAAAAAAAAAAAAAAAAAAAAAAAAAAAAAAAAAAAAAAAAAAAAAAAAAAAAAAAAAAAAAAAAAAAAAAAAAAAAAAAAAAAAAAAAAAAAAAAAAAAAAAAAAAAAAAAAAAAAAAAAAAAAAAAAAAAAAAAAAAAAAAAAAAAAAAAAAAAAAAAAAAAAAAAAAAAAAAAAAAAAAAAAAAAAAAAAAAAAAAAAAAAAAAAAAAAAAAAAAAAAAAAAAAAAAAAAAAAAAAAAAAAAAAAAAAAAAAAAAAAAAAAAAAAAAAAAAAAAAAAAAAAAAAAAAAAAAAAAAAAAAAAAAAAAAAAAAAAAAAAAAAAAAAAAAAAAAAAAAAAAAAAAAAAAAAAAAAAAAAAAAAAAAAAAAAAAAAAAAAAAAAAAAAAAAAAAAAAAAAAAAAAAAAAAAAAAAAAAAAAAAAAAAAAAAAAAAAAAAAAAAAAAAAAAAAAAAAAAAAAAAAAAAAAAAAAAAAAAAAAAAAAAAAAAAAAAAAAAAAAAAAAAAAAAAAAAAAAAAAAAAAAAAAAAAAAAAAAAAAAAAAAAAAAAAAAAAAAAAAAAAAAAAAAAAAAAAAAAAAAAAAAAAAAAAAAAAAAAAAAAAAAAAAAAAAAAAAAAAAAAAAAAAAAAAAAAAAAAAAAAAAAAAAAAAAAAAAAAAAAAAAAAAAAAAAAAAAAAAAAAAAAAAAAAAAAAAAAAAAAAAAAAAAAAAAAAAAAAAAAAAAAAAAAAAAAAAAAAAAAAAAAAAAAAAAAAAAAAAAAAAAAAAAAAAAAAAAAAAAAAAAAAAAAAAAAAAAAAAAAAAAAAAAAAAAAAAAAAAAAAAAAAAAAAAAAAAAAAAAAAAAAAAAAAAAAAAAAAAAAAAAAAAAAAAAAAAAAAAAAAAAAAAAAAAAAAAAAAAAAAAAAAAAAAAAAAAAAAAAAAAAAAAAAAAAAAAAAAAAAAAAAAAAAAAAAAAAAAAAAAAAAAAAAAAAAAAAAAAAAAAAAAAAAAAAAAAAAAAAAAAAAAAAAAAAAAAAAAAAAAAAAAAAAAAAAAAAAAAAAAAAAAAAAAAAAAAAAAAAAAAAAAAAAAAAAAAAAAAAAAAAAAAAAAAAAAAAAAAAAAAAAAAAAAAAAAAAAAAAAAAAAAAAAAAAAAAAAAAAAAAAAAAAAAAAAAAAAAAAAAAAAAAAAAAAAAAAAAAAAAAAAAAAAAAAAAAAAAAAAAAAAAAAAAAAAAAAAAAAAAAAAAAAAAAAAAAAAAAAAAAAAAAAAAAAAAAAAAAAAAAAAAAAAAAAAAAAAAAAAAAAAAAAAAAAAAAAAAAAAAAAAAAAAAAAAAAAAAAAAAAAAAAAAAAAAAAAAAAAAAAAAAAAAAAAAAAAAAAAAAAAAAAAAAAAAAAAAAAAAAAAAAAAAAAAAAAAAAAAAAAAAAAAAAAAAAAAAAAAAAAAAAAAAAAAAAAAAAAAAAAAAAAAAAAAAAAAAAAAAAAAAAAAAAAAAAAAAAAAAAAAAAAAAAAAAAAAAAAAAAAAAAAAAAAAAAAAAAAAAAAAAAAAAAAAAAAAAAAAAAAAAAAAAAAAAAAAAAAAAAAAAAAAAAAAAAAAAAAAAAAAAAAAAAAAAAAAAAAAAAAAAAFBhYmxvIFRhbWF5bwAAAAWQAwACAAAAFAAAEKaQBAACAAAAFAAAELqSkQACAAAAAzkzAACSkgACAAAAAzkzAADqHAAHAAAIDAAACJoAAAAAHOoAAAAIAAAAAAAAAAAAAAAAAAAAAAAAAAAAAAAAAAAAAAAAAAAAAAAAAAAAAAAAAAAAAAAAAAAAAAAAAAAAAAAAAAAAAAAAAAAAAAAAAAAAAAAAAAAAAAAAAAAAAAAAAAAAAAAAAAAAAAAAAAAAAAAAAAAAAAAAAAAAAAAAAAAAAAAAAAAAAAAAAAAAAAAAAAAAAAAAAAAAAAAAAAAAAAAAAAAAAAAAAAAAAAAAAAAAAAAAAAAAAAAAAAAAAAAAAAAAAAAAAAAAAAAAAAAAAAAAAAAAAAAAAAAAAAAAAAAAAAAAAAAAAAAAAAAAAAAAAAAAAAAAAAAAAAAAAAAAAAAAAAAAAAAAAAAAAAAAAAAAAAAAAAAAAAAAAAAAAAAAAAAAAAAAAAAAAAAAAAAAAAAAAAAAAAAAAAAAAAAAAAAAAAAAAAAAAAAAAAAAAAAAAAAAAAAAAAAAAAAAAAAAAAAAAAAAAAAAAAAAAAAAAAAAAAAAAAAAAAAAAAAAAAAAAAAAAAAAAAAAAAAAAAAAAAAAAAAAAAAAAAAAAAAAAAAAAAAAAAAAAAAAAAAAAAAAAAAAAAAAAAAAAAAAAAAAAAAAAAAAAAAAAAAAAAAAAAAAAAAAAAAAAAAAAAAAAAAAAAAAAAAAAAAAAAAAAAAAAAAAAAAAAAAAAAAAAAAAAAAAAAAAAAAAAAAAAAAAAAAAAAAAAAAAAAAAAAAAAAAAAAAAAAAAAAAAAAAAAAAAAAAAAAAAAAAAAAAAAAAAAAAAAAAAAAAAAAAAAAAAAAAAAAAAAAAAAAAAAAAAAAAAAAAAAAAAAAAAAAAAAAAAAAAAAAAAAAAAAAAAAAAAAAAAAAAAAAAAAAAAAAAAAAAAAAAAAAAAAAAAAAAAAAAAAAAAAAAAAAAAAAAAAAAAAAAAAAAAAAAAAAAAAAAAAAAAAAAAAAAAAAAAAAAAAAAAAAAAAAAAAAAAAAAAAAAAAAAAAAAAAAAAAAAAAAAAAAAAAAAAAAAAAAAAAAAAAAAAAAAAAAAAAAAAAAAAAAAAAAAAAAAAAAAAAAAAAAAAAAAAAAAAAAAAAAAAAAAAAAAAAAAAAAAAAAAAAAAAAAAAAAAAAAAAAAAAAAAAAAAAAAAAAAAAAAAAAAAAAAAAAAAAAAAAAAAAAAAAAAAAAAAAAAAAAAAAAAAAAAAAAAAAAAAAAAAAAAAAAAAAAAAAAAAAAAAAAAAAAAAAAAAAAAAAAAAAAAAAAAAAAAAAAAAAAAAAAAAAAAAAAAAAAAAAAAAAAAAAAAAAAAAAAAAAAAAAAAAAAAAAAAAAAAAAAAAAAAAAAAAAAAAAAAAAAAAAAAAAAAAAAAAAAAAAAAAAAAAAAAAAAAAAAAAAAAAAAAAAAAAAAAAAAAAAAAAAAAAAAAAAAAAAAAAAAAAAAAAAAAAAAAAAAAAAAAAAAAAAAAAAAAAAAAAAAAAAAAAAAAAAAAAAAAAAAAAAAAAAAAAAAAAAAAAAAAAAAAAAAAAAAAAAAAAAAAAAAAAAAAAAAAAAAAAAAAAAAAAAAAAAAAAAAAAAAAAAAAAAAAAAAAAAAAAAAAAAAAAAAAAAAAAAAAAAAAAAAAAAAAAAAAAAAAAAAAAAAAAAAAAAAAAAAAAAAAAAAAAAAAAAAAAAAAAAAAAAAAAAAAAAAAAAAAAAAAAAAAAAAAAAAAAAAAAAAAAAAAAAAAAAAAAAAAAAAAAAAAAAAAAAAAAAAAAAAAAAAAAAAAAAAAAAAAAAAAAAAAAAAAAAAAAAAAAAAAAAAAAAAAAAAAAAAAAAAAAAAAAAAAAAAAAAAAAAAAAAAAAAAAAAAAAAAAAAAAAAAAAAAAAAAAAAAAAAAAAAAAAAAAAAAAAAAAAAAAAAAAAAAAAAAAAAAAAAAAAAAAAAAAAAAAAAAAAAAAAAAAAAAAAAAAAAAAAAAAAAAAAAAAAAAAAAAAAAAAAAAAAAAAAAAAAAAAAAAAAAAAAAAAAAAAAAAAAAAAAAAAAAAAAAAAAAAAAAAAAAAAAAAAAAAAAAAAAAAAAAAAAAAAAAAAAAAAAAAAAAAAAAAAAAAAAAAAAAAAAAAAAAAAAAAAAAAAAAAAAAAAAAAAAAAAAAAAAAAAAAAAAAAAAAAAAAAAAAAAAAAAAAAAAAAAAAAAAAAAAAAAAAAAAAAAAAAAAAAAAAAAAAAAAAAAAAAAAAAAAAAAAAAAAAAAAAAAAAAAAAAAAAAAAAAAAAAAAAAAAAAAAAAAAAAAAAAAAAAAAAAAAAAAAAAAAAAAAAAAAAAAAAAAAAAAAAAAAAAAAAAAAAAAAAAAAAAAAAAAAAAAAAAAAAAAAAAAAAAAAAAAAAAAAAAAAAAAAAAAAAAAAAAAAAAAAAAAAAAAAAAAAAAAAAAAAAAAAAAAAAAAAAAAAAAAAAAAAAAAAAAAAAAAAAAAAAAAAAAAAAAAAAAAAAAAAAAAAAAAAAAAAAAAAAAAAAAAAAAAAAAAAAAAAAAAAAAAAAAAAAAAAAAAAAAAAAAAAAAAAAAAAAAAAAAAAAAAAAAAAAAAAAAAAAAAAAAAAAAAAAAAAAAAAAAAAAAAAAAAAAAAAAAAAAAAAAAAAAAAAAAAAAAAAAAAAAAAAAAAAAAAAAAAAAAAAAAAAAAAAAAAAAAAAAAAAAAAAAAAAAAAAAAAAAAAAAAAAAAAAAAAAAAAAAAAAAAAAAAAAAAAAAAAAAAAAAAAAAAAAAAAAAAAAAAAAAAAAAAAAAAAAAAAAAAAAyMDIyOjA5OjI3IDAxOjU3OjQyADIwMjI6MDk6MjcgMDE6NTc6NDIAAABQAGEAYgBsAG8AIABUAGEAbQBhAHkAbwAAAP/hCx9odHRwOi8vbnMuYWRvYmUuY29tL3hhcC8xLjAvADw/eHBhY2tldCBiZWdpbj0n77u/JyBpZD0nVzVNME1wQ2VoaUh6cmVTek5UY3prYzlkJz8+DQo8eDp4bXBtZXRhIHhtbG5zOng9ImFkb2JlOm5zOm1ldGEvIj48cmRmOlJERiB4bWxuczpyZGY9Imh0dHA6Ly93d3cudzMub3JnLzE5OTkvMDIvMjItcmRmLXN5bnRheC1ucyMiPjxyZGY6RGVzY3JpcHRpb24gcmRmOmFib3V0PSJ1dWlkOmZhZjViZGQ1LWJhM2QtMTFkYS1hZDMxLWQzM2Q3NTE4MmYxYiIgeG1sbnM6ZGM9Imh0dHA6Ly9wdXJsLm9yZy9kYy9lbGVtZW50cy8xLjEvIi8+PHJkZjpEZXNjcmlwdGlvbiByZGY6YWJvdXQ9InV1aWQ6ZmFmNWJkZDUtYmEzZC0xMWRhLWFkMzEtZDMzZDc1MTgyZjFiIiB4bWxuczp4bXA9Imh0dHA6Ly9ucy5hZG9iZS5jb20veGFwLzEuMC8iPjx4bXA6Q3JlYXRlRGF0ZT4yMDIyLTA5LTI3VDAxOjU3OjQyLjkzMDwveG1wOkNyZWF0ZURhdGU+PC9yZGY6RGVzY3JpcHRpb24+PHJkZjpEZXNjcmlwdGlvbiByZGY6YWJvdXQ9InV1aWQ6ZmFmNWJkZDUtYmEzZC0xMWRhLWFkMzEtZDMzZDc1MTgyZjFiIiB4bWxuczpkYz0iaHR0cDovL3B1cmwub3JnL2RjL2VsZW1lbnRzLzEuMS8iPjxkYzpjcmVhdG9yPjxyZGY6U2VxIHhtbG5zOnJkZj0iaHR0cDovL3d3dy53My5vcmcvMTk5OS8wMi8yMi1yZGYtc3ludGF4LW5zIyI+PHJkZjpsaT5QYWJsbyBUYW1heW88L3JkZjpsaT48L3JkZjpTZXE+DQoJCQk8L2RjOmNyZWF0b3I+PC9yZGY6RGVzY3JpcHRpb24+PC9yZGY6UkRGPjwveDp4bXBtZXRhPg0KICAgICAgICAgICAgICAgICAgICAgICAgICAgICAgICAgICAgICAgICAgICAgICAgICAgICAgICAgICAgICAgICAgICAgICAgICAgICAgICAgICAgICAgICAgICAgICAgICAgIAogICAgICAgICAgICAgICAgICAgICAgICAgICAgICAgICAgICAgICAgICAgICAgICAgICAgICAgICAgICAgICAgICAgICAgICAgICAgICAgICAgICAgICAgICAgICAgICAgICAgCiAgICAgICAgICAgICAgICAgICAgICAgICAgICAgICAgICAgICAgICAgICAgICAgICAgICAgICAgICAgICAgICAgICAgICAgICAgICAgICAgICAgICAgICAgICAgICAgICAgICAKICAgICAgICAgICAgICAgICAgICAgICAgICAgICAgICAgICAgICAgICAgICAgICAgICAgICAgICAgICAgICAgICAgICAgICAgICAgICAgICAgICAgICAgICAgICAgICAgICAgIAogICAgICAgICAgICAgICAgICAgICAgICAgICAgICAgICAgICAgICAgICAgICAgICAgICAgICAgICAgICAgICAgICAgICAgICAgICAgICAgICAgICAgICAgICAgICAgICAgICAgCiAgICAgICAgICAgICAgICAgICAgICAgICAgICAgICAgICAgICAgICAgICAgICAgICAgICAgICAgICAgICAgICAgICAgICAgICAgICAgICAgICAgICAgICAgICAgICAgICAgICAKICAgICAgICAgICAgICAgICAgICAgICAgICAgICAgICAgICAgICAgICAgICAgICAgICAgICAgICAgICAgICAgICAgICAgICAgICAgICAgICAgICAgICAgICAgICAgICAgICAgIAogICAgICAgICAgICAgICAgICAgICAgICAgICAgICAgICAgICAgICAgICAgICAgICAgICAgICAgICAgICAgICAgICAgICAgICAgICAgICAgICAgICAgICAgICAgICAgICAgICAgCiAgICAgICAgICAgICAgICAgICAgICAgICAgICAgICAgICAgICAgICAgICAgICAgICAgICAgICAgICAgICAgICAgICAgICAgICAgICAgICAgICAgICAgICAgICAgICAgICAgICAKICAgICAgICAgICAgICAgICAgICAgICAgICAgICAgICAgICAgICAgICAgICAgICAgICAgICAgICAgICAgICAgICAgICAgICAgICAgICAgICAgICAgICAgICAgICAgICAgICAgIAogICAgICAgICAgICAgICAgICAgICAgICAgICAgICAgICAgICAgICAgICAgICAgICAgICAgICAgICAgICAgICAgICAgICAgICAgICAgICAgICAgICAgICAgICAgICAgICAgICAgCiAgICAgICAgICAgICAgICAgICAgICAgICAgICAgICAgICAgICAgICAgICAgICAgICAgICAgICAgICAgICAgICAgICAgICAgICAgICAgICAgICAgICAgICAgICAgICAgICAgICAKICAgICAgICAgICAgICAgICAgICAgICAgICAgICAgICAgICAgICAgICAgICAgICAgICAgICAgICAgICAgICAgICAgICAgICAgICAgICAgICAgICAgICAgICAgICAgICAgICAgIAogICAgICAgICAgICAgICAgICAgICAgICAgICAgICAgICAgICAgICAgICAgICAgICAgICAgICAgICAgICAgICAgICAgICAgICAgICAgICAgICAgICAgICAgICAgICAgICAgICAgCiAgICAgICAgICAgICAgICAgICAgICAgICAgICAgICAgICAgICAgICAgICAgICAgICAgICAgICAgICAgICAgICAgICAgICAgICAgICAgICAgICAgICAgICAgICAgICAgICAgICAKICAgICAgICAgICAgICAgICAgICAgICAgICAgICAgICAgICAgICAgICAgICAgICAgICAgICAgICAgICAgICAgICAgICAgICAgICAgICAgICAgICAgICAgICAgICAgICAgICAgIAogICAgICAgICAgICAgICAgICAgICAgICAgICAgICAgICAgICAgICAgICAgICAgICAgICAgICAgICAgICAgICAgICAgICAgICAgICAgICAgICAgICAgICAgICAgICAgICAgICAgCiAgICAgICAgICAgICAgICAgICAgICAgICAgICAgICAgICAgICAgICAgICAgICAgICAgICAgICAgICAgICAgICAgICAgICAgICAgICAgICAgICAgICAgICAgICAgICAgICAgICAKICAgICAgICAgICAgICAgICAgICAgICAgICAgICAgICAgICAgICAgICAgICAgICAgICAgICAgICAgICAgICAgICAgICAgICAgICAgICAgICAgICAgICAgICAgICAgICAgICAgIAogICAgICAgICAgICAgICAgICAgICAgICAgICAgICAgICAgICAgICAgICAgICAgICAgICAgICAgICAgICAgICAgICAgICAgICAgICAgICAgICAgICAgICAgICAgICAgICAgICAgCiAgICAgICAgICAgICAgICAgICAgICAgICAgICA8P3hwYWNrZXQgZW5kPSd3Jz8+/9sAQwAHBQUGBQQHBgUGCAcHCAoRCwoJCQoVDxAMERgVGhkYFRgXGx4nIRsdJR0XGCIuIiUoKSssKxogLzMvKjInKisq/9sAQwEHCAgKCQoUCwsUKhwYHCoqKioqKioqKioqKioqKioqKioqKioqKioqKioqKioqKioqKioqKioqKioqKioqKioq/8AAEQgBuQFgAwEiAAIRAQMRAf/EAB8AAAEFAQEBAQEBAAAAAAAAAAABAgMEBQYHCAkKC//EALUQAAIBAwMCBAMFBQQEAAABfQECAwAEEQUSITFBBhNRYQcicRQygZGhCCNCscEVUtHwJDNicoIJChYXGBkaJSYnKCkqNDU2Nzg5OkNERUZHSElKU1RVVldYWVpjZGVmZ2hpanN0dXZ3eHl6g4SFhoeIiYqSk5SVlpeYmZqio6Slpqeoqaqys7S1tre4ubrCw8TFxsfIycrS09TV1tfY2drh4uPk5ebn6Onq8fLz9PX29/j5+v/EAB8BAAMBAQEBAQEBAQEAAAAAAAABAgMEBQYHCAkKC//EALURAAIBAgQEAwQHBQQEAAECdwABAgMRBAUhMQYSQVEHYXETIjKBCBRCkaGxwQkjM1LwFWJy0QoWJDThJfEXGBkaJicoKSo1Njc4OTpDREVGR0hJSlNUVVZXWFlaY2RlZmdoaWpzdHV2d3h5eoKDhIWGh4iJipKTlJWWl5iZmqKjpKWmp6ipqrKztLW2t7i5usLDxMXGx8jJytLT1NXW19jZ2uLj5OXm5+jp6vLz9PX29/j5+v/aAAwDAQACEQMRAD8A0vEfiPXIPFWqxQazqEccd7MqIl04VQHIAAB4FZv/AAlHiD/oOal/4Fyf40eKP+Rv1j/r/n/9GNWVX2NOnDkWi2PBlKXM9TV/4SjxB/0HNS/8C5P8aP8AhKPEH/Qc1L/wLk/xrKrlvE2o3C3xhsZLlWsoRcsIEdg77htR9owAVVuvHIpVfZ048zihw55uyZ33/CUeIP8AoOal/wCBcn+NH/CUeIP+g5qX/gXJ/jWNbXCXVrFcQnMcqB1PqCM1JWip02rpIjml3NX/AISjxB/0HNS/8C5P8a0tU8R65Hp2jNHrOoK0lkzOVunBc/aJhk88nAA+gFcxWrq//IL0L/rwb/0pnqJU4Xjot/0ZSlKz1D/hKPEH/Qc1L/wLk/xo/wCEo8Qf9BzUv/AuT/GsqitPZw7Innl3NX/hKPEH/Qc1L/wLk/xo/wCEo8Qf9BzUv/AuT/GsquZ8RfbJtZS3s5XX/QZZMC6eEKwIAb5epGeh4rKooU483KXDmk7XO7/4SjxB/wBBzUv/AALk/wAaP+Eo8Qf9BzUv/AuT/Guf0m5+2aNaXG5nMkKsWcYLHHUgVbq4wpySaSJcpJ2uav8AwlHiD/oOal/4Fyf40f8ACUeIP+g5qX/gXJ/jWVRVezh2QueXc6fXvEeuQ6jEsOs6hGpsrViFunAJNvGSevUkkn3NZv8AwlHiD/oOal/4Fyf40eIv+QpD/wBeFn/6TR1lVnTpw5FotipSlzPU1f8AhKPEH/Qc1L/wLk/xo/4SjxB/0HNS/wDAuT/GsqitPZw7Innl3NX/AISjxB/0HNS/8C5P8aP+Eo8Qf9BzUv8AwLk/xrKrB0ljfT3d3eXc0c0N60KxiYqiKCAqlPunIPUjJzx2rOUYRaXKtSk5NN3Oz/4SjxB/0HNS/wDAuT/Gj/hKPEH/AEHNS/8AAuT/ABrKorT2cOyJ55dzV/4SjxB/0HNS/wDAuT/Gj/hKPEH/AEHNS/8AAuT/ABrKoo9nDsg55dzuPB2v6xdXOpC51a+mCWW5RJcu20+dEMjJ4OCR+Jre/tbUf+ghdf8Af5v8a5HwP/x9ap/14f8AteKrXi+eW28FazPbSvDNHZSskkbFWUhDggjoa/OOJOZZgoQdrpfmzpg5NJXOk/tbUf8AoIXX/f5v8aP7W1H/AKCF1/3+b/GvNob/AFfQvD+iPEkQutXvYLYyXV/cXqhXiY+Zhyu05GdoOD0z3FCbUdQ8Ra94cW/+xOLfUL2OSL7KzpI8AYBwpfrt+7nO1ucnpXhKnVbvz6a/hf8AyNeWXc9Y/tbUf+ghdf8Af5v8aP7W1H/oIXX/AH+b/GvLE8deJm8K3PiBtItxYm1M8EjbdqNvACHErM/BPO1MEdKua34q8Q6VdXVtGdMd7PR/7TkdreTDnzGXywPM44A+bJ5B45wq9lXvbm/EOWfc9H/tbUf+ghdf9/m/xo/tbUf+ghdf9/m/xrzO68daxZXF1ZSWtrPdGazS3aFCFUXAY4YNIAxG3AO5AxI+7Ul54i8SGOLTL60stNu5re7mkluV3K8UeNu1UkIViG5+dtuCeaPZV+svx8ri5Z9z0j+1tR/6CF1/3+b/ABo/tbUf+ghdf9/m/wAa8e0rxje6L4T0eLT447iK1s7Q3cbwfdEsm0fvDKpBIzgCN8Y568W9T1m+1nxBo7zNax2lv4ka1igVG84GNWG5m3Y5yTgKMZXk5q/YVk9Zaa/gPklfc9W/tbUf+ghdf9/m/wAaP7W1H/oIXX/f5v8AGqlFcXtan8zM+Z9y3/a2o/8AQQuv+/zf40f2tqP/AEELr/v83+NVKKPa1P5mHM+5b/tbUf8AoIXX/f5v8aP7W1H/AKCF1/3+b/GqlFHtan8zDmfct/2tqP8A0ELr/v8AN/jWp4b1G9n8QW0c95cSI27KvKxB+Q9iawK1/C3/ACMtr/wP/wBAat8NUm68E291+ZUJPnWp5l4o/wCRv1j/AK/5/wD0Y1ZVavij/kb9Y/6/5/8A0Y1ZVfs9P4F6HHP4mFMWCFJJJFiRXlx5jBRl8DAye/HFPorQkbFDHBEsUEaxxqMKiKAAPYCnUUUAFaur/wDIL0L/AK8G/wDSmesqtXV/+QXoX/Xg3/pTPUS3j6/oyo7MyqKKKskKr3WnWV6yte2dvcMowpliV8fmKsUUmk1Zgm1sAAVQFAAAwAO1FFFMAooooA1fEX/IUh/68LP/ANJo6yq1fEX/ACFIf+vCz/8ASaOsqs6fwL0Kn8TCiiitCQqA2No14LtrWE3K9JjGN44x97r0qeik0nuF2gooopgFFFFAHUeB/wDj61T/AK8P/a8Vb88EVzbyQXMSTQyKVeORQysD1BB6isDwP/x9ap/14f8AteKujr8y4o/39f4V+bOiPwozrfw9otmFFppFhAFkWZRFbIuHUEBuB94AnB68mp49MsIpUlisbZJI3eRHWFQVZ/vsDjgt3PfvVqivmHKT3Zd2Zo8OaGJLhxo2nh7kFZ2FqmZQSCQxx82SAee4qxNplhcSSPcWVvK8kPkOzxKxePOdhyOVyTx0q1RRzy7hdlKXR9MnWZZ9OtJFuFVJg8CkSKv3Q2RyB2B6VH/wj+jC2htxpFj5ED+ZFF9mTbG395RjAPuK0aKfPLuF2ZsnhzQ5WhaXRtPdrdBHCWtUJjUEkKvHAGTwPWpDoulm+N6dNszdswc3HkL5hYDAO7Gcj1q9RRzy7hdhRRRUCCiiigAooooAK1/C3/Iy2v8AwP8A9Aasitfwt/yMtr/wP/0Bq6MN/Hh6r8y6fxo8y8Uf8jfrH/X/AD/+jGrKr2vUfhp4cv8AVLq8uNRu0muJnlkVZ4wAzMSQAV9TVb/hVPhf/oKXv/gRF/8AEV+twzCgopO/3ClhajbZ47RXsX/CqfC//QUvf/AiL/4ij/hVPhf/AKCl7/4ERf8AxFV/aNDz+4n6pUPHaK9i/wCFU+F/+gpe/wDgRF/8RR/wqnwv/wBBS9/8CIv/AIij+0aHn9wfVKh47Wrq/wDyC9C/68G/9KZ69N/4VT4X/wCgpe/+BEX/AMRVm5+Gnhy4t7OKXUbtVtoTFGRPGNymR3yfl55cj8KmWYUG1v8Ad5FLC1LM8Uor2L/hVPhf/oKXv/gRF/8AEUf8Kp8L/wDQUvf/AAIi/wDiKr+0aHn9xP1SoeO0V7F/wqnwv/0FL3/wIi/+Io/4VT4X/wCgpe/+BEX/AMRR/aNDz+4PqlQ8dor2L/hVPhf/AKCl7/4ERf8AxFH/AAqnwv8A9BS9/wDAiL/4ij+0aHn9wfVKh47RXsX/AAqnwv8A9BS9/wDAiL/4ij/hVPhf/oKXv/gRF/8AEUf2jQ8/uD6pUPMvEX/IUh/68LP/ANJo6yq9rvvhp4cvbhZZ9Ru1ZYYogFnjHypGqKeV7hQarf8ACqfC/wD0FL3/AMCIv/iKmGYUFFJ3+4qWFqNtnjtFexf8Kp8L/wDQUvf/AAIi/wDiKP8AhVPhf/oKXv8A4ERf/EVX9o0PP7ifqlQ8dor2L/hVPhf/AKCl7/4ERf8AxFH/AAqnwv8A9BS9/wDAiL/4ij+0aHn9wfVKh47RXsX/AAqnwv8A9BS9/wDAiL/4ij/hVPhf/oKXv/gRF/8AEUf2jQ8/uD6pUPHaK9i/4VT4X/6Cl7/4ERf/ABFH/CqfC/8A0FL3/wACIv8A4ij+0aHn9wfVKhwvgf8A4+tU/wCvD/2vFXR102l+AfD2jNcy2+o3LCaHypDJPGQq71bPCjHKgfjVn/hHPD//AEE2/wDAiP8Awr4nPaMsZi1VpbWS107myoTSSZyFFdf/AMI54f8A+gm3/gRH/hR/wjnh/wD6Cbf+BEf+FeF/Ztfy+8PYyOQorr/+Ec8P/wDQTb/wIj/wo/4Rzw//ANBNv/AiP/Cj+za/l94exkchRXX/APCOeH/+gm3/AIER/wCFH/COeH/+gm3/AIER/wCFH9m1/L7w9jI5Ciuv/wCEc8P/APQTb/wIj/wo/wCEc8P/APQTb/wIj/wo/s2v5feHsZHIUV1//COeH/8AoJt/4ER/4Uf8I54f/wCgm3/gRH/hR/Ztfy+8PYyOQorr/wDhHPD/AP0E2/8AAiP/AAo/4Rzw/wD9BNv/AAIj/wAKP7Nr+X3h7GRyFFdf/wAI54f/AOgm3/gRH/hR/wAI54f/AOgm3/gRH/hR/Ztfy+8PYyOQrX8Lf8jLa/8AA/8A0Bq2P+Ec8P8A/QTb/wACI/8ACrel6Lo9pqUU9nfGWZc7U85GzkEHgDPStaGArQqxk7aNdS4UZKSZXu/+P6f/AK6N/Ooamu/+P6f/AK6N/OvBPFkd7pHiLx34isvMmtXzpmoW684jktI/LlH+4559mNfZXsjq3PdaK8dtX8O/2tfj4jG0+yLo9l/ZS6iBs8ryP3xh3f8ALTf12/Nwtd/8Pl1VPh9oy+IBMNQFsBMLjPmDk7d2ed23Gc85601K4WOjoooqhBU03+pt/wDrmf8A0Nqhqab/AFNv/wBcz/6G1JjIaK8x+JelX+qeOPDj6LL5ep2Npd3tn/deSNoTsb2Ybl/GuZ0jVLXV49L1DXI/s/hm91/UZr+K8GIUkYKYEnzxgMW68bgKnm1sFj3SiuH+HaxDUvEraKFHhtr1P7M8kYgJ8sCbyu2zzM/d+XOcd67iqTugCiiimIKKKKAJrr/XL/1zT/0AVDU11/rl/wCuaf8AoAryjx1Jb6Z4+tdVEmn6pdBbeEaNd7lu1zIdstmR3JI3YGMIcnsJvZDPUaK4v4af8e/if/sZb/8A9GCu0pp3QBRRRTEFFFFABRRRQAk3/IOu/wDrmv8A6GtYlbc3/IOu/wDrmv8A6GtcL46/5J9r/wD2D5//AEA14eOV66XkY1NZI36K8XtV1fSNY0/w9biSW4sdNvp9JnIz5kcsIMaf7yOpX6ba0dK/sh5PB58KmF9d85W1Vocef5Xlnzzckc/fK/f/AIsYrldK3UXIer0UUVgZhRRRQAUUUUAFFFFABRRRQAUUUUAFafh3/kPW/wDwL/0E1mVp+Hf+Q9b/APAv/QTWlL+JH1Kh8SL93/x/T/8AXRv51DU13/x/T/8AXRv51DX1C2OoKKKKYgooooAKmm/1Nv8A9cz/AOhtUNTTf6m3/wCuZ/8AQ2pMZDRRRTEFFFFABRRRQAUUUUATXX+uX/rmn/oAqGprr/XL/wBc0/8AQBUNJbDCiiimIKKKKACiiigAooooASb/AJB13/1zX/0NaxK25v8AkHXf/XNf/Q1rErwsw/ir0MKm4UUUV55mFFFFABRRRQAUUUUAFFFFABRRRQAUUUUAFafh3/kPW/8AwL/0E1mVp+Hf+Q9b/wDAv/QTWlL+JH1Kh8SL93/x/T/9dG/nUNbM0EBnkLQKSWOTubnn60z7Pb/8+6/99N/jX0qmrHXYyaK1vs9v/wA+6/8AfTf40fZ7f/n3X/vpv8aOdBYyaK1vs9v/AM+6/wDfTf40fZ7f/n3X/vpv8aOdBYyamm/1Nv8A9cz/AOhtWh9nt/8An3X/AL6b/GnvBAUjzApwvHzNxyfejnQWMaitb7Pb/wDPuv8A303+NH2e3/591/76b/GjnQWMmitb7Pb/APPuv/fTf40fZ7f/AJ91/wC+m/xo50FjJorW+z2//Puv/fTf40fZ7f8A591/76b/ABo50FjJorW+z2//AD7r/wB9N/jR9nt/+fdf++m/xo50FjPuv9cv/XNP/QBUNbMsEBcZgU/Kv8Teg96Z9nt/+fdf++m/xoU1YLGTRWt9nt/+fdf++m/xo+z2/wDz7r/303+NHOgsZNFa32e3/wCfdf8Avpv8aPs9v/z7r/303+NHOgsZNFa32e3/AOfdf++m/wAaPs9v/wA+6/8AfTf40c6Cxk0VrfZ7f/n3X/vpv8aPs9v/AM+6/wDfTf40c6CxkTf8g67/AOua/wDoa1iV2ZtbZ4JVa3XayjI3Nz8w96q/2ZYf8+af99v/APFV5WMpupUuuxlODbOWorqf7MsP+fNP++3/APiqP7MsP+fNP++3/wDiq5Pq8u6I9mzlqK6n+zLD/nzT/vt//iqP7MsP+fNP++3/APiqPq8u6D2bOWorqf7MsP8AnzT/AL7f/wCKo/syw/580/77f/4qj6vLug9mzlqK6n+zLD/nzT/vt/8A4qj+zLD/AJ80/wC+3/8AiqPq8u6D2bOWorqf7MsP+fNP++3/APiqP7MsP+fNP++3/wDiqPq8u6D2bOWorqf7MsP+fNP++3/+Ko/syw/580/77f8A+Ko+ry7oPZs5aiup/syw/wCfNP8Avt//AIqj+zLD/nzT/vt//iqPq8u6D2bOWrT8O/8AIet/+Bf+gmtb+zLD/nzT/vt//iqsafY2cN9HJDbKjjOGDMccH1NVChJTTuONNppk8v8Arn/3jXCReNb0fE2fw7qMllpsQcLaW91byiS/j8sEyRT58skMwHl7SeG5447uX/XP/vGubvPB8Goa7bahf6pqNxBaXYvLfT3kTyIpgpUMDs8zjJIUuVBPTGBXsnSM+HviK78WeANK1zUY4Yrm8jZpEgUhAQ7LwCSeg9a6Ssrwv4dtPCfhmz0PTpJpbazUrG87AuQWLckADqfStWgAooopgFPf7sf+7/U0ynv92P8A3f6mkBw/jzxjfeFtR0yJGtLDT7oP5uqXtrLPDHICoSJvLZfL3bvvscDB4ODV7w54mutZ8YeJtLlW2+y6U1oLaSHJLiWASMS2cNyeCAOKueI/DI8R2728mr6lYW80D29xDZvGFuI24IbejYOMjcm08nnpg0Pwnp3h7VNSvtNMynURbq8TsCkawxCJAnGfugZyTzQBt0UUUwCiiigAooooAfJ94f7q/wAhXCeIfGt7o3j6z0e5kstM064jjMN1fW8rJeyMzbolmUhImVVz8wbJYcciu7k+8P8AdX+Qrm9f8HweJJiuoapqIsJGiafTY5E8iYxvuBOULrkhchGUHHTqSugDPBniK78RQ6217HDGdP1m6sIvJUjdHE+FLZJ+b1IwPYV0lZWgeHbTw6moLZSTSDUL+a/l85gdskrZYLgD5fQHJ9zWrQAUUUUwCiiigAooooAcP9XJ/u/1FZPiG+vNL8N6hfaXYtqF5bW7yw2q5zKwGQoxyT7Dk9BWsP8AVyf7v9RVK+tfttjNbC4ntjIhUTW7bZIz2ZSQRkHnkEeoI4rlq/ES9zz20+I93caXoU9rfaVqUl/r0OmXJhtpYGgVkcsrRO5ZJAyYBJII5xXpVcgPhxpr3kd7eahqN5frqcOpyXczxh5ZIozHGjBUChArHhVB966+snboIKKKKQgooooAKKKKACiiigAooooAKKKKACprT/j6T8f5VDU1p/x9J+P8qcd0NbhL/rn/AN40yny/65/940yu4sKKKKYBRRRQAU9/ux/7v9TTKe/3Y/8Ad/qaQDKKKKYBRRRQAUUUUAFFFFAD5PvD/dX+QplPk+8P91f5CmUgCiiimAUUUUAFFFFABRRRQA4f6uT/AHf6ioqlH+rk/wB3+oqKuSt8RLCiiisiQooooAKKKKACiiigAooooAKKKKACiiigAqa0/wCPpPx/lUNTWn/H0n4/ypx3Q1uMmngE8gadQQxyNrcc/SmfaLf/AJ+F/wC+W/wrPu/+P6f/AK6N/OuebxloK6nqunNqCi70iD7RexeW+Yo9oYt0+bgj7ueor0uVWHdnY/aLf/n4X/vlv8KPtFv/AM/C/wDfLf4Vxd5410KxKCW6mlZ7cXRW2s5p2SIjIdxGjFAfVsdD6Gtm0u7e+s4rqymSe3mQPHLG25XU8gg0+Vdwuzb+0W//AD8L/wB8t/hR9ot/+fhf++W/wrJoo5EFzW+0W/8Az8L/AN8t/hT3ngCR5nUZXj5W55PtWNU03+pt/wDrmf8A0NqORBc0PtFv/wA/C/8AfLf4UfaLf/n4X/vlv8K5XVvEml6HPDDqM8izTqzpFDBJM+1fvMVRSQoyMscAetTWes2GoalfWFncCW508xi5QKw2b13pyRg5U54Jo5F3C7Ok+0W//Pwv/fLf4UfaLf8A5+F/75b/AArJoo5EFzW+0W//AD8L/wB8t/hR9ot/+fhf++W/wrJoo5EFzW+0W/8Az8L/AN8t/hR9ot/+fhf++W/wrJoo5EFzZlngDjM6j5V/hb0HtTPtFv8A8/C/98t/hWfdf65f+uaf+gCsS88TaTY6ummXFy/2twrFI4JJBGGbapdlUrGCeAWIzS5FYLs6v7Rb/wDPwv8A3y3+FH2i3/5+F/75b/Cuc0zWLHWFum06fzhaXMlpN8jLslQ4ZeQM4PccVdp8iC5rfaLf/n4X/vlv8KPtFv8A8/C/98t/hWTRRyILmt9ot/8An4X/AL5b/Cj7Rb/8/C/98t/hWTRRyILmt9ot/wDn4X/vlv8ACj7Rb/8APwv/AHy3+FZNFHIgua5urZIJWa4XaqjJ2tx8w9qq/wBp2H/P4n/fD/8AxNUZv+Qdd/8AXNf/AENa567u7ews5bu9mSC3hQvJI5wFUdSa8rF1HTqcq7GU5tM6/wDtOw/5/E/74f8A+Jo/tOw/5/E/74f/AOJrz2PxXo8kNtKbiWMXV0tpCs1tLGzSspZRtZQQCASCRj3rZrkdea3RHtJLodT/AGnYf8/if98P/wDE0f2nYf8AP4n/AHw//wATXLUUfWJdkHtGdT/adh/z+J/3w/8A8TR/adh/z+J/3w//AMTXLUUfWJdkHtGdT/adh/z+J/3w/wD8TR/adh/z+J/3w/8A8TXLUUfWJdkHtGdT/adh/wA/if8AfD//ABNH9p2H/P4n/fD/APxNctRR9Yl2Qe0Z1P8Aadh/z+J/3w//AMTR/adh/wA/if8AfD//ABNctRR9Yl2Qe0Z1P9p2H/P4n/fD/wDxNH9p2H/P4n/fD/8AxNctRR9Yl2Qe0Z1P9p2H/P4n/fD/APxNWNPvrOa+jjhuVdznChGGeD6iuOrT8O/8h63/AOBf+gmqhXk5pWHGo20i/d/8f0//AF0b+deQeKvAGuX1/wCJtZ0W2VdTmn2WgMqAXdtJbJFLGeeOQSN2MFc969fu/wDj+n/66N/Ooa+gtdG2x53pGl6/4U1XUryLQZdXGpWFmqrBcQqYJYYfLMb+Y6/KTzld3U8V0/gnQJ/C/gnS9Gu5kmntIdsjx52liSTjPOBnA4HSt2ihKwBRRRVCCppv9Tb/APXM/wDobVDU03+pt/8Armf/AENqTGcJ8QNFvtSa2udF0/UG1a3ik+xahp17HAYHJU7JVdgGiYhSRhzgEYGeZ/CWi6vp3izxLf6wiEX/ANiMc6Mu2Zo7dUkIA5UbweoFddRStrcLhRRRVCCiiigAooooAmuv9cv/AFzT/wBAFee+LtD1a58Twaj4Zsr611QeSn9pQXka2skQc7kuImOW2hmI2oTyvPGB6Fdf65f+uaf+gCoam10M5jwPo99o8OurqMHkm71y7u4fnVt8TvlW4JxkdjzXT0UU1oAUUUUxBRRRQAUUUUAJN/yDrv8A65r/AOhrXLa1ape6He20tl9vjmhZHtfM2GYEcqG7EjocjnHI6jqZv+Qdd/8AXNf/AENaxK8PH6Vl6GNT4jzWHw34jf8As2N4rx7Cz16C5t4tQuYpLiCBY33lnViCNzAKNzMBXpVFFcMpOW5m3cKKKKgQUUUUAFFFFABRRRQAUUUUAFFFFABWn4d/5D1v/wAC/wDQTWZWn4d/5D1v/wAC/wDQTWlL+JH1Kh8SL93/AMf0/wD10b+dQ1Nd/wDH9P8A9dG/nUNfULY6gooopiCiiigAqab/AFNv/wBcz/6G1Q1NN/qbf/rmf/Q2pMZDRRRTEFFFFABRRRQAUUUUATXX+uX/AK5p/wCgCoamuv8AXL/1zT/0AVDSWwwooopiCiiigAooooAKKKKAEm/5B13/ANc1/wDQ1rErbm/5B13/ANc1/wDQ1rErwsw/ir0MKm4UUUV55mFFFFABRRRQAUUUUAFFFFABRRRQAUUUUAFafh3/AJD1v/wL/wBBNZlafh3/AJD1v/wL/wBBNaUv4kfUqHxI6WUJ5z5jjPzHkxqf6Uzan/PKL/v2v+FPl/1z/wC8a8Y8QfEPxH4f8YeLEurtf7Ejje00+TyU/wBDvPsqzR5O3LByWA3Z5AHA6/QX0O09k2p/zyi/79r/AIUbU/55Rf8Aftf8K820bWPEHjDVtSsodem0dNJ0+zbzLe3gZrieeDzTI/mIwCDgAKF/i56V0/gDxBc+KvAOka1fRJFc3cG6VUBC7gSpIB6A4z+NFwOi2p/zyi/79r/hRtT/AJ5Rf9+1/wAKKKYBtT/nlF/37X/CnuE2x/u4/u/8819T7Uynv92P/d/qaAGbU/55Rf8Aftf8KNqf88ov+/a/4V5v8S/FXiPw34n0FtBbzbGOC4vNSsliVmuIImiDbSRkMquzcEdO/Ss7TPHOr+ItU07StO1fy4NX1nUVi1KGGNnjtLdVdFjDKVJYMBuZWOMnrSuB6ztT/nlF/wB+1/wo2p/zyi/79r/hXI+DdY1KfxB4l0HVbttQOi3USw3rxojypLEJArhAF3LnGQBnjiuupgG1P+eUX/ftf8KNqf8APKL/AL9r/hRRQAbU/wCeUX/ftf8ACjan/PKL/v2v+FFFAD5Qm4ZjjPyr1jX0HtTNqf8APKL/AL9r/hT5PvD/AHV/kK8u8VeNtb8N/FeJXnVvC1tZ27alF5a5g86SVBPuxu2qyICM4wencK+gHp21P+eUX/ftf8KNqf8APKL/AL9r/hXlHhPxT4h8XXWh6RLrMtg0mitql3e20EJmnbz2iVAHRkVRjJwufu+prrfh9rl/reh3y6tKtxdabqVzpzXKoE+0CJ9okwOASOuOM5wB0ouB1W1P+eUX/ftf8KNqf88ov+/a/wCFFFMA2p/zyi/79r/hRtT/AJ5Rf9+1/wAKKKADan/PKL/v2v8AhRtT/nlF/wB+1/woooAXZG0UoMMRG0ZHlrg8j2qDyLf/AJ9bf/vwv+FWB/q5P93+orJ8QtqqeG9Qfw7HHJqq27m0SXG1pMfKDkgdfUgevFclbWRLL3kW/wDz62//AH4X/CjyLf8A59bf/vwv+FeVQ+N9TFtodrHqWpDUG8R21jqVvqtjDFcRxyRSMUOxQhVigZWUZwetesVk42JsM8i3/wCfW3/78L/hR5Fv/wA+tv8A9+F/wp9FKyAZ5Fv/AM+tv/34X/CjyLf/AJ9bf/vwv+FPoosgGeRb/wDPrb/9+F/wo8i3/wCfW3/78L/hT6KLIBnkW/8Az62//fhf8KPIt/8An1t/+/C/4U+iiyAZ5Fv/AM+tv/34X/CjyLf/AJ9bf/vwv+FPoosgGeRb/wDPrb/9+F/wo8i3/wCfW3/78L/hT6KLIBnkW/8Az62//fhf8KnsooVvEKQQo3OCsSgjj1AqOprT/j6T8f5U4pXQ1uEv+uf/AHjWBqHgvw/qtpqttqGnLPDq8iS3qtI/710VVVhz8pARfu46Vvy/65/940yu8s5y+8A+HdQZWms54mFqLNmtb2e3MsIGAjmN13gDj5s1v21tBZWsVtZwR29vCgSOKJAqIoGAABwAPSpKKYBRRRQAU9/ux/7v9TTKe/3Y/wDd/qaQGfcaPYXWrW2p3FuJLu1ikhikLHCpJt3jbnBztXqO1Y0Pw68LWujw6ZaaX9ntoLlruDyLmWOSGU9WSRWDpnphSBjiumooAz9G0LTvD9o9vpVv5SyytNK7yNJJNIxyXeRyWdvdiTgAdAK0KKKYBRRRQAUUUUAPk+8P91f5Csi78NaRf3d9c3lks0t/aCyuS7MRJCCxCYzgcu3IGeevSteT7w/3V/kKZSA5sfD/AMNpZada29lNbLpkbRWklrezwyxI3JXzUcOVJ7EkVsaTpNhoelwadpNslraQLtSNP1JJ5JJ5JOSSSSSTVyigAooopgFFFFABRRRQA4f6uT/d/qKpX1lb6lYzWd4heCZCjgMVOPUMCCpHUEEEHkHNXR/q5P8Ad/qKirkrfESznofAvh6HymFjJJLFfJqAmnupZZWnRSiO0jMWbCkgBiR7V0NFFZEhRRRQAUUUUAFFFFABRRRQAUUUUAFFFFABU1p/x9J+P8qhqa0/4+k/H+VOO6Gtwl/1z/7xplE08AnkDTqCGORtbjn6Uz7Rb/8APwv/AHy3+Fd9mWPopn2i3/5+F/75b/Cj7Rb/APPwv/fLf4UWYh9FM+0W/wDz8L/3y3+FH2i3/wCfhf8Avlv8KLMB9Pf7sf8Au/1NQ/aLf/n4X/vlv8Ke88ASPM6jK8fK3PJ9qLMYUUz7Rb/8/C/98t/hR9ot/wDn4X/vlv8ACizEPopn2i3/AOfhf++W/wAKPtFv/wA/C/8AfLf4UWYD6KZ9ot/+fhf++W/wo+0W/wDz8L/3y3+FFmA+imfaLf8A5+F/75b/AAo+0W//AD8L/wB8t/hRZgTSfeH+6v8AIUyiWeAOMzqPlX+FvQe1M+0W/wDz8L/3y3+FFmMfRTPtFv8A8/C/98t/hR9ot/8An4X/AL5b/CizEPopn2i3/wCfhf8Avlv8KPtFv/z8L/3y3+FFmA+imfaLf/n4X/vlv8KPtFv/AM/C/wDfLf4UWYD6KZ9ot/8An4X/AL5b/Cj7Rb/8/C/98t/hRZgSj/Vyf7v9RUVKbq2SCVmuF2qoydrcfMPaqv8Aadh/z+J/3w//AMTXHWaUtWTJos0VW/tOw/5/E/74f/4mj+07D/n8T/vh/wD4mseaPdE3Xcs0VW/tOw/5/E/74f8A+Jo/tOw/5/E/74f/AOJo5o90F13LNFVv7TsP+fxP++H/APiaP7TsP+fxP++H/wDiaOaPdBddyzRVb+07D/n8T/vh/wD4mj+07D/n8T/vh/8A4mjmj3QXXcs0VW/tOw/5/E/74f8A+Jo/tOw/5/E/74f/AOJo5o90F13LNFVv7TsP+fxP++H/APiaP7TsP+fxP++H/wDiaOaPdBddyzRVb+07D/n8T/vh/wD4mj+07D/n8T/vh/8A4mjmj3QXXcs1Naf8fSfj/KqH9p2H/P4n/fD/APxNWNPvrOa+jjhuVdznChGGeD6inGUbrUaavuULv/j+n/66N/OsRfE2kvrj6RHcu92jBHCQSGNHK7gjSBdgbHO0tn2rbu/+P6f/AK6N/OvPbnQ9Wi+IkWo6DZX2nJNdA6nMbyNrK8hEYG7yiS4l+VVyFUDB5Ocn19bIZ1+j6xY6/pEGp6TP9os7hS0Uuxl3AEjowBHIPUVdrmPhvo99oHw70nTNWg+z3lvGyyxb1baS7HqpIPBHQ109NbAFFFFMQVNN/qbf/rmf/Q2qGppv9Tb/APXM/wDobUmMxdW8SaXoc8MOozyLNOrOkUMEkz7V+8xVFJCjIyxwB61NZ6zYahqV9YWdwJbnTzGLlArDZvXenJGDlTngmuY+IGi32pNbXOi6fqDatbxSfYtQ069jgMDkqdkquwDRMQpIw5wCMDPM/hLRdX07xZ4lv9YRCL/7EY50ZdszR26pIQByo3g9QKV3cOh11FFFUIKKKKACiiigCa6/1y/9c0/9AFYknibSIvFEXh2S9VdWmg+0R2xRvnTnkNjb/CeM546Vt3X+uX/rmn/oArzXxZ4L1TWPGF5remxrFeWdjbSaXdM64NzHJKWjIznayuFOeDu9qnW2gzpj420H7HY3MV3LcLfqz20dtaTTSyKv3mEaKXCjHJIx09a09K1Wx1vTYr/S7hbi2lztdQRyDggg8gg8EEAg9a858K+HPEPhe60TVJ9GlvWTRm065tLe4h823fz2lDAu6owOQDhs8Cus8C6Le6Not22qIkN1qN/PqD26PvFv5rbhHuHBIHUjjOcZHJSbYHS0UUVYgooooAKKKKAEm/5B13/1zX/0Na5y/vrfTNPuL69k8q2to2llfaTtUDJOByePSujm/wCQdd/9c1/9DWuN8WWNxqfg7V7Gyj825ubOWKJNwG5ipAGTwOfWvDx1nXV+xjU+JC2nifRr6LT5LW+WSPUY5JbVtrAOsf3ySR8uM9Dio7LxdouoXkNta3Uhe43fZ3ktpY459vXy5GUK/r8pORz0rhz4A1iDXPsdiFi0aaxutj+YM2dxPEEdQM527gGGBgZNatvpGtalb+FtNutIbTY9DminnuXmiZJPKjKKkQRixDbs/MFwB68VyuEOjFyx7ne0UUVgZhRRRQAUUUUAFFFFABRRRQAUUUUAFafh3/kPW/8AwL/0E1mVp+Hf+Q9b/wDAv/QTWlL+JH1Kh8SL93/x/T/9dG/nUNTXf/H9P/10b+dQ19QtjqCiiimIKKKKACppv9Tb/wDXM/8AobVDU03+pt/+uZ/9DakxkNFFFMQUUUUAFFFFABRRRQBNdf65f+uaf+gCoamuv9cv/XNP/QBUNJbDCiiimIKKKKACiiigAooooASb/kHXf/XNf/Q1rErbm/5B13/1zX/0NaxK8LMP4q9DCpuFFFFeeZhRRRQAUUUUAFFFFABRRRQAUUUUAFFFFABWn4d/5D1v/wAC/wDQTWZWn4d/5D1v/wAC/wDQTWlL+JH1Kh8SL93/AMf0/wD10b+dQ1vyyyCZwHYDce9M82T/AJ6N/wB9V9Ip6HXYw6K3PNk/56N/31R5sn/PRv8Avqjn8gsYdFbnmyf89G/76o82T/no3/fVHP5BYw6mm/1Nv/1zP/obVrebJ/z0b/vqnvLIFT525X19zRzhYwKK3PNk/wCejf8AfVHmyf8APRv++qOfyCxh0VuebJ/z0b/vqjzZP+ejf99Uc/kFjDorc82T/no3/fVHmyf89G/76o5/ILGHRW55sn/PRv8AvqjzZP8Ano3/AH1Rz+QWMm6/1y/9c0/9AFQ1vySyBhh2+6O/tTPNk/56N/31Qp6BYw6K3PNk/wCejf8AfVHmyf8APRv++qOfyCxh0VuebJ/z0b/vqjzZP+ejf99Uc/kFjDorc82T/no3/fVHmyf89G/76o5/ILGHRW55sn/PRv8AvqjzZP8Ano3/AH1Rz+QWMKb/AJB13/1zX/0NaxK7oSyeXJ87cLxz7iovOl/56P8A99GvMxVP2lS97Gc4Xe5xVFdr50v/AD0f/vo0edL/AM9H/wC+jXL9XXcj2XmcVRXa+dL/AM9H/wC+jR50v/PR/wDvo0fV13D2XmcVRXa+dL/z0f8A76NHnS/89H/76NH1ddw9l5nFUV2vnS/89H/76NHnS/8APR/++jR9XXcPZeZxVFdr50v/AD0f/vo0edL/AM9H/wC+jR9XXcPZeZxVFdr50v8Az0f/AL6NHnS/89H/AO+jR9XXcPZeZxVFdr50v/PR/wDvo0edL/z0f/vo0fV13D2XmcVWn4d/5D1v/wAC/wDQTXRedL/z0f8A76NTWssjXKhnYjngn2q4UEpJ3HGnZp3GS/65/wDeNeZXF/qOi/FCO41ee6vdL1O/W00+4s9SPl20nl4NvLa8KeQ7eYMsMDJHQemy/wCuf/eNZo0HR11ptYXSrEaoww18LZPPI27f9Zjd90Y69OK9Y6DnPhHfXepfCfQrzUbqa7uZYXMk88hd3PmMOWPJ4FdlUFlY2mm2cdnp1rDaW0QxHBBGERBnPCjgcmp6ACiiimAU9/ux/wC7/U0ynv8Adj/3f6mkB5b8ULvxHbeMfD0nhe7uBJaWt1fy2CSssd8sTQ7o2A4JKM+Mg89MZzWFofiq58U3+jWw1e+j0TW9d1JjMty8UjRxqrwQCQENGDu+6pB+Ur3r2Z7O2kvIruS2he5hVkimaMF0VsbgG6gHAyB1wKpP4Z0GTTH02TRNOaxeQyvataRmJnzncUxgn3xmiwHOeA7u5/4SLxZpAvLi+0zS76OOzmuZmmdS0SvJEZGJZtjHHzEkZxXbVXsNPstKsY7LS7OCytYs+XBbxLGiZJJwqgAZJJ+pqxQAUUUUwCiiigB8n3h/ur/IV5l42v8AUdD8YR65dT3V34fgFvDLFYakYJLCZpPvvBws6vujGGyQCcDufTZPvD/dX+QrNutB0e91SDU73SrG4v7cAQ3ctsjyxAEkbXIyMEk8HuaXQDnPhvfXd9b+Jje3U1yYfEl9DEZpC/lxrIAqLnoo7AcCuyqC1sbSxEosrWG2E0rTSiGMJ5kjHLO2OrHuTyanoAKKKKYBRRRQAUUUUAOH+rk/3f6iuZ8f3M9n8OfENzZzSW88OmzvHLE5VkYRkggjkEetdMP9XJ/u/wBRVW5toLy1ltryGO4gmQpJFKgZXUjBBB4IPpXLV+Il7nh9l4t8S6Rf2WhX13dXeraPpmo3Ks0jEajEYBJbSMP4mBDKc5wVPPNbtpdXGnWvw/1TTtc1DUL/AF65jjvo5r6SaO5jeFnmdYixSPYwGNgXaOK9OOl6eb6G9Njbfa7eMxQz+SvmRoeqq2MgewqtYeG9D0q+lvdL0bT7K7mBWS4t7VI5HBIJBZQCckA/UVndBc06KKKkkKKKKACiiigAooooAKKKKACiiigAqa0/4+k/H+VQ1Naf8fSfj/KnHdDW4S/65/8AeNMp8v8Arn/3jTK7iwooopgFFFFABT3+7H/u/wBTTKe/3Y/93+ppAMooopgFFFFABRRRQAUUUUAPk+8P91f5CmU+T7w/3V/kKZSAKKKKYBRRRQAUUUUAFFFFADh/q5P93+oqKpR/q5P93+oqKuSt8RLCiiisiQooooAKKKKACiiigAooooAKKKKACiiigAqa0/4+k/H+VQ1Naf8AH0n4/wAqcd0NbkM95brcSKxkyHIOEHr9aZ9utvWX/vgf41Su/wDj+n/66N/OudtvFNve+IrnSrSxvZhaSiC4u0RfJikKbwp+bf0xyF28jmvT5VYd2df9utvWX/vgf40fbrb1l/74H+Ncz4b1+18UeHbTWdPjmjt7tSyLOoDgBiOQCR29a06fKguzT+3W3rL/AN8D/Gj7dbesv/fA/wAazKKORBc0/t1t6y/98D/GnyXluEiJMmGTI+Qf3j71k1NN/qbf/rmf/Q2pciC5d+3W3rL/AN8D/Gj7dbesv/fA/wAa5HWfFEGkapa6alleahe3UbzLBaKhYRpjcx3so7jgEsewqfTfEFpqmuarpdvHOs+lNCszSKAreZGHXbznoecgc0cqC7On+3W3rL/3wP8AGj7dbesv/fA/xrMop8iC5p/brb1l/wC+B/jR9utvWX/vgf41mUUciC5p/brb1l/74H+NH2629Zf++B/jWZRRyILmtNeW6uAxkzsU8IP7o96Z9utvWX/vgf41Suv9cv8A1zT/ANAFcxdeNtKs/Hlr4TuROl/dW/nxSFR5Tfe+XdnO75G4xjjrS5VYLs7T7dbesv8A3wP8aPt1t6y/98D/ABrgrb4gWGoQaadK0/UL+61GB7mKzhWJZEhVtpdy7qijdgfeySeB1rY0HXrTxFpYvrESIBI0UsUy7ZIZFOGRhzgg8cEj0Jo5YhdnS/brb1l/74H+NH2629Zf++B/jWZRT5EFzT+3W3rL/wB8D/Gj7dbesv8A3wP8azKKORBc0/t1t6y/98D/ABo+3W3rL/3wP8azKKORBc021C2S3mc+btVAT8gz94D196pf25Y+lx/37X/4qoJv+Qdd/wDXNf8A0Na5jVtSh0fR7zUrpXeG0heaRYwCxVRk4yQM8eteTjJyhVUY9jKc2nZHXf25Y+lx/wB+1/8AiqP7csfS4/79r/8AFV5xYeO9H1G00y5hMyQ6jFPKrSKB5IhAMgk54Iz2zS2XjW0u59PElhf2ltqZ22N3cIgjuDjcoG1yy7lBI3KuR78Vy+0q9iOaZ6N/blj6XH/ftf8A4qj+3LH0uP8Av2v/AMVXO0VHt5i9ozov7csfS4/79r/8VR/blj6XH/ftf/iq52ij28w9ozov7csfS4/79r/8VR/blj6XH/ftf/iq52ij28w9ozov7csfS4/79r/8VR/blj6XH/ftf/iq52ij28w9ozov7csfS4/79r/8VR/blj6XH/ftf/iq52ij28w9ozov7csfS4/79r/8VR/blj6XH/ftf/iq52ij28w9ozov7csfS4/79r/8VVvTdVtLnUIoofO3tnG5AB0J9a5KtPw7/wAh63/4F/6CaunWk5pDjUbki/d/8f0//XRv51wl/wCEL698f2muW9vp1gbe4DS6jbTyLcXcATHkyRBQh5CjcWPCjAHQd3d/8f0//XRv51DX0Nro3Oe8B6BdeF/A2maNqEkMlxaRsrtAxKElyeCQD39K6GiimtBBRRRTAKmm/wBTb/8AXM/+htUNTTf6m3/65n/0NqTGcX498LXXii0igtbDTJ5I0YwXdzPJBNYzcbZI2RWLcgErlclRkntP4X8M32ieItdv767juk1EWgjkyfMYxQCNmcEYBLAngnrXT0UWV7gFFFFMQUUUUAFFFFAE11/rl/65p/6AK4HxN4DuPEGu6jqCXMNvI1lbrp84J8y2uoZJHWTGMY+cDrnBYYrvrr/XL/1zT/0AVDU2uhnnXh/wRr/hiTSL+yOm3l7b6WdOvLeW4kijYea0qukgjY5BYggr0rp/B/h+fw9pE6X08c17fXkt9dNECI1llbcypnnaOgJ5OM4GcDeooSSC4UUUVQgooooAKKKKAEm/5B13/wBc1/8AQ1rkfEmmzax4W1PTbVkSa7tZIY2kJChmUgZwCcc+lddN/wAg67/65r/6GtYleHj3asn5GNTSSPPJfhrO/iJ5obuKLSrqynjuYFJ3JPNF5ckiDGDuwpOSOR71ftvDOuXa+H7PWmsI7PQ5UnEtrK7yXLxoUjyrIBGMMSeW54HrXaUVxe0kyOZhRRRWZIUUUUAFFFFABRRRQAUUUUAFFFFABWn4d/5D1v8A8C/9BNZlafh3/kPW/wDwL/0E1pS/iR9SofEi/d/8f0//AF0b+dQ1burW4a8mKwSEGRiCEPPNRfZLn/n3l/74NfTpqx1ENFTfZLn/AJ95f++DR9kuf+feX/vg07oCGipvslz/AM+8v/fBo+yXP/PvL/3waLoCGppv9Tb/APXM/wDobUfZLn/n3l/74NSzWtwYoAIJCRGQfkPHzNSugKlFTfZLn/n3l/74NH2S5/595f8Avg07oCGipvslz/z7y/8AfBo+yXP/AD7y/wDfBougIaKm+yXP/PvL/wB8Gj7Jc/8APvL/AN8Gi6Ahoqb7Jc/8+8v/AHwaPslz/wA+8v8A3waLoAuv9cv/AFzT/wBAFQ1buLW4aUFYJCPLQcIf7oqL7Jc/8+8v/fBpJqwENFTfZLn/AJ95f++DR9kuf+feX/vg07oCGipvslz/AM+8v/fBo+yXP/PvL/3waLoCGipvslz/AM+8v/fBo+yXP/PvL/3waLoCGipvslz/AM+8v/fBo+yXP/PvL/3waLoCCb/kHXf/AFzX/wBDWsSuhms7k2F0ot5SzRgAbDk/OprH/s2+/wCfK4/79N/hXiY9N1dOxhUTuVqKs/2bff8APlcf9+m/wo/s2+/58rj/AL9N/hXByy7GdmVqKs/2bff8+Vx/36b/AAo/s2+/58rj/v03+FHLLsFmVqKs/wBm33/Plcf9+m/wo/s2+/58rj/v03+FHLLsFmVqKs/2bff8+Vx/36b/AAo/s2+/58rj/v03+FHLLsFmVqKs/wBm33/Plcf9+m/wo/s2+/58rj/v03+FHLLsFmVqKs/2bff8+Vx/36b/AAo/s2+/58rj/v03+FHLLsFmVqKs/wBm33/Plcf9+m/wo/s2+/58rj/v03+FHLLsFmVq0/Dv/Iet/wDgX/oJqr/Zt9/z5XH/AH6b/CtHQbG7h1uB5rWaNBuyzRkAfKe9aU4y51p1KinzIsXf/H9P/wBdG/nUNTXf/H9P/wBdG/nXm3xY0aTX/wDhGtNguWtZ5tSYwzr/AMs5FglZG/BlFfS3sjp6nodFeDx6xeauNWvdYt5LO0bX7GHXoudqRpbiOUPj/lkZEGf9kjtXc+DF0/8A4WBrbeERbjw59kgDmxAFqbvJ3eXt+Qt5ezdt/wBnPNJSuFjv6KKKsQVNN/qbf/rmf/Q2qGppv9Tb/wDXM/8AobUmMhorzH4l6Vf6p448OPosvl6nY2l3e2f915I2hOxvZhuX8a5nSNUtdXj0vUNcj+z+Gb3X9Rmv4rwYhSRgpgSfPGAxbrxuAqebWwWPdKK4f4drENS8StooUeG2vU/szyRiAnywJvK7bPMz935c5x3ruKpO6AKKKKYgooooAmuv9cv/AFzT/wBAFQ1Ndf65f+uaf+gCvIPGEV9Z/Fm48SaUJJZ9D0q3mmtU/wCXm3aSYSoP9rGGHutTeyGes0V4h4Wk0p08LDxkbX/hHjokjWn9o7fsrXfntuzv+XeI8Yz2LYrvvhisw8KTZEo09r+4OliUEH7GX/c4zzt2/d9sY4xSUrhY7GiiirEFFFFABRRRQAk3/IOu/wDrmv8A6GtYlbc3/IOu/wDrmv8A6GtcL46/5J9r/wD2D5//AEA14eOV66XkY1NZI36K8XtV1fSNY0/w9biSW4sdNvp9JnIz5kcsIMaf7yOpX6ba0dK/sh5PB58KmF9d85W1Vocef5Xlnzzckc/fK/f/AIsYrldK3UXIer0UUVgZhRRRQAUUUUAFFFFABRRRQAUUUUAFafh3/kPW/wDwL/0E1mVp+Hf+Q9b/APAv/QTWlL+JH1Kh8SL93/x/T/8AXRv51DU13/x/T/8AXRv51DX1C2OoKKKKYgooooAKmm/1Nv8A9cz/AOhtUNTTf6m3/wCuZ/8AQ2pMZDRRRTEFFFFABRRRQAUUUUATXX+uX/rmn/oAqGprr/XL/wBc0/8AQBUNJbDCiiimIKKKKACiiigAooooASb/AJB13/1zX/0NaxK25v8AkHXf/XNf/Q1rErwsw/ir0MKm4UUUV55mFFFFABRRRQAUUUUAFFFFABRRRQAUUUUAFafh3/kPW/8AwL/0E1mVp+Hf+Q9b/wDAv/QTWlL+JH1Kh8SL93/x/T/9dG/nUNW7prf7ZNuikJ8xskSAd/8AdqLdbf8APKX/AL+j/wCJr6dbHUQ0VNutv+eUv/f0f/E0brb/AJ5S/wDf0f8AxNO4ENFTbrb/AJ5S/wDf0f8AxNG62/55S/8Af0f/ABNFwIamm/1Nv/1zP/obUbrb/nlL/wB/R/8AE1LM1v5UGYpMeWcfvBx8zf7NICpRU262/wCeUv8A39H/AMTRutv+eUv/AH9H/wATTuBDRU262/55S/8Af0f/ABNG62/55S/9/R/8TRcCGipt1t/zyl/7+j/4mjdbf88pf+/o/wDiaLgQ0VNutv8AnlL/AN/R/wDE0brb/nlL/wB/R/8AE0XALr/XL/1zT/0AVDVu4a380bopCfLTpIP7o/2ai3W3/PKX/v6P/iaS2Ahoqbdbf88pf+/o/wDiaN1t/wA8pf8Av6P/AImncCGipt1t/wA8pf8Av6P/AImjdbf88pf+/o/+JouBDRU262/55S/9/R/8TRutv+eUv/f0f/E0XAhoqbdbf88pf+/o/wDiaN1t/wA8pf8Av6P/AImi4EE3/IOu/wDrmv8A6GtYldDM1t9gusxS7fLGR5oyfnX/AGax/Msf+fa4/wDAhf8A4ivEx6vV+RhU3K1FWfMsf+fa4/8AAhf/AIijzLH/AJ9rj/wIX/4iuCy7mditRVnzLH/n2uP/AAIX/wCIo8yx/wCfa4/8CF/+Iosu4WK1FWfMsf8An2uP/Ahf/iKPMsf+fa4/8CF/+Iosu4WK1FWfMsf+fa4/8CF/+Io8yx/59rj/AMCF/wDiKLLuFitRVnzLH/n2uP8AwIX/AOIo8yx/59rj/wACF/8AiKLLuFitRVnzLH/n2uP/AAIX/wCIo8yx/wCfa4/8CF/+Iosu4WK1FWfMsf8An2uP/Ahf/iKPMsf+fa4/8CF/+Iosu4WK1afh3/kPW/8AwL/0E1V8yx/59rj/AMCF/wDiK0dBe0OtwCGGZX+bBaYMB8p7bR/OtKaXOtepUV7yLF3/AMf0/wD10b+defXfxPhsvFev6JcaYyPpdpJcW0xn+W8aOFZXjHy/KQrj+9xzXoN3/wAf0/8A10b+dcB4h+GUHiC21xZNRaCfUruO6gnSHLWrLEsRH3vnDKCCOOGx2r6TW2h0lmLxpqGqXU1r4c0WG9ms7OG5uxcXpgVGlTekSERtvbbychQMj1re8O65beJfDtlrFgHWC8iEiq4+ZexB9wQRXPxeCdS0q7ubnw5rsNlLe2cNvdfaLEzhnij8tJUxIu1tvY7hwK6HQNDtPDfh+z0fTt/2azjEaGQ5Zu5JIxySSeAOtNX6hoaNFFFUIKmm/wBTb/8AXM/+htUNTTf6m3/65n/0NqTGcl4n8YHQNa03SobW2kuNQWR43vLwWsbbCo2KxVt0hLjC4H1FXNI8RHVPE2u6QbQwHSGgXzDJu83zYhJ0x8uM46nNQeMPDV14o019PS9tIbSeJo5o7qwFzgnpJGd67HHOCdw6HAxyvh3wmnh3WNWvYrx501BbZVjdPmjEMIiGWz8xOM5wKWtw0sdDRRRVCCiiigAooooAmuv9cv8A1zT/ANAFcXqXj6HS/iRZeFruxZYryFGS/wDN+VZXL7IyuP4vLODnr2rtLr/XL/1zT/0AVx2veBLfxBqGq3N3dsi39hFaoEjw1u8bu6yq2eoLDjA6deanW2gyppnxAuddXS7fRdHik1G+smvpYbi8McVvCJDGCZBGxLFhgAL2PPFbvhfxCviTSpLn7M1pcW9xJaXVuzhvKmjba6hh94Z6HAyOw6Vz+k/D280AaVcaPrcSahY2LWE0tzZGSK5iMhkH7sSKVIYnkNXQ+GPD0fhvSWthcPdXFxPJdXdy6hTNNIdzttHCjPQc4GOT1KV+oaGxRRRViCiiigAooooASb/kHXf/AFzX/wBDWuU13U/7F8P3+qeT5/2O3efyt23ftUnGcHHTriurm/5B13/1zX/0Na5TXdM/trw/f6X53kfbLd4PN27tm5SM4yM9ema8PHW9ur9jGp8Suc1p3xItL2y0+5ms2tlniu2vFaTLWbW6gupGPm4Oe3GKs2vjG8LaPPqekJaWGtSCO0lW68yRWZS0YkTYAu5QejNg8e9QT/Dizn8Sf2m126wTWL2l1arHgTFo/LMgOflJXAPBzgVYs/B95u0eHV9XS9stGYSWkMdp5Ts6rtjaR97Btqk/dVck5PpXK/Z9Be4dXRRRWBmFFFFABRRRQAUUUUAFFFFABRRRQAVp+Hf+Q9b/APAv/QTWZWn4d/5D1v8A8C/9BNaUv4kfUqHxIv3f/H9P/wBdG/nUNTXf/H9P/wBdG/nUNfULY6gooopiCiiigAqab/U2/wD1zP8A6G1Q1NN/qbf/AK5n/wBDakxkNFFFMQUUUUAFFFFABRRRQBNdf65f+uaf+gCoamuv9cv/AFzT/wBAFQ0lsMKKKKYgooooAKKKKACiiigBJv8AkHXf/XNf/Q1rErbm/wCQdd/9c1/9DWsSvCzD+KvQwqbhRRRXnmYUUUUAFFFFABRRRQAUUUUAFFFFABRRRQAVp+Hf+Q9b/wDAv/QTWZWn4d/5D1v/AMC/9BNaUv4kfUqHxI1Lq1uGvJisEhBkYghDzzUX2S5/595f++DXU0V9D7VnbynLfZLn/n3l/wC+DR9kuf8An3l/74NdTRR7VhynLfZLn/n3l/74NH2S5/595f8Avg11NFHtWHKct9kuf+feX/vg1LNa3BigAgkJEZB+Q8fM1dJRR7VhynLfZLn/AJ95f++DR9kuf+feX/vg11NFHtWHKct9kuf+feX/AL4NH2S5/wCfeX/vg11NFHtWHKct9kuf+feX/vg0fZLn/n3l/wC+DXU0Ue1Ycpy32S5/595f++DR9kuf+feX/vg11NFHtWHKc3cWtw0oKwSEeWg4Q/3RUX2S5/595f8Avg11NFHtWHKct9kuf+feX/vg0fZLn/n3l/74NdTRR7VhynLfZLn/AJ95f++DR9kuf+feX/vg11NFHtWHKct9kuf+feX/AL4NH2S5/wCfeX/vg11NFHtWHKct9kuf+feX/vg0fZLn/n3l/wC+DXU0Ue1Ycpys1ncmwulFvKWaMADYcn51NY/9m33/AD5XH/fpv8K9Corir0VWlzNkSpKTPPf7Nvv+fK4/79N/hR/Zt9/z5XH/AH6b/CvQqKx+px7k+xXc89/s2+/58rj/AL9N/hR/Zt9/z5XH/fpv8K9Coo+px7h7Fdzz3+zb7/nyuP8Av03+FH9m33/Plcf9+m/wr0Kij6nHuHsV3PPf7Nvv+fK4/wC/Tf4Uf2bff8+Vx/36b/CvQqKPqce4exXc89/s2+/58rj/AL9N/hR/Zt9/z5XH/fpv8K9Coo+px7h7Fdzz3+zb7/nyuP8Av03+FH9m33/Plcf9+m/wr0Kij6nHuHsV3PPf7Nvv+fK4/wC/Tf4Uf2bff8+Vx/36b/CvQqKPqce4exXc89/s2+/58rj/AL9N/hWjoNjdw63A81rNGg3ZZoyAPlPeuxqjrf8AyL+o/wDXrL/6AaccLGMk7gqKTvc//9k=)"
      ]
    },
    {
      "cell_type": "markdown",
      "metadata": {
        "id": "pq3N7_OZVxyx"
      },
      "source": [
        "Evaluando la característica A con se tiene:\n",
        "\n",
        "Tiene enfermedad:\n",
        "* SI = 1\n",
        "* NO = 3\n",
        "\n",
        "Impureza de GINI = 1 - (1/(1+3))^2 - (3/(1+3))^2 = 0,375\n",
        "\n",
        "No es A:\n",
        "\n",
        "Tiene enfermedad:\n",
        "* SI = 2\n",
        "* NO = 3\n",
        "\n",
        "Impureza de GINI = 1 - (2/(2+3))^2 - (3/(2+3))^2 = 0,48\n",
        "\n",
        "Impureza de Gini total = (4/4+5) x 0,375 + (5/5+4) * 0,48 = 0,43333\n",
        "\n",
        "Está casi cercano a 0,5, escogería otra característica que me asegure un mejor valor para Gini.\n",
        "\n",
        "\n",
        "\n"
      ]
    }
  ],
  "metadata": {
    "kernelspec": {
      "display_name": "Python 3.9.5 64-bit (system)",
      "language": "python",
      "name": "python3"
    },
    "language_info": {
      "codemirror_mode": {
        "name": "ipython",
        "version": 3
      },
      "file_extension": ".py",
      "mimetype": "text/x-python",
      "name": "python",
      "nbconvert_exporter": "python",
      "pygments_lexer": "ipython3",
      "version": "3.9.5"
    },
    "orig_nbformat": 4,
    "vscode": {
      "interpreter": {
        "hash": "f902c6369f6d128e7e6e629bc6d5649fd00c914d236d3e6091aae5db1b708c83"
      }
    },
    "colab": {
      "provenance": [],
      "toc_visible": true
    }
  },
  "nbformat": 4,
  "nbformat_minor": 0
}